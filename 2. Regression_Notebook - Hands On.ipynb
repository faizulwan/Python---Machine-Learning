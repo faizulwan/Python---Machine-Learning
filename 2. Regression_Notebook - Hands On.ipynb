{
 "cells": [
  {
   "cell_type": "markdown",
   "metadata": {
    "colab_type": "text",
    "id": "mMHGM_9Srsdz"
   },
   "source": [
    "# Python Excercise :  Simple Linear Regression"
   ]
  },
  {
   "cell_type": "markdown",
   "metadata": {
    "colab_type": "text",
    "id": "OQgb8X3i2wi4"
   },
   "source": [
    "> ## Table of Contents"
   ]
  },
  {
   "cell_type": "markdown",
   "metadata": {
    "colab_type": "text",
    "id": "3-0quExuzW0_"
   },
   "source": [
    "![image.png](data:image/png;base64,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)"
   ]
  },
  {
   "cell_type": "markdown",
   "metadata": {
    "colab_type": "text",
    "id": "TyI-M72W2sup"
   },
   "source": [
    "\n",
    "> ## Library"
   ]
  },
  {
   "cell_type": "code",
   "execution_count": null,
   "metadata": {
    "colab": {},
    "colab_type": "code",
    "id": "j5uQTbs32QEB"
   },
   "outputs": [],
   "source": [
    "import statsmodels.api as sm\n",
    "import seaborn as sns\n",
    "from statsmodels.api import OLS\n",
    "import matplotlib.pyplot as plt"
   ]
  },
  {
   "cell_type": "markdown",
   "metadata": {
    "colab_type": "text",
    "id": "VTVIQThr20-A"
   },
   "source": [
    "> ## Dataset : Tips Dataset"
   ]
  },
  {
   "cell_type": "markdown",
   "metadata": {
    "colab_type": "text",
    "id": "c-kVBYf322qo"
   },
   "source": [
    "Dataset Description:\n",
    "Food servers’ tips in restaurants may be influenced by many factors, including the nature of the restaurant, size of the party, and table locations in the restaurant. Restaurant managers need to know which factors matter when they assign tables to food servers. For the sake of staff morale, they usually want to avoid either the substance or the appearance of unfair treatment of the servers, for whom tips (at least in restaurants in the United States) are a major component of pay. In one restaurant, a food server recorded the following data on all customers they served during an interval of two and a half months in early 1990. The restaurant, located in a suburban shopping mall, was part of a national chain and served a varied menu. In observance of local law, the restaurant offered to seat in a non-smoking section to patrons who requested it. Each record includes a day and time, and taken together, they show the server’s work schedule.\n",
    "\n",
    "From This information we frame the problem :\n",
    "1. Problem Statements : How migh we predict tips that will be recieved by food servers so we can minimize unfair treatment ?\n",
    "1. Data :\n",
    "  1. Label : Tips\n",
    "  1. Features : Total Bill\n",
    "1. ML Objective : Minimize the appearance of unfair treatment of the food servers, for whom tips are major component of pay.\n",
    "1. Action : Make food servers allocation \n",
    "1. Value : the sake of staff morale"
   ]
  },
  {
   "cell_type": "code",
   "execution_count": null,
   "metadata": {
    "colab": {},
    "colab_type": "code",
    "id": "qPxRtg1VVBPj"
   },
   "outputs": [],
   "source": [
    "tips = sns.load_dataset('tips')"
   ]
  },
  {
   "cell_type": "markdown",
   "metadata": {
    "colab_type": "text",
    "id": "UYY9iUhR7Dxa"
   },
   "source": [
    "> ## EDA"
   ]
  },
  {
   "cell_type": "markdown",
   "metadata": {
    "colab_type": "text",
    "id": "b398bu2Z7Nqe"
   },
   "source": [
    "To Understand Our Data:\n",
    "- descriptive statistics\n",
    "- correlation\n",
    "- graphical summary"
   ]
  },
  {
   "cell_type": "code",
   "execution_count": null,
   "metadata": {
    "colab": {
     "base_uri": "https://localhost:8080/",
     "height": 405
    },
    "colab_type": "code",
    "executionInfo": {
     "elapsed": 1440,
     "status": "ok",
     "timestamp": 1597372597662,
     "user": {
      "displayName": "Fathi Muhyi",
      "photoUrl": "https://lh3.googleusercontent.com/a-/AOh14GhChUnD9lp0uYHDjzFDqClMEcljUKZtuV7ArMBsmA=s64",
      "userId": "15936908794749616962"
     },
     "user_tz": -420
    },
    "id": "Y7nb8jl1qrqT",
    "outputId": "e44da986-f3a2-49b5-b464-860708d12237"
   },
   "outputs": [
    {
     "data": {
      "text/html": [
       "<div>\n",
       "<style scoped>\n",
       "    .dataframe tbody tr th:only-of-type {\n",
       "        vertical-align: middle;\n",
       "    }\n",
       "\n",
       "    .dataframe tbody tr th {\n",
       "        vertical-align: top;\n",
       "    }\n",
       "\n",
       "    .dataframe thead th {\n",
       "        text-align: right;\n",
       "    }\n",
       "</style>\n",
       "<table border=\"1\" class=\"dataframe\">\n",
       "  <thead>\n",
       "    <tr style=\"text-align: right;\">\n",
       "      <th></th>\n",
       "      <th>total_bill</th>\n",
       "      <th>tip</th>\n",
       "      <th>sex</th>\n",
       "      <th>smoker</th>\n",
       "      <th>day</th>\n",
       "      <th>time</th>\n",
       "      <th>size</th>\n",
       "    </tr>\n",
       "  </thead>\n",
       "  <tbody>\n",
       "    <tr>\n",
       "      <th>0</th>\n",
       "      <td>16.99</td>\n",
       "      <td>1.01</td>\n",
       "      <td>Female</td>\n",
       "      <td>No</td>\n",
       "      <td>Sun</td>\n",
       "      <td>Dinner</td>\n",
       "      <td>2</td>\n",
       "    </tr>\n",
       "    <tr>\n",
       "      <th>1</th>\n",
       "      <td>10.34</td>\n",
       "      <td>1.66</td>\n",
       "      <td>Male</td>\n",
       "      <td>No</td>\n",
       "      <td>Sun</td>\n",
       "      <td>Dinner</td>\n",
       "      <td>3</td>\n",
       "    </tr>\n",
       "    <tr>\n",
       "      <th>2</th>\n",
       "      <td>21.01</td>\n",
       "      <td>3.50</td>\n",
       "      <td>Male</td>\n",
       "      <td>No</td>\n",
       "      <td>Sun</td>\n",
       "      <td>Dinner</td>\n",
       "      <td>3</td>\n",
       "    </tr>\n",
       "    <tr>\n",
       "      <th>3</th>\n",
       "      <td>23.68</td>\n",
       "      <td>3.31</td>\n",
       "      <td>Male</td>\n",
       "      <td>No</td>\n",
       "      <td>Sun</td>\n",
       "      <td>Dinner</td>\n",
       "      <td>2</td>\n",
       "    </tr>\n",
       "    <tr>\n",
       "      <th>4</th>\n",
       "      <td>24.59</td>\n",
       "      <td>3.61</td>\n",
       "      <td>Female</td>\n",
       "      <td>No</td>\n",
       "      <td>Sun</td>\n",
       "      <td>Dinner</td>\n",
       "      <td>4</td>\n",
       "    </tr>\n",
       "    <tr>\n",
       "      <th>...</th>\n",
       "      <td>...</td>\n",
       "      <td>...</td>\n",
       "      <td>...</td>\n",
       "      <td>...</td>\n",
       "      <td>...</td>\n",
       "      <td>...</td>\n",
       "      <td>...</td>\n",
       "    </tr>\n",
       "    <tr>\n",
       "      <th>239</th>\n",
       "      <td>29.03</td>\n",
       "      <td>5.92</td>\n",
       "      <td>Male</td>\n",
       "      <td>No</td>\n",
       "      <td>Sat</td>\n",
       "      <td>Dinner</td>\n",
       "      <td>3</td>\n",
       "    </tr>\n",
       "    <tr>\n",
       "      <th>240</th>\n",
       "      <td>27.18</td>\n",
       "      <td>2.00</td>\n",
       "      <td>Female</td>\n",
       "      <td>Yes</td>\n",
       "      <td>Sat</td>\n",
       "      <td>Dinner</td>\n",
       "      <td>2</td>\n",
       "    </tr>\n",
       "    <tr>\n",
       "      <th>241</th>\n",
       "      <td>22.67</td>\n",
       "      <td>2.00</td>\n",
       "      <td>Male</td>\n",
       "      <td>Yes</td>\n",
       "      <td>Sat</td>\n",
       "      <td>Dinner</td>\n",
       "      <td>2</td>\n",
       "    </tr>\n",
       "    <tr>\n",
       "      <th>242</th>\n",
       "      <td>17.82</td>\n",
       "      <td>1.75</td>\n",
       "      <td>Male</td>\n",
       "      <td>No</td>\n",
       "      <td>Sat</td>\n",
       "      <td>Dinner</td>\n",
       "      <td>2</td>\n",
       "    </tr>\n",
       "    <tr>\n",
       "      <th>243</th>\n",
       "      <td>18.78</td>\n",
       "      <td>3.00</td>\n",
       "      <td>Female</td>\n",
       "      <td>No</td>\n",
       "      <td>Thur</td>\n",
       "      <td>Dinner</td>\n",
       "      <td>2</td>\n",
       "    </tr>\n",
       "  </tbody>\n",
       "</table>\n",
       "<p>244 rows × 7 columns</p>\n",
       "</div>"
      ],
      "text/plain": [
       "     total_bill   tip     sex smoker   day    time  size\n",
       "0         16.99  1.01  Female     No   Sun  Dinner     2\n",
       "1         10.34  1.66    Male     No   Sun  Dinner     3\n",
       "2         21.01  3.50    Male     No   Sun  Dinner     3\n",
       "3         23.68  3.31    Male     No   Sun  Dinner     2\n",
       "4         24.59  3.61  Female     No   Sun  Dinner     4\n",
       "..          ...   ...     ...    ...   ...     ...   ...\n",
       "239       29.03  5.92    Male     No   Sat  Dinner     3\n",
       "240       27.18  2.00  Female    Yes   Sat  Dinner     2\n",
       "241       22.67  2.00    Male    Yes   Sat  Dinner     2\n",
       "242       17.82  1.75    Male     No   Sat  Dinner     2\n",
       "243       18.78  3.00  Female     No  Thur  Dinner     2\n",
       "\n",
       "[244 rows x 7 columns]"
      ]
     },
     "execution_count": 54,
     "metadata": {
      "tags": []
     },
     "output_type": "execute_result"
    }
   ],
   "source": [
    "tips"
   ]
  },
  {
   "cell_type": "code",
   "execution_count": null,
   "metadata": {
    "colab": {
     "base_uri": "https://localhost:8080/",
     "height": 286
    },
    "colab_type": "code",
    "executionInfo": {
     "elapsed": 1215,
     "status": "ok",
     "timestamp": 1597372597663,
     "user": {
      "displayName": "Fathi Muhyi",
      "photoUrl": "https://lh3.googleusercontent.com/a-/AOh14GhChUnD9lp0uYHDjzFDqClMEcljUKZtuV7ArMBsmA=s64",
      "userId": "15936908794749616962"
     },
     "user_tz": -420
    },
    "id": "hdlQxLJHtbKG",
    "outputId": "1193648b-a471-40db-bb33-14df67574d3e"
   },
   "outputs": [
    {
     "data": {
      "text/html": [
       "<div>\n",
       "<style scoped>\n",
       "    .dataframe tbody tr th:only-of-type {\n",
       "        vertical-align: middle;\n",
       "    }\n",
       "\n",
       "    .dataframe tbody tr th {\n",
       "        vertical-align: top;\n",
       "    }\n",
       "\n",
       "    .dataframe thead th {\n",
       "        text-align: right;\n",
       "    }\n",
       "</style>\n",
       "<table border=\"1\" class=\"dataframe\">\n",
       "  <thead>\n",
       "    <tr style=\"text-align: right;\">\n",
       "      <th></th>\n",
       "      <th>tip</th>\n",
       "      <th>total_bill</th>\n",
       "    </tr>\n",
       "  </thead>\n",
       "  <tbody>\n",
       "    <tr>\n",
       "      <th>count</th>\n",
       "      <td>244.000000</td>\n",
       "      <td>244.000000</td>\n",
       "    </tr>\n",
       "    <tr>\n",
       "      <th>mean</th>\n",
       "      <td>2.998279</td>\n",
       "      <td>19.785943</td>\n",
       "    </tr>\n",
       "    <tr>\n",
       "      <th>std</th>\n",
       "      <td>1.383638</td>\n",
       "      <td>8.902412</td>\n",
       "    </tr>\n",
       "    <tr>\n",
       "      <th>min</th>\n",
       "      <td>1.000000</td>\n",
       "      <td>3.070000</td>\n",
       "    </tr>\n",
       "    <tr>\n",
       "      <th>25%</th>\n",
       "      <td>2.000000</td>\n",
       "      <td>13.347500</td>\n",
       "    </tr>\n",
       "    <tr>\n",
       "      <th>50%</th>\n",
       "      <td>2.900000</td>\n",
       "      <td>17.795000</td>\n",
       "    </tr>\n",
       "    <tr>\n",
       "      <th>75%</th>\n",
       "      <td>3.562500</td>\n",
       "      <td>24.127500</td>\n",
       "    </tr>\n",
       "    <tr>\n",
       "      <th>max</th>\n",
       "      <td>10.000000</td>\n",
       "      <td>50.810000</td>\n",
       "    </tr>\n",
       "  </tbody>\n",
       "</table>\n",
       "</div>"
      ],
      "text/plain": [
       "              tip  total_bill\n",
       "count  244.000000  244.000000\n",
       "mean     2.998279   19.785943\n",
       "std      1.383638    8.902412\n",
       "min      1.000000    3.070000\n",
       "25%      2.000000   13.347500\n",
       "50%      2.900000   17.795000\n",
       "75%      3.562500   24.127500\n",
       "max     10.000000   50.810000"
      ]
     },
     "execution_count": 55,
     "metadata": {
      "tags": []
     },
     "output_type": "execute_result"
    }
   ],
   "source": [
    "tips[['tip','total_bill']].describe()"
   ]
  },
  {
   "cell_type": "code",
   "execution_count": null,
   "metadata": {
    "colab": {
     "base_uri": "https://localhost:8080/",
     "height": 107
    },
    "colab_type": "code",
    "executionInfo": {
     "elapsed": 871,
     "status": "ok",
     "timestamp": 1597372597664,
     "user": {
      "displayName": "Fathi Muhyi",
      "photoUrl": "https://lh3.googleusercontent.com/a-/AOh14GhChUnD9lp0uYHDjzFDqClMEcljUKZtuV7ArMBsmA=s64",
      "userId": "15936908794749616962"
     },
     "user_tz": -420
    },
    "id": "Z6TwFOvdthm3",
    "outputId": "d387f04a-621b-4ae4-d9cf-97e795ad6410"
   },
   "outputs": [
    {
     "data": {
      "text/html": [
       "<div>\n",
       "<style scoped>\n",
       "    .dataframe tbody tr th:only-of-type {\n",
       "        vertical-align: middle;\n",
       "    }\n",
       "\n",
       "    .dataframe tbody tr th {\n",
       "        vertical-align: top;\n",
       "    }\n",
       "\n",
       "    .dataframe thead th {\n",
       "        text-align: right;\n",
       "    }\n",
       "</style>\n",
       "<table border=\"1\" class=\"dataframe\">\n",
       "  <thead>\n",
       "    <tr style=\"text-align: right;\">\n",
       "      <th></th>\n",
       "      <th>tip</th>\n",
       "      <th>total_bill</th>\n",
       "    </tr>\n",
       "  </thead>\n",
       "  <tbody>\n",
       "    <tr>\n",
       "      <th>tip</th>\n",
       "      <td>1.000000</td>\n",
       "      <td>0.675734</td>\n",
       "    </tr>\n",
       "    <tr>\n",
       "      <th>total_bill</th>\n",
       "      <td>0.675734</td>\n",
       "      <td>1.000000</td>\n",
       "    </tr>\n",
       "  </tbody>\n",
       "</table>\n",
       "</div>"
      ],
      "text/plain": [
       "                 tip  total_bill\n",
       "tip         1.000000    0.675734\n",
       "total_bill  0.675734    1.000000"
      ]
     },
     "execution_count": 56,
     "metadata": {
      "tags": []
     },
     "output_type": "execute_result"
    }
   ],
   "source": [
    "tips[['tip','total_bill']].corr()"
   ]
  },
  {
   "cell_type": "code",
   "execution_count": null,
   "metadata": {},
   "outputs": [],
   "source": []
  },
  {
   "cell_type": "code",
   "execution_count": null,
   "metadata": {
    "colab": {
     "base_uri": "https://localhost:8080/",
     "height": 649
    },
    "colab_type": "code",
    "executionInfo": {
     "elapsed": 1532,
     "status": "ok",
     "timestamp": 1597372598701,
     "user": {
      "displayName": "Fathi Muhyi",
      "photoUrl": "https://lh3.googleusercontent.com/a-/AOh14GhChUnD9lp0uYHDjzFDqClMEcljUKZtuV7ArMBsmA=s64",
      "userId": "15936908794749616962"
     },
     "user_tz": -420
    },
    "id": "zIq3bSrfsef0",
    "outputId": "8a609e3f-4f1c-4906-e910-973da506003f"
   },
   "outputs": [
    {
     "data": {
      "text/plain": [
       "<matplotlib.axes._subplots.AxesSubplot at 0x7ff859511e80>"
      ]
     },
     "execution_count": 57,
     "metadata": {
      "tags": []
     },
     "output_type": "execute_result"
    },
    {
     "data": {
      "image/png": "[encoded data removed]",
      "text/plain": [
       "<Figure size 720x720 with 1 Axes>"
      ]
     },
     "metadata": {
      "needs_background": "light",
      "tags": []
     },
     "output_type": "display_data"
    }
   ],
   "source": [
    "plt.figure(figsize=(10,10))\n",
    "sns.regplot(x = 'total_bill',y = 'tip',data = tips)"
   ]
  },
  {
   "cell_type": "markdown",
   "metadata": {
    "colab_type": "text",
    "id": "jtGP1NMG8umG"
   },
   "source": [
    "> ## Simple Linear Regression"
   ]
  },
  {
   "cell_type": "markdown",
   "metadata": {
    "colab_type": "text",
    "id": "rxpcJIuF81uD"
   },
   "source": [
    "We start to apply simple linear regression to the dataset:\n",
    "- Y : Tips\n",
    "- x : Total Bill"
   ]
  },
  {
   "cell_type": "code",
   "execution_count": null,
   "metadata": {
    "colab": {},
    "colab_type": "code",
    "id": "5sv7XQ_nsuy1"
   },
   "outputs": [],
   "source": [
    "sm_lm = OLS(tips['tip'], sm.add_constant(tips[['total_bill']]))\n",
    "result = sm_lm.fit()"
   ]
  },
  {
   "cell_type": "code",
   "execution_count": null,
   "metadata": {
    "colab": {
     "base_uri": "https://localhost:8080/",
     "height": 463
    },
    "colab_type": "code",
    "executionInfo": {
     "elapsed": 561,
     "status": "ok",
     "timestamp": 1597372599006,
     "user": {
      "displayName": "Fathi Muhyi",
      "photoUrl": "https://lh3.googleusercontent.com/a-/AOh14GhChUnD9lp0uYHDjzFDqClMEcljUKZtuV7ArMBsmA=s64",
      "userId": "15936908794749616962"
     },
     "user_tz": -420
    },
    "id": "fnVXN95ptNkN",
    "outputId": "b1ae4404-d734-4c29-c343-7c9ee2487f02"
   },
   "outputs": [
    {
     "name": "stdout",
     "output_type": "stream",
     "text": [
      "                            OLS Regression Results                            \n",
      "==============================================================================\n",
      "Dep. Variable:                    tip   R-squared:                       0.457\n",
      "Model:                            OLS   Adj. R-squared:                  0.454\n",
      "Method:                 Least Squares   F-statistic:                     203.4\n",
      "Date:                Fri, 14 Aug 2020   Prob (F-statistic):           6.69e-34\n",
      "Time:                        02:36:40   Log-Likelihood:                -350.54\n",
      "No. Observations:                 244   AIC:                             705.1\n",
      "Df Residuals:                     242   BIC:                             712.1\n",
      "Df Model:                           1                                         \n",
      "Covariance Type:            nonrobust                                         \n",
      "==============================================================================\n",
      "                 coef    std err          t      P>|t|      [0.025      0.975]\n",
      "------------------------------------------------------------------------------\n",
      "const          0.9203      0.160      5.761      0.000       0.606       1.235\n",
      "total_bill     0.1050      0.007     14.260      0.000       0.091       0.120\n",
      "==============================================================================\n",
      "Omnibus:                       20.185   Durbin-Watson:                   2.151\n",
      "Prob(Omnibus):                  0.000   Jarque-Bera (JB):               37.750\n",
      "Skew:                           0.443   Prob(JB):                     6.35e-09\n",
      "Kurtosis:                       4.711   Cond. No.                         53.0\n",
      "==============================================================================\n",
      "\n",
      "Warnings:\n",
      "[1] Standard Errors assume that the covariance matrix of the errors is correctly specified.\n"
     ]
    }
   ],
   "source": [
    "print(result.summary())"
   ]
  },
  {
   "cell_type": "markdown",
   "metadata": {
    "colab_type": "text",
    "id": "eT00DWAFunNe"
   },
   "source": [
    "## Interpretation"
   ]
  },
  {
   "cell_type": "markdown",
   "metadata": {
    "colab_type": "text",
    "id": "uQoTnBoCvP77"
   },
   "source": [
    "F-Test:\n",
    "<br>\n",
    "B1 : P-Value of the Simultant test (Prob (F-statistics)) is below 0.05. We have enough evidence that totall bill affect tip that given to the food servers.\n",
    "<br>\n",
    "Partial Test:\n",
    "1. B0 : P-Value of the partial test is below 0.05. B0 is the condition when total bill has value of zero. in this case, it doesn't make sense that if there is people who paid food freely. So, the interpretation is the model still need B0. \n",
    "1. B1 : P-Value of the partial test is below 0.05. With significant level of 5%, we have enough evidence that higher total bill increase tip that given to the food servers\n",
    "\n",
    "Parameter Estimate:\n",
    "1. B0 = 0.9203 : This is not need to be interpreted because there is no people that paid free (x = 0) and 0 also fall outside 3.07 Dollar - 50.81 Dollar interval\n",
    "1. B1 = 0.1050 : When the total bill increase 1 Dollar, the tip will increase about 0.1050 Dollar or When the total bill increase 10 Dollar, the tip will increase about 1.05 Dollar (*This interpretation only recommended when total bill fall between 3.07 Dollar and 50.81 Dollar) \n",
    "1. It is strongly recommended to interprete within the interval of predictor.\n",
    "\n",
    "Coefficient Determination:\n",
    "<br>\n",
    "R-Square = 45.7% : This model can explain 45.7% variation of tips."
   ]
  },
  {
   "cell_type": "markdown",
   "metadata": {
    "colab_type": "text",
    "id": "ZBcEoskz4V3R"
   },
   "source": [
    "# Python Excercise :  Multiple Linear Regression"
   ]
  },
  {
   "cell_type": "markdown",
   "metadata": {
    "colab_type": "text",
    "id": "qC9xOa7x_AL_"
   },
   "source": [
    "> ## Table Of Contents"
   ]
  },
  {
   "cell_type": "markdown",
   "metadata": {
    "colab_type": "text",
    "id": "DDhD4r2WzemQ"
   },
   "source": [
    "![image.png](data:image/png;base64,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)"
   ]
  },
  {
   "cell_type": "markdown",
   "metadata": {
    "colab_type": "text",
    "id": "IVlIha-I-6dD"
   },
   "source": [
    "> ## Library"
   ]
  },
  {
   "cell_type": "code",
   "execution_count": null,
   "metadata": {
    "colab": {},
    "colab_type": "code",
    "id": "-nkOPyVe-8Y3"
   },
   "outputs": [],
   "source": [
    "import statsmodels.api as sm\n",
    "import seaborn as sns\n",
    "from statsmodels.api import OLS\n",
    "import matplotlib.pyplot as plt"
   ]
  },
  {
   "cell_type": "markdown",
   "metadata": {
    "colab_type": "text",
    "id": "lGnp8XWq_I9Y"
   },
   "source": [
    "> ## Dataset : Tips Dataset"
   ]
  },
  {
   "cell_type": "markdown",
   "metadata": {
    "colab_type": "text",
    "id": "MqoZzTRU9bWF"
   },
   "source": [
    "Framing the problem :\n",
    "1. Problem Statements : How migh we predict tips that will be recieved by food servers so we can minimize unfair treatment ?\n",
    "1. Data :\n",
    "  1. Label : Tips\n",
    "  1. Features : Total Bill and Size \n",
    "1. ML Objective : Minimize the appearance of unfair treatment of the food servers, for whom tips are major component of pay.\n",
    "1. Action : Make food servers allocation \n",
    "1. Value : the sake of staff morale"
   ]
  },
  {
   "cell_type": "markdown",
   "metadata": {
    "colab_type": "text",
    "id": "26ePD4ca_SWg"
   },
   "source": [
    "> ## Data Analysis"
   ]
  },
  {
   "cell_type": "markdown",
   "metadata": {
    "colab_type": "text",
    "id": "gDdiRFY7A4ra"
   },
   "source": [
    "To Understand Our Data:\n",
    "- descriptive statistics\n",
    "- correlation\n",
    "- graphical summary"
   ]
  },
  {
   "cell_type": "code",
   "execution_count": null,
   "metadata": {
    "colab": {
     "base_uri": "https://localhost:8080/",
     "height": 405
    },
    "colab_type": "code",
    "executionInfo": {
     "elapsed": 1104,
     "status": "ok",
     "timestamp": 1596602957428,
     "user": {
      "displayName": "Fathi Muhyi",
      "photoUrl": "https://lh3.googleusercontent.com/a-/AOh14GhChUnD9lp0uYHDjzFDqClMEcljUKZtuV7ArMBsmA=s64",
      "userId": "15936908794749616962"
     },
     "user_tz": -420
    },
    "id": "MFUlWGH_81rz",
    "outputId": "cf07d6bf-4089-4c05-8e70-d9a977aafe7e"
   },
   "outputs": [
    {
     "data": {
      "text/html": [
       "<div>\n",
       "<style scoped>\n",
       "    .dataframe tbody tr th:only-of-type {\n",
       "        vertical-align: middle;\n",
       "    }\n",
       "\n",
       "    .dataframe tbody tr th {\n",
       "        vertical-align: top;\n",
       "    }\n",
       "\n",
       "    .dataframe thead th {\n",
       "        text-align: right;\n",
       "    }\n",
       "</style>\n",
       "<table border=\"1\" class=\"dataframe\">\n",
       "  <thead>\n",
       "    <tr style=\"text-align: right;\">\n",
       "      <th></th>\n",
       "      <th>size</th>\n",
       "      <th>total_bill</th>\n",
       "      <th>tip</th>\n",
       "    </tr>\n",
       "  </thead>\n",
       "  <tbody>\n",
       "    <tr>\n",
       "      <th>0</th>\n",
       "      <td>2</td>\n",
       "      <td>16.99</td>\n",
       "      <td>1.01</td>\n",
       "    </tr>\n",
       "    <tr>\n",
       "      <th>1</th>\n",
       "      <td>3</td>\n",
       "      <td>10.34</td>\n",
       "      <td>1.66</td>\n",
       "    </tr>\n",
       "    <tr>\n",
       "      <th>2</th>\n",
       "      <td>3</td>\n",
       "      <td>21.01</td>\n",
       "      <td>3.50</td>\n",
       "    </tr>\n",
       "    <tr>\n",
       "      <th>3</th>\n",
       "      <td>2</td>\n",
       "      <td>23.68</td>\n",
       "      <td>3.31</td>\n",
       "    </tr>\n",
       "    <tr>\n",
       "      <th>4</th>\n",
       "      <td>4</td>\n",
       "      <td>24.59</td>\n",
       "      <td>3.61</td>\n",
       "    </tr>\n",
       "    <tr>\n",
       "      <th>...</th>\n",
       "      <td>...</td>\n",
       "      <td>...</td>\n",
       "      <td>...</td>\n",
       "    </tr>\n",
       "    <tr>\n",
       "      <th>239</th>\n",
       "      <td>3</td>\n",
       "      <td>29.03</td>\n",
       "      <td>5.92</td>\n",
       "    </tr>\n",
       "    <tr>\n",
       "      <th>240</th>\n",
       "      <td>2</td>\n",
       "      <td>27.18</td>\n",
       "      <td>2.00</td>\n",
       "    </tr>\n",
       "    <tr>\n",
       "      <th>241</th>\n",
       "      <td>2</td>\n",
       "      <td>22.67</td>\n",
       "      <td>2.00</td>\n",
       "    </tr>\n",
       "    <tr>\n",
       "      <th>242</th>\n",
       "      <td>2</td>\n",
       "      <td>17.82</td>\n",
       "      <td>1.75</td>\n",
       "    </tr>\n",
       "    <tr>\n",
       "      <th>243</th>\n",
       "      <td>2</td>\n",
       "      <td>18.78</td>\n",
       "      <td>3.00</td>\n",
       "    </tr>\n",
       "  </tbody>\n",
       "</table>\n",
       "<p>244 rows × 3 columns</p>\n",
       "</div>"
      ],
      "text/plain": [
       "     size  total_bill   tip\n",
       "0       2       16.99  1.01\n",
       "1       3       10.34  1.66\n",
       "2       3       21.01  3.50\n",
       "3       2       23.68  3.31\n",
       "4       4       24.59  3.61\n",
       "..    ...         ...   ...\n",
       "239     3       29.03  5.92\n",
       "240     2       27.18  2.00\n",
       "241     2       22.67  2.00\n",
       "242     2       17.82  1.75\n",
       "243     2       18.78  3.00\n",
       "\n",
       "[244 rows x 3 columns]"
      ]
     },
     "execution_count": 88,
     "metadata": {
      "tags": []
     },
     "output_type": "execute_result"
    }
   ],
   "source": [
    "tips[['size','total_bill','tip']]"
   ]
  },
  {
   "cell_type": "code",
   "execution_count": null,
   "metadata": {
    "colab": {
     "base_uri": "https://localhost:8080/",
     "height": 286
    },
    "colab_type": "code",
    "executionInfo": {
     "elapsed": 9706,
     "status": "ok",
     "timestamp": 1596602890934,
     "user": {
      "displayName": "Fathi Muhyi",
      "photoUrl": "https://lh3.googleusercontent.com/a-/AOh14GhChUnD9lp0uYHDjzFDqClMEcljUKZtuV7ArMBsmA=s64",
      "userId": "15936908794749616962"
     },
     "user_tz": -420
    },
    "id": "Ie-1YxZGtPwz",
    "outputId": "12a7405c-9c79-4d2b-b928-3d4cc574007d"
   },
   "outputs": [
    {
     "data": {
      "text/html": [
       "<div>\n",
       "<style scoped>\n",
       "    .dataframe tbody tr th:only-of-type {\n",
       "        vertical-align: middle;\n",
       "    }\n",
       "\n",
       "    .dataframe tbody tr th {\n",
       "        vertical-align: top;\n",
       "    }\n",
       "\n",
       "    .dataframe thead th {\n",
       "        text-align: right;\n",
       "    }\n",
       "</style>\n",
       "<table border=\"1\" class=\"dataframe\">\n",
       "  <thead>\n",
       "    <tr style=\"text-align: right;\">\n",
       "      <th></th>\n",
       "      <th>tip</th>\n",
       "      <th>total_bill</th>\n",
       "      <th>size</th>\n",
       "    </tr>\n",
       "  </thead>\n",
       "  <tbody>\n",
       "    <tr>\n",
       "      <th>count</th>\n",
       "      <td>244.000000</td>\n",
       "      <td>244.000000</td>\n",
       "      <td>244.000000</td>\n",
       "    </tr>\n",
       "    <tr>\n",
       "      <th>mean</th>\n",
       "      <td>2.998279</td>\n",
       "      <td>19.785943</td>\n",
       "      <td>2.569672</td>\n",
       "    </tr>\n",
       "    <tr>\n",
       "      <th>std</th>\n",
       "      <td>1.383638</td>\n",
       "      <td>8.902412</td>\n",
       "      <td>0.951100</td>\n",
       "    </tr>\n",
       "    <tr>\n",
       "      <th>min</th>\n",
       "      <td>1.000000</td>\n",
       "      <td>3.070000</td>\n",
       "      <td>1.000000</td>\n",
       "    </tr>\n",
       "    <tr>\n",
       "      <th>25%</th>\n",
       "      <td>2.000000</td>\n",
       "      <td>13.347500</td>\n",
       "      <td>2.000000</td>\n",
       "    </tr>\n",
       "    <tr>\n",
       "      <th>50%</th>\n",
       "      <td>2.900000</td>\n",
       "      <td>17.795000</td>\n",
       "      <td>2.000000</td>\n",
       "    </tr>\n",
       "    <tr>\n",
       "      <th>75%</th>\n",
       "      <td>3.562500</td>\n",
       "      <td>24.127500</td>\n",
       "      <td>3.000000</td>\n",
       "    </tr>\n",
       "    <tr>\n",
       "      <th>max</th>\n",
       "      <td>10.000000</td>\n",
       "      <td>50.810000</td>\n",
       "      <td>6.000000</td>\n",
       "    </tr>\n",
       "  </tbody>\n",
       "</table>\n",
       "</div>"
      ],
      "text/plain": [
       "              tip  total_bill        size\n",
       "count  244.000000  244.000000  244.000000\n",
       "mean     2.998279   19.785943    2.569672\n",
       "std      1.383638    8.902412    0.951100\n",
       "min      1.000000    3.070000    1.000000\n",
       "25%      2.000000   13.347500    2.000000\n",
       "50%      2.900000   17.795000    2.000000\n",
       "75%      3.562500   24.127500    3.000000\n",
       "max     10.000000   50.810000    6.000000"
      ]
     },
     "execution_count": 59,
     "metadata": {
      "tags": []
     },
     "output_type": "execute_result"
    }
   ],
   "source": [
    "tips[['tip','total_bill','size']].describe()"
   ]
  },
  {
   "cell_type": "code",
   "execution_count": null,
   "metadata": {
    "colab": {
     "base_uri": "https://localhost:8080/",
     "height": 137
    },
    "colab_type": "code",
    "executionInfo": {
     "elapsed": 9686,
     "status": "ok",
     "timestamp": 1596602890936,
     "user": {
      "displayName": "Fathi Muhyi",
      "photoUrl": "https://lh3.googleusercontent.com/a-/AOh14GhChUnD9lp0uYHDjzFDqClMEcljUKZtuV7ArMBsmA=s64",
      "userId": "15936908794749616962"
     },
     "user_tz": -420
    },
    "id": "FJOqRfYs4msV",
    "outputId": "ac569e0e-10f0-4d88-e775-dac657c4b8d7"
   },
   "outputs": [
    {
     "data": {
      "text/html": [
       "<div>\n",
       "<style scoped>\n",
       "    .dataframe tbody tr th:only-of-type {\n",
       "        vertical-align: middle;\n",
       "    }\n",
       "\n",
       "    .dataframe tbody tr th {\n",
       "        vertical-align: top;\n",
       "    }\n",
       "\n",
       "    .dataframe thead th {\n",
       "        text-align: right;\n",
       "    }\n",
       "</style>\n",
       "<table border=\"1\" class=\"dataframe\">\n",
       "  <thead>\n",
       "    <tr style=\"text-align: right;\">\n",
       "      <th></th>\n",
       "      <th>tip</th>\n",
       "      <th>total_bill</th>\n",
       "      <th>size</th>\n",
       "    </tr>\n",
       "  </thead>\n",
       "  <tbody>\n",
       "    <tr>\n",
       "      <th>tip</th>\n",
       "      <td>1.000000</td>\n",
       "      <td>0.675734</td>\n",
       "      <td>0.489299</td>\n",
       "    </tr>\n",
       "    <tr>\n",
       "      <th>total_bill</th>\n",
       "      <td>0.675734</td>\n",
       "      <td>1.000000</td>\n",
       "      <td>0.598315</td>\n",
       "    </tr>\n",
       "    <tr>\n",
       "      <th>size</th>\n",
       "      <td>0.489299</td>\n",
       "      <td>0.598315</td>\n",
       "      <td>1.000000</td>\n",
       "    </tr>\n",
       "  </tbody>\n",
       "</table>\n",
       "</div>"
      ],
      "text/plain": [
       "                 tip  total_bill      size\n",
       "tip         1.000000    0.675734  0.489299\n",
       "total_bill  0.675734    1.000000  0.598315\n",
       "size        0.489299    0.598315  1.000000"
      ]
     },
     "execution_count": 60,
     "metadata": {
      "tags": []
     },
     "output_type": "execute_result"
    }
   ],
   "source": [
    "tips[['tip','total_bill','size']].corr()"
   ]
  },
  {
   "cell_type": "code",
   "execution_count": null,
   "metadata": {
    "colab": {
     "base_uri": "https://localhost:8080/",
     "height": 581
    },
    "colab_type": "code",
    "executionInfo": {
     "elapsed": 14315,
     "status": "ok",
     "timestamp": 1596602895582,
     "user": {
      "displayName": "Fathi Muhyi",
      "photoUrl": "https://lh3.googleusercontent.com/a-/AOh14GhChUnD9lp0uYHDjzFDqClMEcljUKZtuV7ArMBsmA=s64",
      "userId": "15936908794749616962"
     },
     "user_tz": -420
    },
    "id": "yOxAjA2m4sJ4",
    "outputId": "ffcb0984-0773-4d8c-e813-c7dd119db3d6"
   },
   "outputs": [
    {
     "data": {
      "text/plain": [
       "<seaborn.axisgrid.PairGrid at 0x7fc6494418d0>"
      ]
     },
     "execution_count": 61,
     "metadata": {
      "tags": []
     },
     "output_type": "execute_result"
    },
    {
     "data": {
      "image/png": "[encoded data removed]",
      "text/plain": [
       "<Figure size 540x540 with 12 Axes>"
      ]
     },
     "metadata": {
      "needs_background": "light",
      "tags": []
     },
     "output_type": "display_data"
    }
   ],
   "source": [
    "g = sns.PairGrid(tips[['tip','total_bill','size']])\n",
    "g.map_diag(plt.hist)\n",
    "g.map_upper(plt.scatter)\n",
    "g.map_lower(sns.kdeplot)"
   ]
  },
  {
   "cell_type": "markdown",
   "metadata": {
    "colab_type": "text",
    "id": "7t0XZUuH_Xcf"
   },
   "source": [
    "> ## Multipple Linear Regression"
   ]
  },
  {
   "cell_type": "markdown",
   "metadata": {
    "colab_type": "text",
    "id": "LzKUl0qzACbr"
   },
   "source": [
    "We start to apply multiple linear regression to the dataset:\n",
    "- Y : Tips\n",
    "- x : Total Bill and Size"
   ]
  },
  {
   "cell_type": "code",
   "execution_count": 92,
   "metadata": {
    "colab": {},
    "colab_type": "code",
    "executionInfo": {
     "elapsed": 1159,
     "status": "ok",
     "timestamp": 1597389303671,
     "user": {
      "displayName": "Fathi Muhyi",
      "photoUrl": "https://lh3.googleusercontent.com/a-/AOh14GhChUnD9lp0uYHDjzFDqClMEcljUKZtuV7ArMBsmA=s64",
      "userId": "15936908794749616962"
     },
     "user_tz": -420
    },
    "id": "YAPPw7EK5cX-"
   },
   "outputs": [],
   "source": [
    "sm_lm = OLS(tips['tip'], sm.add_constant(tips[['total_bill','size']]))\n",
    "result = sm_lm.fit()"
   ]
  },
  {
   "cell_type": "code",
   "execution_count": 93,
   "metadata": {
    "colab": {
     "base_uri": "https://localhost:8080/",
     "height": 480
    },
    "colab_type": "code",
    "executionInfo": {
     "elapsed": 1142,
     "status": "ok",
     "timestamp": 1597389303671,
     "user": {
      "displayName": "Fathi Muhyi",
      "photoUrl": "https://lh3.googleusercontent.com/a-/AOh14GhChUnD9lp0uYHDjzFDqClMEcljUKZtuV7ArMBsmA=s64",
      "userId": "15936908794749616962"
     },
     "user_tz": -420
    },
    "id": "rpaM2NWJ62oy",
    "outputId": "714c895c-cbf7-4de3-8d9a-0bfa328fa87f"
   },
   "outputs": [
    {
     "name": "stdout",
     "output_type": "stream",
     "text": [
      "                            OLS Regression Results                            \n",
      "==============================================================================\n",
      "Dep. Variable:                    tip   R-squared:                       0.468\n",
      "Model:                            OLS   Adj. R-squared:                  0.463\n",
      "Method:                 Least Squares   F-statistic:                     105.9\n",
      "Date:                Fri, 14 Aug 2020   Prob (F-statistic):           9.67e-34\n",
      "Time:                        07:15:05   Log-Likelihood:                -347.99\n",
      "No. Observations:                 244   AIC:                             702.0\n",
      "Df Residuals:                     241   BIC:                             712.5\n",
      "Df Model:                           2                                         \n",
      "Covariance Type:            nonrobust                                         \n",
      "==============================================================================\n",
      "                 coef    std err          t      P>|t|      [0.025      0.975]\n",
      "------------------------------------------------------------------------------\n",
      "const          0.6689      0.194      3.455      0.001       0.288       1.050\n",
      "total_bill     0.0927      0.009     10.172      0.000       0.075       0.111\n",
      "size           0.1926      0.085      2.258      0.025       0.025       0.361\n",
      "==============================================================================\n",
      "Omnibus:                       24.753   Durbin-Watson:                   2.100\n",
      "Prob(Omnibus):                  0.000   Jarque-Bera (JB):               46.169\n",
      "Skew:                           0.545   Prob(JB):                     9.43e-11\n",
      "Kurtosis:                       4.831   Cond. No.                         67.6\n",
      "==============================================================================\n",
      "\n",
      "Warnings:\n",
      "[1] Standard Errors assume that the covariance matrix of the errors is correctly specified.\n"
     ]
    }
   ],
   "source": [
    "print(result.summary())"
   ]
  },
  {
   "cell_type": "markdown",
   "metadata": {
    "colab_type": "text",
    "id": "1TxPJNU-7AZL"
   },
   "source": [
    "## Interpretation"
   ]
  },
  {
   "cell_type": "markdown",
   "metadata": {
    "colab_type": "text",
    "id": "nabbG5N06_Wc"
   },
   "source": [
    "F-Test:\n",
    "<br>\n",
    "B1, B2 : P-Value of the Simultant test is below 0.05. We have enough evidence that minimum either totall bill or size affect tip that given to the food servers.\n",
    "<br>\n",
    "Partial Test:\n",
    "1. B0 : P-Value of the partial test is below 0.05. B0 is the condition when total bill and size of the party has value of zero. in this case, it doesn't make sense that if there are people who paid food freely and size of the party zero. So, the interpretation is the model still need B0. \n",
    "1. B1 : P-Value of the partial test is below 0.05. With significant level of 5%, we have enough evidence that total bill increase tip that given to the food servers\n",
    "1. B2 : P-Value of the partial test is below 0.05. With significant level of 5%, we have enough evidence that size of the party increase tip that given to the food servers\n",
    "\n",
    "Parameter Estimate:\n",
    "1. B0 = 0.689 : This is not meaningfull to be interpreted\n",
    "1. B1 = 0.0927 : When the total bill increase 1 Dollar, the tip will increase about 0.0927 Dollar or When the total bill increase 10 Dollar, the tip will increase about 9.27 Dollar (*This interpretation only applied when total bill fall between 3.07 Dollar and 50.81 Dollar)\n",
    "1. B2 = 0.1926 : When the size of the party increase 1 person, the tip will increase about 0.1926 Dollar(*This interpretation only applied when size of the party fall between 1 and 6) \n",
    "1. It is strongly recommended to interprete within the interval of predictor and no changes in another variable\n",
    "\n",
    "Coefficient Determination:\n",
    "<br>\n",
    "R-Square adj = 46.3% : This model can explain 46.3% variation of tips.\n",
    "<br>\n",
    "(* by adding size of the party the coefficient determination increase from 45.7% to 46.3%)\n"
   ]
  },
  {
   "cell_type": "markdown",
   "metadata": {
    "colab_type": "text",
    "id": "k142HqqT8ylv"
   },
   "source": [
    "# Python Excercise :  Diagnostics and Collinearity"
   ]
  },
  {
   "cell_type": "markdown",
   "metadata": {
    "colab_type": "text",
    "id": "5hlQzuHEKLbr"
   },
   "source": [
    "> ## Table Of Contents"
   ]
  },
  {
   "cell_type": "markdown",
   "metadata": {
    "colab_type": "text",
    "id": "rDNCsJWGztav"
   },
   "source": [
    "![image.png](data:image/png;base64,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)"
   ]
  },
  {
   "cell_type": "markdown",
   "metadata": {
    "colab_type": "text",
    "id": "ioMiJMt5CPNy"
   },
   "source": [
    "> ## Normality Assumption"
   ]
  },
  {
   "cell_type": "code",
   "execution_count": 94,
   "metadata": {
    "colab": {
     "base_uri": "https://localhost:8080/",
     "height": 644
    },
    "colab_type": "code",
    "executionInfo": {
     "elapsed": 1145,
     "status": "ok",
     "timestamp": 1597389307674,
     "user": {
      "displayName": "Fathi Muhyi",
      "photoUrl": "https://lh3.googleusercontent.com/a-/AOh14GhChUnD9lp0uYHDjzFDqClMEcljUKZtuV7ArMBsmA=s64",
      "userId": "15936908794749616962"
     },
     "user_tz": -420
    },
    "id": "BUb8yyNT-Tn0",
    "outputId": "4ac81272-3395-4180-df33-53ee98eeb5e6"
   },
   "outputs": [
    {
     "data": {
      "text/plain": [
       "Text(0.5, 0, 'Residuals')"
      ]
     },
     "execution_count": 94,
     "metadata": {
      "tags": []
     },
     "output_type": "execute_result"
    },
    {
     "data": {
      "image/png": "[encoded data removed]",
      "text/plain": [
       "<Figure size 720x720 with 1 Axes>"
      ]
     },
     "metadata": {
      "needs_background": "light",
      "tags": []
     },
     "output_type": "display_data"
    }
   ],
   "source": [
    "plt.figure(figsize=(10,10))\n",
    "sns.set_context('notebook',font_scale=2)\n",
    "sns.distplot(result.resid)\n",
    "plt.xlabel('Residuals', fontsize = 20)"
   ]
  },
  {
   "cell_type": "code",
   "execution_count": 95,
   "metadata": {
    "colab": {
     "base_uri": "https://localhost:8080/",
     "height": 306
    },
    "colab_type": "code",
    "executionInfo": {
     "elapsed": 1246,
     "status": "ok",
     "timestamp": 1597389308169,
     "user": {
      "displayName": "Fathi Muhyi",
      "photoUrl": "https://lh3.googleusercontent.com/a-/AOh14GhChUnD9lp0uYHDjzFDqClMEcljUKZtuV7ArMBsmA=s64",
      "userId": "15936908794749616962"
     },
     "user_tz": -420
    },
    "id": "krHDI96TCsq1",
    "outputId": "b3ecb630-5bae-4b3f-832b-bc019d05f689"
   },
   "outputs": [
    {
     "data": {
      "image/png": "[encoded data removed]",
      "text/plain": [
       "<Figure size 432x288 with 1 Axes>"
      ]
     },
     "metadata": {
      "needs_background": "light",
      "tags": []
     },
     "output_type": "display_data"
    }
   ],
   "source": [
    "sm.qqplot(result.resid, line = '45')\n",
    "plt.show()"
   ]
  },
  {
   "cell_type": "markdown",
   "metadata": {
    "colab_type": "text",
    "id": "i4uACInQCS9u"
   },
   "source": [
    "> ## Gauss-Markov Assumption"
   ]
  },
  {
   "cell_type": "code",
   "execution_count": 96,
   "metadata": {
    "colab": {
     "base_uri": "https://localhost:8080/",
     "height": 644
    },
    "colab_type": "code",
    "executionInfo": {
     "elapsed": 1125,
     "status": "ok",
     "timestamp": 1597389308715,
     "user": {
      "displayName": "Fathi Muhyi",
      "photoUrl": "https://lh3.googleusercontent.com/a-/AOh14GhChUnD9lp0uYHDjzFDqClMEcljUKZtuV7ArMBsmA=s64",
      "userId": "15936908794749616962"
     },
     "user_tz": -420
    },
    "id": "1lT0uue165tn",
    "outputId": "838512d1-3ccd-4d0f-f692-f3f27330b035"
   },
   "outputs": [
    {
     "data": {
      "text/plain": [
       "Text(0, 0.5, 'Residuals')"
      ]
     },
     "execution_count": 96,
     "metadata": {
      "tags": []
     },
     "output_type": "execute_result"
    },
    {
     "data": {
      "image/png": "[encoded data removed]",
      "text/plain": [
       "<Figure size 720x720 with 1 Axes>"
      ]
     },
     "metadata": {
      "needs_background": "light",
      "tags": []
     },
     "output_type": "display_data"
    }
   ],
   "source": [
    "plt.figure(figsize=(10,10))\n",
    "sns.set_context('notebook',font_scale=2)\n",
    "sns.scatterplot(result.fittedvalues,result.resid)\n",
    "sns.lineplot(result.fittedvalues,0)\n",
    "plt.xlabel('Fitted Values', fontsize = 20)\n",
    "plt.ylabel('Residuals', fontsize = 20)"
   ]
  },
  {
   "cell_type": "markdown",
   "metadata": {
    "colab_type": "text",
    "id": "qYUEOpUICYmI"
   },
   "source": [
    "> ## Multicollinearity"
   ]
  },
  {
   "cell_type": "code",
   "execution_count": 97,
   "metadata": {
    "colab": {},
    "colab_type": "code",
    "executionInfo": {
     "elapsed": 870,
     "status": "ok",
     "timestamp": 1597389309097,
     "user": {
      "displayName": "Fathi Muhyi",
      "photoUrl": "https://lh3.googleusercontent.com/a-/AOh14GhChUnD9lp0uYHDjzFDqClMEcljUKZtuV7ArMBsmA=s64",
      "userId": "15936908794749616962"
     },
     "user_tz": -420
    },
    "id": "mGQvJd3z_nwN"
   },
   "outputs": [],
   "source": [
    "from statsmodels.stats.outliers_influence import variance_inflation_factor"
   ]
  },
  {
   "cell_type": "code",
   "execution_count": 98,
   "metadata": {
    "colab": {},
    "colab_type": "code",
    "executionInfo": {
     "elapsed": 1513,
     "status": "ok",
     "timestamp": 1597389309987,
     "user": {
      "displayName": "Fathi Muhyi",
      "photoUrl": "https://lh3.googleusercontent.com/a-/AOh14GhChUnD9lp0uYHDjzFDqClMEcljUKZtuV7ArMBsmA=s64",
      "userId": "15936908794749616962"
     },
     "user_tz": -420
    },
    "id": "cwWOtA3WAOYM"
   },
   "outputs": [],
   "source": [
    "def calc_vif(X):\n",
    "\n",
    "    # Calculating VIF\n",
    "    vif = pd.DataFrame()\n",
    "    vif[\"variables\"] = X.columns\n",
    "    vif[\"VIF\"] = [variance_inflation_factor(X.values, i) for i in range(X.shape[1])]\n",
    "\n",
    "    return(vif)"
   ]
  },
  {
   "cell_type": "code",
   "execution_count": 99,
   "metadata": {
    "colab": {
     "base_uri": "https://localhost:8080/",
     "height": 107
    },
    "colab_type": "code",
    "executionInfo": {
     "elapsed": 1639,
     "status": "ok",
     "timestamp": 1597389310548,
     "user": {
      "displayName": "Fathi Muhyi",
      "photoUrl": "https://lh3.googleusercontent.com/a-/AOh14GhChUnD9lp0uYHDjzFDqClMEcljUKZtuV7ArMBsmA=s64",
      "userId": "15936908794749616962"
     },
     "user_tz": -420
    },
    "id": "1emBm-fs_xzb",
    "outputId": "6aacce1e-3a5d-414a-8e90-424d471e4400"
   },
   "outputs": [
    {
     "data": {
      "text/html": [
       "<div>\n",
       "<style scoped>\n",
       "    .dataframe tbody tr th:only-of-type {\n",
       "        vertical-align: middle;\n",
       "    }\n",
       "\n",
       "    .dataframe tbody tr th {\n",
       "        vertical-align: top;\n",
       "    }\n",
       "\n",
       "    .dataframe thead th {\n",
       "        text-align: right;\n",
       "    }\n",
       "</style>\n",
       "<table border=\"1\" class=\"dataframe\">\n",
       "  <thead>\n",
       "    <tr style=\"text-align: right;\">\n",
       "      <th></th>\n",
       "      <th>variables</th>\n",
       "      <th>VIF</th>\n",
       "    </tr>\n",
       "  </thead>\n",
       "  <tbody>\n",
       "    <tr>\n",
       "      <th>0</th>\n",
       "      <td>total_bill</td>\n",
       "      <td>8.684373</td>\n",
       "    </tr>\n",
       "    <tr>\n",
       "      <th>1</th>\n",
       "      <td>size</td>\n",
       "      <td>8.684373</td>\n",
       "    </tr>\n",
       "  </tbody>\n",
       "</table>\n",
       "</div>"
      ],
      "text/plain": [
       "    variables       VIF\n",
       "0  total_bill  8.684373\n",
       "1        size  8.684373"
      ]
     },
     "execution_count": 99,
     "metadata": {
      "tags": []
     },
     "output_type": "execute_result"
    }
   ],
   "source": [
    "calc_vif(tips[['total_bill','size']])"
   ]
  },
  {
   "cell_type": "markdown",
   "metadata": {
    "colab_type": "text",
    "id": "dZVV9TcLCoQ0"
   },
   "source": [
    "> ## Assumption Summary"
   ]
  },
  {
   "cell_type": "markdown",
   "metadata": {
    "colab_type": "text",
    "id": "1Xjz1VP0C4yy"
   },
   "source": [
    "Assumption Assesment:\n",
    "1. If we refer to the histogram, the residual seemed normally distributed\n",
    "1. Model residuals gather around zero\n",
    "1. No certain pattern in the residual plot\n",
    "1. Heteroscedasticity Occur\n",
    "1. vif is not acceptable : this is make sense because there should be relationship between size and total bill. So, actually we only need either total bill or size."
   ]
  },
  {
   "cell_type": "code",
   "execution_count": 100,
   "metadata": {
    "colab": {},
    "colab_type": "code",
    "executionInfo": {
     "elapsed": 737,
     "status": "ok",
     "timestamp": 1597389311214,
     "user": {
      "displayName": "Fathi Muhyi",
      "photoUrl": "https://lh3.googleusercontent.com/a-/AOh14GhChUnD9lp0uYHDjzFDqClMEcljUKZtuV7ArMBsmA=s64",
      "userId": "15936908794749616962"
     },
     "user_tz": -420
    },
    "id": "2uW3iPGbqQix"
   },
   "outputs": [],
   "source": [
    "df_categorical = pd.DataFrame({\n",
    "    'Gender':['Male','Female','Female','Male','Female','Female','Male'],\n",
    "    'City':['Jakarta','Bogor','Bogor','Bekasi','Bekasi','Jakarta','Bekasi'],\n",
    "    'Age':[34,28,23,26,29,25,25],\n",
    "    'Income': [20000000,15000000,7000000,9000000,12000000,11000000,9000000]\n",
    "})"
   ]
  },
  {
   "cell_type": "code",
   "execution_count": 101,
   "metadata": {
    "colab": {
     "base_uri": "https://localhost:8080/",
     "height": 257
    },
    "colab_type": "code",
    "executionInfo": {
     "elapsed": 991,
     "status": "ok",
     "timestamp": 1597389311707,
     "user": {
      "displayName": "Fathi Muhyi",
      "photoUrl": "https://lh3.googleusercontent.com/a-/AOh14GhChUnD9lp0uYHDjzFDqClMEcljUKZtuV7ArMBsmA=s64",
      "userId": "15936908794749616962"
     },
     "user_tz": -420
    },
    "id": "RAAxHLT9y26j",
    "outputId": "886d3692-d0cb-4405-ab19-544768db90b5"
   },
   "outputs": [
    {
     "data": {
      "text/html": [
       "<div>\n",
       "<style scoped>\n",
       "    .dataframe tbody tr th:only-of-type {\n",
       "        vertical-align: middle;\n",
       "    }\n",
       "\n",
       "    .dataframe tbody tr th {\n",
       "        vertical-align: top;\n",
       "    }\n",
       "\n",
       "    .dataframe thead th {\n",
       "        text-align: right;\n",
       "    }\n",
       "</style>\n",
       "<table border=\"1\" class=\"dataframe\">\n",
       "  <thead>\n",
       "    <tr style=\"text-align: right;\">\n",
       "      <th></th>\n",
       "      <th>Gender</th>\n",
       "      <th>City</th>\n",
       "      <th>Age</th>\n",
       "      <th>Income</th>\n",
       "    </tr>\n",
       "  </thead>\n",
       "  <tbody>\n",
       "    <tr>\n",
       "      <th>0</th>\n",
       "      <td>Male</td>\n",
       "      <td>Jakarta</td>\n",
       "      <td>34</td>\n",
       "      <td>20000000</td>\n",
       "    </tr>\n",
       "    <tr>\n",
       "      <th>1</th>\n",
       "      <td>Female</td>\n",
       "      <td>Bogor</td>\n",
       "      <td>28</td>\n",
       "      <td>15000000</td>\n",
       "    </tr>\n",
       "    <tr>\n",
       "      <th>2</th>\n",
       "      <td>Female</td>\n",
       "      <td>Bogor</td>\n",
       "      <td>23</td>\n",
       "      <td>7000000</td>\n",
       "    </tr>\n",
       "    <tr>\n",
       "      <th>3</th>\n",
       "      <td>Male</td>\n",
       "      <td>Bekasi</td>\n",
       "      <td>26</td>\n",
       "      <td>9000000</td>\n",
       "    </tr>\n",
       "    <tr>\n",
       "      <th>4</th>\n",
       "      <td>Female</td>\n",
       "      <td>Bekasi</td>\n",
       "      <td>29</td>\n",
       "      <td>12000000</td>\n",
       "    </tr>\n",
       "    <tr>\n",
       "      <th>5</th>\n",
       "      <td>Female</td>\n",
       "      <td>Jakarta</td>\n",
       "      <td>25</td>\n",
       "      <td>11000000</td>\n",
       "    </tr>\n",
       "    <tr>\n",
       "      <th>6</th>\n",
       "      <td>Male</td>\n",
       "      <td>Bekasi</td>\n",
       "      <td>25</td>\n",
       "      <td>9000000</td>\n",
       "    </tr>\n",
       "  </tbody>\n",
       "</table>\n",
       "</div>"
      ],
      "text/plain": [
       "   Gender     City  Age    Income\n",
       "0    Male  Jakarta   34  20000000\n",
       "1  Female    Bogor   28  15000000\n",
       "2  Female    Bogor   23   7000000\n",
       "3    Male   Bekasi   26   9000000\n",
       "4  Female   Bekasi   29  12000000\n",
       "5  Female  Jakarta   25  11000000\n",
       "6    Male   Bekasi   25   9000000"
      ]
     },
     "execution_count": 101,
     "metadata": {
      "tags": []
     },
     "output_type": "execute_result"
    }
   ],
   "source": [
    "df_categorical"
   ]
  },
  {
   "cell_type": "code",
   "execution_count": 102,
   "metadata": {
    "colab": {},
    "colab_type": "code",
    "executionInfo": {
     "elapsed": 762,
     "status": "ok",
     "timestamp": 1597389311708,
     "user": {
      "displayName": "Fathi Muhyi",
      "photoUrl": "https://lh3.googleusercontent.com/a-/AOh14GhChUnD9lp0uYHDjzFDqClMEcljUKZtuV7ArMBsmA=s64",
      "userId": "15936908794749616962"
     },
     "user_tz": -420
    },
    "id": "69V_y27By8nc"
   },
   "outputs": [],
   "source": [
    "df_dummy = pd.get_dummies(df_categorical, drop_first = True)"
   ]
  },
  {
   "cell_type": "code",
   "execution_count": 103,
   "metadata": {
    "colab": {
     "base_uri": "https://localhost:8080/",
     "height": 257
    },
    "colab_type": "code",
    "executionInfo": {
     "elapsed": 874,
     "status": "ok",
     "timestamp": 1597389312061,
     "user": {
      "displayName": "Fathi Muhyi",
      "photoUrl": "https://lh3.googleusercontent.com/a-/AOh14GhChUnD9lp0uYHDjzFDqClMEcljUKZtuV7ArMBsmA=s64",
      "userId": "15936908794749616962"
     },
     "user_tz": -420
    },
    "id": "DPq2ViTdzMFz",
    "outputId": "aaa639ef-3290-43ff-9325-ccbcd0f09933"
   },
   "outputs": [
    {
     "data": {
      "text/html": [
       "<div>\n",
       "<style scoped>\n",
       "    .dataframe tbody tr th:only-of-type {\n",
       "        vertical-align: middle;\n",
       "    }\n",
       "\n",
       "    .dataframe tbody tr th {\n",
       "        vertical-align: top;\n",
       "    }\n",
       "\n",
       "    .dataframe thead th {\n",
       "        text-align: right;\n",
       "    }\n",
       "</style>\n",
       "<table border=\"1\" class=\"dataframe\">\n",
       "  <thead>\n",
       "    <tr style=\"text-align: right;\">\n",
       "      <th></th>\n",
       "      <th>Age</th>\n",
       "      <th>Income</th>\n",
       "      <th>Gender_Male</th>\n",
       "      <th>City_Bogor</th>\n",
       "      <th>City_Jakarta</th>\n",
       "    </tr>\n",
       "  </thead>\n",
       "  <tbody>\n",
       "    <tr>\n",
       "      <th>0</th>\n",
       "      <td>34</td>\n",
       "      <td>20000000</td>\n",
       "      <td>1</td>\n",
       "      <td>0</td>\n",
       "      <td>1</td>\n",
       "    </tr>\n",
       "    <tr>\n",
       "      <th>1</th>\n",
       "      <td>28</td>\n",
       "      <td>15000000</td>\n",
       "      <td>0</td>\n",
       "      <td>1</td>\n",
       "      <td>0</td>\n",
       "    </tr>\n",
       "    <tr>\n",
       "      <th>2</th>\n",
       "      <td>23</td>\n",
       "      <td>7000000</td>\n",
       "      <td>0</td>\n",
       "      <td>1</td>\n",
       "      <td>0</td>\n",
       "    </tr>\n",
       "    <tr>\n",
       "      <th>3</th>\n",
       "      <td>26</td>\n",
       "      <td>9000000</td>\n",
       "      <td>1</td>\n",
       "      <td>0</td>\n",
       "      <td>0</td>\n",
       "    </tr>\n",
       "    <tr>\n",
       "      <th>4</th>\n",
       "      <td>29</td>\n",
       "      <td>12000000</td>\n",
       "      <td>0</td>\n",
       "      <td>0</td>\n",
       "      <td>0</td>\n",
       "    </tr>\n",
       "    <tr>\n",
       "      <th>5</th>\n",
       "      <td>25</td>\n",
       "      <td>11000000</td>\n",
       "      <td>0</td>\n",
       "      <td>0</td>\n",
       "      <td>1</td>\n",
       "    </tr>\n",
       "    <tr>\n",
       "      <th>6</th>\n",
       "      <td>25</td>\n",
       "      <td>9000000</td>\n",
       "      <td>1</td>\n",
       "      <td>0</td>\n",
       "      <td>0</td>\n",
       "    </tr>\n",
       "  </tbody>\n",
       "</table>\n",
       "</div>"
      ],
      "text/plain": [
       "   Age    Income  Gender_Male  City_Bogor  City_Jakarta\n",
       "0   34  20000000            1           0             1\n",
       "1   28  15000000            0           1             0\n",
       "2   23   7000000            0           1             0\n",
       "3   26   9000000            1           0             0\n",
       "4   29  12000000            0           0             0\n",
       "5   25  11000000            0           0             1\n",
       "6   25   9000000            1           0             0"
      ]
     },
     "execution_count": 103,
     "metadata": {
      "tags": []
     },
     "output_type": "execute_result"
    }
   ],
   "source": [
    "df_dummy"
   ]
  },
  {
   "cell_type": "code",
   "execution_count": null,
   "metadata": {
    "colab": {},
    "colab_type": "code",
    "id": "6JkBxdFzzNH8"
   },
   "outputs": [],
   "source": [
    "import statsmodels.api as sm\n",
    "from statsmodels.api import OLS\n",
    "\n",
    "sm_lm = OLS(df_dummy['Income'], sm.add_constant(df_dummy[['Age','Gender_Male','City_Bogor','City_Jakarta']]))\n",
    "result = sm_lm.fit()"
   ]
  },
  {
   "cell_type": "code",
   "execution_count": null,
   "metadata": {
    "colab": {
     "base_uri": "https://localhost:8080/",
     "height": 549
    },
    "colab_type": "code",
    "executionInfo": {
     "elapsed": 987,
     "status": "ok",
     "timestamp": 1597377933955,
     "user": {
      "displayName": "Fathi Muhyi",
      "photoUrl": "https://lh3.googleusercontent.com/a-/AOh14GhChUnD9lp0uYHDjzFDqClMEcljUKZtuV7ArMBsmA=s64",
      "userId": "15936908794749616962"
     },
     "user_tz": -420
    },
    "id": "QJghbrRfzszR",
    "outputId": "e6bc5041-22bf-4b05-aeb0-7a388853020c"
   },
   "outputs": [
    {
     "name": "stdout",
     "output_type": "stream",
     "text": [
      "                            OLS Regression Results                            \n",
      "==============================================================================\n",
      "Dep. Variable:                 Income   R-squared:                       0.961\n",
      "Model:                            OLS   Adj. R-squared:                  0.882\n",
      "Method:                 Least Squares   F-statistic:                     12.20\n",
      "Date:                Fri, 14 Aug 2020   Prob (F-statistic):             0.0772\n",
      "Time:                        04:05:35   Log-Likelihood:                -105.17\n",
      "No. Observations:                   7   AIC:                             220.3\n",
      "Df Residuals:                       2   BIC:                             220.1\n",
      "Df Model:                           4                                         \n",
      "Covariance Type:            nonrobust                                         \n",
      "================================================================================\n",
      "                   coef    std err          t      P>|t|      [0.025      0.975]\n",
      "--------------------------------------------------------------------------------\n",
      "const        -1.916e+07   5.24e+06     -3.657      0.067   -4.17e+07    3.38e+06\n",
      "Age            1.09e+06      2e+05      5.459      0.032    2.31e+05    1.95e+06\n",
      "Gender_Male   1.177e+05   1.45e+06      0.081      0.943   -6.13e+06    6.37e+06\n",
      "City_Bogor    2.351e+06   1.67e+06      1.407      0.295   -4.84e+06    9.54e+06\n",
      "City_Jakarta   2.43e+06   1.54e+06      1.580      0.255   -4.19e+06    9.05e+06\n",
      "==============================================================================\n",
      "Omnibus:                          nan   Durbin-Watson:                   2.485\n",
      "Prob(Omnibus):                    nan   Jarque-Bera (JB):                0.354\n",
      "Skew:                           0.091   Prob(JB):                        0.838\n",
      "Kurtosis:                       1.914   Cond. No.                         252.\n",
      "==============================================================================\n",
      "\n",
      "Warnings:\n",
      "[1] Standard Errors assume that the covariance matrix of the errors is correctly specified.\n"
     ]
    },
    {
     "name": "stderr",
     "output_type": "stream",
     "text": [
      "/usr/local/lib/python3.6/dist-packages/statsmodels/stats/stattools.py:71: ValueWarning: omni_normtest is not valid with less than 8 observations; 7 samples were given.\n",
      "  \"samples were given.\" % int(n), ValueWarning)\n"
     ]
    }
   ],
   "source": [
    "print(result.summary())"
   ]
  },
  {
   "cell_type": "markdown",
   "metadata": {
    "colab_type": "text",
    "id": "5KKAnMZTxI0D"
   },
   "source": [
    "# Python Excercise :  Dummy Variable"
   ]
  },
  {
   "cell_type": "markdown",
   "metadata": {
    "colab_type": "text",
    "id": "FBfw1L4_KaXL"
   },
   "source": [
    "> ## Table Of Contents"
   ]
  },
  {
   "cell_type": "markdown",
   "metadata": {
    "colab_type": "text",
    "id": "k60IDDaZz15T"
   },
   "source": [
    "![image.png](data:image/png;base64,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)"
   ]
  },
  {
   "cell_type": "markdown",
   "metadata": {
    "colab_type": "text",
    "id": "-GXw3sksDNum"
   },
   "source": [
    "> ## Dummy Variable Preprocessing"
   ]
  },
  {
   "cell_type": "markdown",
   "metadata": {
    "colab_type": "text",
    "id": "dg-ZYDY-EqFx"
   },
   "source": [
    "We need to do dummy variabel preprocessing for the categorical variable such as sex, smoker, day and time."
   ]
  },
  {
   "cell_type": "code",
   "execution_count": null,
   "metadata": {
    "colab": {},
    "colab_type": "code",
    "id": "bWiCAIrdz34H"
   },
   "outputs": [],
   "source": [
    "tips_dummy = pd.get_dummies(tips, drop_first = True, columns = ['sex', 'smoker', 'day', 'time'])"
   ]
  },
  {
   "cell_type": "code",
   "execution_count": null,
   "metadata": {
    "colab": {
     "base_uri": "https://localhost:8080/",
     "height": 425
    },
    "colab_type": "code",
    "executionInfo": {
     "elapsed": 789,
     "status": "ok",
     "timestamp": 1597376834370,
     "user": {
      "displayName": "Fathi Muhyi",
      "photoUrl": "https://lh3.googleusercontent.com/a-/AOh14GhChUnD9lp0uYHDjzFDqClMEcljUKZtuV7ArMBsmA=s64",
      "userId": "15936908794749616962"
     },
     "user_tz": -420
    },
    "id": "BURmYU3e8h59",
    "outputId": "0a8102b5-71a6-4b67-c935-058154e02a11"
   },
   "outputs": [
    {
     "data": {
      "text/html": [
       "<div>\n",
       "<style scoped>\n",
       "    .dataframe tbody tr th:only-of-type {\n",
       "        vertical-align: middle;\n",
       "    }\n",
       "\n",
       "    .dataframe tbody tr th {\n",
       "        vertical-align: top;\n",
       "    }\n",
       "\n",
       "    .dataframe thead th {\n",
       "        text-align: right;\n",
       "    }\n",
       "</style>\n",
       "<table border=\"1\" class=\"dataframe\">\n",
       "  <thead>\n",
       "    <tr style=\"text-align: right;\">\n",
       "      <th></th>\n",
       "      <th>total_bill</th>\n",
       "      <th>tip</th>\n",
       "      <th>size</th>\n",
       "      <th>sex_Female</th>\n",
       "      <th>smoker_No</th>\n",
       "      <th>day_Fri</th>\n",
       "      <th>day_Sat</th>\n",
       "      <th>day_Sun</th>\n",
       "      <th>time_Dinner</th>\n",
       "    </tr>\n",
       "  </thead>\n",
       "  <tbody>\n",
       "    <tr>\n",
       "      <th>0</th>\n",
       "      <td>16.99</td>\n",
       "      <td>1.01</td>\n",
       "      <td>2</td>\n",
       "      <td>1</td>\n",
       "      <td>1</td>\n",
       "      <td>0</td>\n",
       "      <td>0</td>\n",
       "      <td>1</td>\n",
       "      <td>1</td>\n",
       "    </tr>\n",
       "    <tr>\n",
       "      <th>1</th>\n",
       "      <td>10.34</td>\n",
       "      <td>1.66</td>\n",
       "      <td>3</td>\n",
       "      <td>0</td>\n",
       "      <td>1</td>\n",
       "      <td>0</td>\n",
       "      <td>0</td>\n",
       "      <td>1</td>\n",
       "      <td>1</td>\n",
       "    </tr>\n",
       "    <tr>\n",
       "      <th>2</th>\n",
       "      <td>21.01</td>\n",
       "      <td>3.50</td>\n",
       "      <td>3</td>\n",
       "      <td>0</td>\n",
       "      <td>1</td>\n",
       "      <td>0</td>\n",
       "      <td>0</td>\n",
       "      <td>1</td>\n",
       "      <td>1</td>\n",
       "    </tr>\n",
       "    <tr>\n",
       "      <th>3</th>\n",
       "      <td>23.68</td>\n",
       "      <td>3.31</td>\n",
       "      <td>2</td>\n",
       "      <td>0</td>\n",
       "      <td>1</td>\n",
       "      <td>0</td>\n",
       "      <td>0</td>\n",
       "      <td>1</td>\n",
       "      <td>1</td>\n",
       "    </tr>\n",
       "    <tr>\n",
       "      <th>4</th>\n",
       "      <td>24.59</td>\n",
       "      <td>3.61</td>\n",
       "      <td>4</td>\n",
       "      <td>1</td>\n",
       "      <td>1</td>\n",
       "      <td>0</td>\n",
       "      <td>0</td>\n",
       "      <td>1</td>\n",
       "      <td>1</td>\n",
       "    </tr>\n",
       "    <tr>\n",
       "      <th>...</th>\n",
       "      <td>...</td>\n",
       "      <td>...</td>\n",
       "      <td>...</td>\n",
       "      <td>...</td>\n",
       "      <td>...</td>\n",
       "      <td>...</td>\n",
       "      <td>...</td>\n",
       "      <td>...</td>\n",
       "      <td>...</td>\n",
       "    </tr>\n",
       "    <tr>\n",
       "      <th>239</th>\n",
       "      <td>29.03</td>\n",
       "      <td>5.92</td>\n",
       "      <td>3</td>\n",
       "      <td>0</td>\n",
       "      <td>1</td>\n",
       "      <td>0</td>\n",
       "      <td>1</td>\n",
       "      <td>0</td>\n",
       "      <td>1</td>\n",
       "    </tr>\n",
       "    <tr>\n",
       "      <th>240</th>\n",
       "      <td>27.18</td>\n",
       "      <td>2.00</td>\n",
       "      <td>2</td>\n",
       "      <td>1</td>\n",
       "      <td>0</td>\n",
       "      <td>0</td>\n",
       "      <td>1</td>\n",
       "      <td>0</td>\n",
       "      <td>1</td>\n",
       "    </tr>\n",
       "    <tr>\n",
       "      <th>241</th>\n",
       "      <td>22.67</td>\n",
       "      <td>2.00</td>\n",
       "      <td>2</td>\n",
       "      <td>0</td>\n",
       "      <td>0</td>\n",
       "      <td>0</td>\n",
       "      <td>1</td>\n",
       "      <td>0</td>\n",
       "      <td>1</td>\n",
       "    </tr>\n",
       "    <tr>\n",
       "      <th>242</th>\n",
       "      <td>17.82</td>\n",
       "      <td>1.75</td>\n",
       "      <td>2</td>\n",
       "      <td>0</td>\n",
       "      <td>1</td>\n",
       "      <td>0</td>\n",
       "      <td>1</td>\n",
       "      <td>0</td>\n",
       "      <td>1</td>\n",
       "    </tr>\n",
       "    <tr>\n",
       "      <th>243</th>\n",
       "      <td>18.78</td>\n",
       "      <td>3.00</td>\n",
       "      <td>2</td>\n",
       "      <td>1</td>\n",
       "      <td>1</td>\n",
       "      <td>0</td>\n",
       "      <td>0</td>\n",
       "      <td>0</td>\n",
       "      <td>1</td>\n",
       "    </tr>\n",
       "  </tbody>\n",
       "</table>\n",
       "<p>244 rows × 9 columns</p>\n",
       "</div>"
      ],
      "text/plain": [
       "     total_bill   tip  size  sex_Female  ...  day_Fri  day_Sat  day_Sun  time_Dinner\n",
       "0         16.99  1.01     2           1  ...        0        0        1            1\n",
       "1         10.34  1.66     3           0  ...        0        0        1            1\n",
       "2         21.01  3.50     3           0  ...        0        0        1            1\n",
       "3         23.68  3.31     2           0  ...        0        0        1            1\n",
       "4         24.59  3.61     4           1  ...        0        0        1            1\n",
       "..          ...   ...   ...         ...  ...      ...      ...      ...          ...\n",
       "239       29.03  5.92     3           0  ...        0        1        0            1\n",
       "240       27.18  2.00     2           1  ...        0        1        0            1\n",
       "241       22.67  2.00     2           0  ...        0        1        0            1\n",
       "242       17.82  1.75     2           0  ...        0        1        0            1\n",
       "243       18.78  3.00     2           1  ...        0        0        0            1\n",
       "\n",
       "[244 rows x 9 columns]"
      ]
     },
     "execution_count": 73,
     "metadata": {
      "tags": []
     },
     "output_type": "execute_result"
    }
   ],
   "source": [
    "tips_dummy"
   ]
  },
  {
   "cell_type": "code",
   "execution_count": null,
   "metadata": {
    "colab": {
     "base_uri": "https://localhost:8080/",
     "height": 68
    },
    "colab_type": "code",
    "executionInfo": {
     "elapsed": 857,
     "status": "ok",
     "timestamp": 1597376844779,
     "user": {
      "displayName": "Fathi Muhyi",
      "photoUrl": "https://lh3.googleusercontent.com/a-/AOh14GhChUnD9lp0uYHDjzFDqClMEcljUKZtuV7ArMBsmA=s64",
      "userId": "15936908794749616962"
     },
     "user_tz": -420
    },
    "id": "0gwfhsxX8r4O",
    "outputId": "7d600b8a-7b86-4694-88af-47411bdb8cfa"
   },
   "outputs": [
    {
     "data": {
      "text/plain": [
       "Index(['total_bill', 'tip', 'size', 'sex_Female', 'smoker_No', 'day_Fri',\n",
       "       'day_Sat', 'day_Sun', 'time_Dinner'],\n",
       "      dtype='object')"
      ]
     },
     "execution_count": 75,
     "metadata": {
      "tags": []
     },
     "output_type": "execute_result"
    }
   ],
   "source": [
    "tips_dummy.columns"
   ]
  },
  {
   "cell_type": "markdown",
   "metadata": {
    "colab_type": "text",
    "id": "2pcLnYOaDV3g"
   },
   "source": [
    "> ## Linear Regression With Dummy Variable"
   ]
  },
  {
   "cell_type": "markdown",
   "metadata": {
    "colab_type": "text",
    "id": "miBqeHqQFLQK"
   },
   "source": [
    "We start to fit the linear regression Model:\n",
    "- Y : Tips\n",
    "- X : Total Bill, size, sex_Female, smoker_No, day_Fri, day_Sat, day_Sun, time_Dinner"
   ]
  },
  {
   "cell_type": "code",
   "execution_count": 105,
   "metadata": {
    "colab": {},
    "colab_type": "code",
    "executionInfo": {
     "elapsed": 756,
     "status": "ok",
     "timestamp": 1597389512282,
     "user": {
      "displayName": "Fathi Muhyi",
      "photoUrl": "https://lh3.googleusercontent.com/a-/AOh14GhChUnD9lp0uYHDjzFDqClMEcljUKZtuV7ArMBsmA=s64",
      "userId": "15936908794749616962"
     },
     "user_tz": -420
    },
    "id": "nVMLS33x8i2M"
   },
   "outputs": [],
   "source": [
    "fitur = ['total_bill', 'size', 'sex_Female', 'smoker_No', 'day_Fri',\n",
    "       'day_Sat', 'day_Sun', 'time_Dinner']\n",
    "target = 'tip' \n",
    "sm_lm = OLS(tips_dummy[target], sm.add_constant(tips_dummy[fitur]))\n",
    "result = sm_lm.fit()"
   ]
  },
  {
   "cell_type": "code",
   "execution_count": 106,
   "metadata": {
    "colab": {
     "base_uri": "https://localhost:8080/",
     "height": 583
    },
    "colab_type": "code",
    "executionInfo": {
     "elapsed": 730,
     "status": "ok",
     "timestamp": 1597389513112,
     "user": {
      "displayName": "Fathi Muhyi",
      "photoUrl": "https://lh3.googleusercontent.com/a-/AOh14GhChUnD9lp0uYHDjzFDqClMEcljUKZtuV7ArMBsmA=s64",
      "userId": "15936908794749616962"
     },
     "user_tz": -420
    },
    "id": "eJWAaOD_8n1I",
    "outputId": "70b22464-65e8-48fb-afb7-946b1391dcc8"
   },
   "outputs": [
    {
     "name": "stdout",
     "output_type": "stream",
     "text": [
      "                            OLS Regression Results                            \n",
      "==============================================================================\n",
      "Dep. Variable:                    tip   R-squared:                       0.470\n",
      "Model:                            OLS   Adj. R-squared:                  0.452\n",
      "Method:                 Least Squares   F-statistic:                     26.06\n",
      "Date:                Fri, 14 Aug 2020   Prob (F-statistic):           1.20e-28\n",
      "Time:                        07:18:34   Log-Likelihood:                -347.48\n",
      "No. Observations:                 244   AIC:                             713.0\n",
      "Df Residuals:                     235   BIC:                             744.4\n",
      "Df Model:                           8                                         \n",
      "Covariance Type:            nonrobust                                         \n",
      "===============================================================================\n",
      "                  coef    std err          t      P>|t|      [0.025      0.975]\n",
      "-------------------------------------------------------------------------------\n",
      "const           0.5908      0.256      2.310      0.022       0.087       1.095\n",
      "total_bill      0.0945      0.010      9.841      0.000       0.076       0.113\n",
      "size            0.1760      0.090      1.966      0.051      -0.000       0.352\n",
      "sex_Female      0.0324      0.142      0.229      0.819      -0.247       0.311\n",
      "smoker_No       0.0864      0.147      0.589      0.556      -0.202       0.375\n",
      "day_Fri         0.1623      0.393      0.412      0.680      -0.613       0.937\n",
      "day_Sat         0.0408      0.471      0.087      0.931      -0.886       0.968\n",
      "day_Sun         0.1368      0.472      0.290      0.772      -0.793       1.066\n",
      "time_Dinner    -0.0681      0.445     -0.153      0.878      -0.944       0.808\n",
      "==============================================================================\n",
      "Omnibus:                       27.860   Durbin-Watson:                   2.096\n",
      "Prob(Omnibus):                  0.000   Jarque-Bera (JB):               52.555\n",
      "Skew:                           0.607   Prob(JB):                     3.87e-12\n",
      "Kurtosis:                       4.923   Cond. No.                         281.\n",
      "==============================================================================\n",
      "\n",
      "Warnings:\n",
      "[1] Standard Errors assume that the covariance matrix of the errors is correctly specified.\n"
     ]
    }
   ],
   "source": [
    "print(result.summary())"
   ]
  },
  {
   "cell_type": "markdown",
   "metadata": {
    "colab_type": "text",
    "id": "LTTOEtfnDhdw"
   },
   "source": [
    "> ## Assumption"
   ]
  },
  {
   "cell_type": "markdown",
   "metadata": {
    "colab_type": "text",
    "id": "Xa-wHon3Fhk5"
   },
   "source": [
    "we will asses some assumption and check the multicollinearity\n",
    "1. Normality\n",
    "1. Gauss-Markov\n",
    "1. Multicollinearity"
   ]
  },
  {
   "cell_type": "markdown",
   "metadata": {
    "colab_type": "text",
    "id": "L-Lz7s_wEIiw"
   },
   "source": [
    "NORMALITY"
   ]
  },
  {
   "cell_type": "code",
   "execution_count": 107,
   "metadata": {
    "colab": {
     "base_uri": "https://localhost:8080/",
     "height": 644
    },
    "colab_type": "code",
    "executionInfo": {
     "elapsed": 855,
     "status": "ok",
     "timestamp": 1597389516646,
     "user": {
      "displayName": "Fathi Muhyi",
      "photoUrl": "https://lh3.googleusercontent.com/a-/AOh14GhChUnD9lp0uYHDjzFDqClMEcljUKZtuV7ArMBsmA=s64",
      "userId": "15936908794749616962"
     },
     "user_tz": -420
    },
    "id": "_MP5rN9U9jqF",
    "outputId": "2f843939-9a33-4745-e159-159c0d8fe09b"
   },
   "outputs": [
    {
     "data": {
      "text/plain": [
       "Text(0.5, 0, 'Residuals')"
      ]
     },
     "execution_count": 107,
     "metadata": {
      "tags": []
     },
     "output_type": "execute_result"
    },
    {
     "data": {
      "image/png": "[encoded data removed]",
      "text/plain": [
       "<Figure size 720x720 with 1 Axes>"
      ]
     },
     "metadata": {
      "needs_background": "light",
      "tags": []
     },
     "output_type": "display_data"
    }
   ],
   "source": [
    "plt.figure(figsize=(10,10))\n",
    "sns.set_context('notebook',font_scale=2)\n",
    "sns.distplot(result.resid)\n",
    "plt.xlabel('Residuals', fontsize = 20)"
   ]
  },
  {
   "cell_type": "code",
   "execution_count": 108,
   "metadata": {
    "colab": {
     "base_uri": "https://localhost:8080/",
     "height": 306
    },
    "colab_type": "code",
    "executionInfo": {
     "elapsed": 863,
     "status": "ok",
     "timestamp": 1597389518042,
     "user": {
      "displayName": "Fathi Muhyi",
      "photoUrl": "https://lh3.googleusercontent.com/a-/AOh14GhChUnD9lp0uYHDjzFDqClMEcljUKZtuV7ArMBsmA=s64",
      "userId": "15936908794749616962"
     },
     "user_tz": -420
    },
    "id": "gu1gnxVO9vW7",
    "outputId": "1b723670-5226-4ee0-8791-1e1d40ed1f3a"
   },
   "outputs": [
    {
     "data": {
      "image/png": "[encoded data removed]",
      "text/plain": [
       "<Figure size 432x288 with 1 Axes>"
      ]
     },
     "metadata": {
      "needs_background": "light",
      "tags": []
     },
     "output_type": "display_data"
    }
   ],
   "source": [
    "sm.qqplot(result.resid, line = '45')\n",
    "plt.show()"
   ]
  },
  {
   "cell_type": "markdown",
   "metadata": {
    "colab_type": "text",
    "id": "klrUCY82EKsr"
   },
   "source": [
    "GAUSS-MARKOV"
   ]
  },
  {
   "cell_type": "code",
   "execution_count": 109,
   "metadata": {
    "colab": {
     "base_uri": "https://localhost:8080/",
     "height": 644
    },
    "colab_type": "code",
    "executionInfo": {
     "elapsed": 1252,
     "status": "ok",
     "timestamp": 1597389521123,
     "user": {
      "displayName": "Fathi Muhyi",
      "photoUrl": "https://lh3.googleusercontent.com/a-/AOh14GhChUnD9lp0uYHDjzFDqClMEcljUKZtuV7ArMBsmA=s64",
      "userId": "15936908794749616962"
     },
     "user_tz": -420
    },
    "id": "Ofqha-ux899L",
    "outputId": "57d00c24-b696-47cf-958b-80ad48a77a3a"
   },
   "outputs": [
    {
     "data": {
      "text/plain": [
       "Text(0, 0.5, 'Residuals')"
      ]
     },
     "execution_count": 109,
     "metadata": {
      "tags": []
     },
     "output_type": "execute_result"
    },
    {
     "data": {
      "image/png": "[encoded data removed]",
      "text/plain": [
       "<Figure size 720x720 with 1 Axes>"
      ]
     },
     "metadata": {
      "needs_background": "light",
      "tags": []
     },
     "output_type": "display_data"
    }
   ],
   "source": [
    "plt.figure(figsize=(10,10))\n",
    "sns.set_context('notebook',font_scale=2)\n",
    "sns.scatterplot(result.fittedvalues,result.resid)\n",
    "sns.lineplot(result.fittedvalues,0)\n",
    "plt.xlabel('Fitted Values', fontsize = 20)\n",
    "plt.ylabel('Residuals', fontsize = 20)"
   ]
  },
  {
   "cell_type": "markdown",
   "metadata": {
    "colab_type": "text",
    "id": "cf20n9_UEPA6"
   },
   "source": [
    "MULTICOLLINEARITY"
   ]
  },
  {
   "cell_type": "code",
   "execution_count": 110,
   "metadata": {
    "colab": {
     "base_uri": "https://localhost:8080/",
     "height": 286
    },
    "colab_type": "code",
    "executionInfo": {
     "elapsed": 721,
     "status": "ok",
     "timestamp": 1597389522005,
     "user": {
      "displayName": "Fathi Muhyi",
      "photoUrl": "https://lh3.googleusercontent.com/a-/AOh14GhChUnD9lp0uYHDjzFDqClMEcljUKZtuV7ArMBsmA=s64",
      "userId": "15936908794749616962"
     },
     "user_tz": -420
    },
    "id": "eaLn3eVj9ySO",
    "outputId": "6c9079bb-452b-4cb0-b518-04f5a77fa48c"
   },
   "outputs": [
    {
     "data": {
      "text/html": [
       "<div>\n",
       "<style scoped>\n",
       "    .dataframe tbody tr th:only-of-type {\n",
       "        vertical-align: middle;\n",
       "    }\n",
       "\n",
       "    .dataframe tbody tr th {\n",
       "        vertical-align: top;\n",
       "    }\n",
       "\n",
       "    .dataframe thead th {\n",
       "        text-align: right;\n",
       "    }\n",
       "</style>\n",
       "<table border=\"1\" class=\"dataframe\">\n",
       "  <thead>\n",
       "    <tr style=\"text-align: right;\">\n",
       "      <th></th>\n",
       "      <th>variables</th>\n",
       "      <th>VIF</th>\n",
       "    </tr>\n",
       "  </thead>\n",
       "  <tbody>\n",
       "    <tr>\n",
       "      <th>0</th>\n",
       "      <td>total_bill</td>\n",
       "      <td>9.443197</td>\n",
       "    </tr>\n",
       "    <tr>\n",
       "      <th>1</th>\n",
       "      <td>size</td>\n",
       "      <td>12.048233</td>\n",
       "    </tr>\n",
       "    <tr>\n",
       "      <th>2</th>\n",
       "      <td>sex_Female</td>\n",
       "      <td>1.479481</td>\n",
       "    </tr>\n",
       "    <tr>\n",
       "      <th>3</th>\n",
       "      <td>smoker_No</td>\n",
       "      <td>2.635550</td>\n",
       "    </tr>\n",
       "    <tr>\n",
       "      <th>4</th>\n",
       "      <td>day_Fri</td>\n",
       "      <td>2.559699</td>\n",
       "    </tr>\n",
       "    <tr>\n",
       "      <th>5</th>\n",
       "      <td>day_Sat</td>\n",
       "      <td>17.730443</td>\n",
       "    </tr>\n",
       "    <tr>\n",
       "      <th>6</th>\n",
       "      <td>day_Sun</td>\n",
       "      <td>15.810322</td>\n",
       "    </tr>\n",
       "    <tr>\n",
       "      <th>7</th>\n",
       "      <td>time_Dinner</td>\n",
       "      <td>33.150259</td>\n",
       "    </tr>\n",
       "  </tbody>\n",
       "</table>\n",
       "</div>"
      ],
      "text/plain": [
       "     variables        VIF\n",
       "0   total_bill   9.443197\n",
       "1         size  12.048233\n",
       "2   sex_Female   1.479481\n",
       "3    smoker_No   2.635550\n",
       "4      day_Fri   2.559699\n",
       "5      day_Sat  17.730443\n",
       "6      day_Sun  15.810322\n",
       "7  time_Dinner  33.150259"
      ]
     },
     "execution_count": 110,
     "metadata": {
      "tags": []
     },
     "output_type": "execute_result"
    }
   ],
   "source": [
    "calc_vif(tips_dummy[fitur])"
   ]
  },
  {
   "cell_type": "markdown",
   "metadata": {
    "colab_type": "text",
    "id": "_xLe7L5rE5KF"
   },
   "source": [
    "Assumption Assesment:\n",
    "1. If we refer to the histogram, the residual seemed normally distributed\n",
    "1. Model residuals gather around zero\n",
    "1. No certain pattern in the residual plot\n",
    "1. Heteroscedasticity Occur\n",
    "1. vif is not acceptable : this is make sense because there should be relationship between size and total bill. So, actually we only need either total bill or size. time dinner has the highest value of vif, it's reasonable if we exclude time dinner from model."
   ]
  },
  {
   "cell_type": "markdown",
   "metadata": {
    "colab_type": "text",
    "id": "osedu56gEZEQ"
   },
   "source": [
    "> ## Model Improvements"
   ]
  },
  {
   "cell_type": "markdown",
   "metadata": {
    "colab_type": "text",
    "id": "KqwMfbPKFsoq"
   },
   "source": [
    "We need to improve the model because multicollinearity problem. We refit the linear regression Model with following features:\n",
    "- Y : Tips\n",
    "- X : Total Bill, sex_Female, smoker_No, day_Fri, day_Sat, day_Sun"
   ]
  },
  {
   "cell_type": "code",
   "execution_count": 111,
   "metadata": {
    "colab": {},
    "colab_type": "code",
    "executionInfo": {
     "elapsed": 850,
     "status": "ok",
     "timestamp": 1597389524238,
     "user": {
      "displayName": "Fathi Muhyi",
      "photoUrl": "https://lh3.googleusercontent.com/a-/AOh14GhChUnD9lp0uYHDjzFDqClMEcljUKZtuV7ArMBsmA=s64",
      "userId": "15936908794749616962"
     },
     "user_tz": -420
    },
    "id": "I5Orb4aqBqbL"
   },
   "outputs": [],
   "source": [
    "fitur = ['total_bill', 'sex_Female', 'smoker_No', 'day_Fri', 'day_Sat', 'day_Sun']\n",
    "target = 'tip' \n",
    "sm_lm = OLS(tips_dummy[target], sm.add_constant(tips_dummy[fitur]))\n",
    "result = sm_lm.fit()"
   ]
  },
  {
   "cell_type": "code",
   "execution_count": 112,
   "metadata": {
    "colab": {
     "base_uri": "https://localhost:8080/",
     "height": 549
    },
    "colab_type": "code",
    "executionInfo": {
     "elapsed": 808,
     "status": "ok",
     "timestamp": 1597389525372,
     "user": {
      "displayName": "Fathi Muhyi",
      "photoUrl": "https://lh3.googleusercontent.com/a-/AOh14GhChUnD9lp0uYHDjzFDqClMEcljUKZtuV7ArMBsmA=s64",
      "userId": "15936908794749616962"
     },
     "user_tz": -420
    },
    "id": "jl3V-p15Bssz",
    "outputId": "024d01e8-3244-4fcc-f006-8f6147e61ac1"
   },
   "outputs": [
    {
     "name": "stdout",
     "output_type": "stream",
     "text": [
      "                            OLS Regression Results                            \n",
      "==============================================================================\n",
      "Dep. Variable:                    tip   R-squared:                       0.461\n",
      "Model:                            OLS   Adj. R-squared:                  0.448\n",
      "Method:                 Least Squares   F-statistic:                     33.81\n",
      "Date:                Fri, 14 Aug 2020   Prob (F-statistic):           2.35e-29\n",
      "Time:                        07:18:46   Log-Likelihood:                -349.51\n",
      "No. Observations:                 244   AIC:                             713.0\n",
      "Df Residuals:                     237   BIC:                             737.5\n",
      "Df Model:                           6                                         \n",
      "Covariance Type:            nonrobust                                         \n",
      "==============================================================================\n",
      "                 coef    std err          t      P>|t|      [0.025      0.975]\n",
      "------------------------------------------------------------------------------\n",
      "const          0.7819      0.238      3.285      0.001       0.313       1.251\n",
      "total_bill     0.1057      0.008     13.858      0.000       0.091       0.121\n",
      "sex_Female     0.0377      0.142      0.265      0.791      -0.242       0.318\n",
      "smoker_No      0.1394      0.144      0.966      0.335      -0.145       0.423\n",
      "day_Fri        0.0928      0.280      0.332      0.740      -0.459       0.644\n",
      "day_Sat       -0.0335      0.176     -0.190      0.849      -0.381       0.314\n",
      "day_Sun        0.0969      0.182      0.532      0.595      -0.262       0.456\n",
      "==============================================================================\n",
      "Omnibus:                       24.459   Durbin-Watson:                   2.144\n",
      "Prob(Omnibus):                  0.000   Jarque-Bera (JB):               45.543\n",
      "Skew:                           0.540   Prob(JB):                     1.29e-10\n",
      "Kurtosis:                       4.821   Cond. No.                         114.\n",
      "==============================================================================\n",
      "\n",
      "Warnings:\n",
      "[1] Standard Errors assume that the covariance matrix of the errors is correctly specified.\n"
     ]
    }
   ],
   "source": [
    "print(result.summary())"
   ]
  },
  {
   "cell_type": "code",
   "execution_count": 113,
   "metadata": {
    "colab": {
     "base_uri": "https://localhost:8080/",
     "height": 227
    },
    "colab_type": "code",
    "executionInfo": {
     "elapsed": 777,
     "status": "ok",
     "timestamp": 1597389526874,
     "user": {
      "displayName": "Fathi Muhyi",
      "photoUrl": "https://lh3.googleusercontent.com/a-/AOh14GhChUnD9lp0uYHDjzFDqClMEcljUKZtuV7ArMBsmA=s64",
      "userId": "15936908794749616962"
     },
     "user_tz": -420
    },
    "id": "UMo8gC7cB3Ko",
    "outputId": "f9e70fb7-7d94-407d-b316-596bb3706765"
   },
   "outputs": [
    {
     "data": {
      "text/html": [
       "<div>\n",
       "<style scoped>\n",
       "    .dataframe tbody tr th:only-of-type {\n",
       "        vertical-align: middle;\n",
       "    }\n",
       "\n",
       "    .dataframe tbody tr th {\n",
       "        vertical-align: top;\n",
       "    }\n",
       "\n",
       "    .dataframe thead th {\n",
       "        text-align: right;\n",
       "    }\n",
       "</style>\n",
       "<table border=\"1\" class=\"dataframe\">\n",
       "  <thead>\n",
       "    <tr style=\"text-align: right;\">\n",
       "      <th></th>\n",
       "      <th>variables</th>\n",
       "      <th>VIF</th>\n",
       "    </tr>\n",
       "  </thead>\n",
       "  <tbody>\n",
       "    <tr>\n",
       "      <th>0</th>\n",
       "      <td>total_bill</td>\n",
       "      <td>3.670370</td>\n",
       "    </tr>\n",
       "    <tr>\n",
       "      <th>1</th>\n",
       "      <td>sex_Female</td>\n",
       "      <td>1.439580</td>\n",
       "    </tr>\n",
       "    <tr>\n",
       "      <th>2</th>\n",
       "      <td>smoker_No</td>\n",
       "      <td>2.228945</td>\n",
       "    </tr>\n",
       "    <tr>\n",
       "      <th>3</th>\n",
       "      <td>day_Fri</td>\n",
       "      <td>1.175956</td>\n",
       "    </tr>\n",
       "    <tr>\n",
       "      <th>4</th>\n",
       "      <td>day_Sat</td>\n",
       "      <td>1.985433</td>\n",
       "    </tr>\n",
       "    <tr>\n",
       "      <th>5</th>\n",
       "      <td>day_Sun</td>\n",
       "      <td>2.068751</td>\n",
       "    </tr>\n",
       "  </tbody>\n",
       "</table>\n",
       "</div>"
      ],
      "text/plain": [
       "    variables       VIF\n",
       "0  total_bill  3.670370\n",
       "1  sex_Female  1.439580\n",
       "2   smoker_No  2.228945\n",
       "3     day_Fri  1.175956\n",
       "4     day_Sat  1.985433\n",
       "5     day_Sun  2.068751"
      ]
     },
     "execution_count": 113,
     "metadata": {
      "tags": []
     },
     "output_type": "execute_result"
    }
   ],
   "source": [
    "calc_vif(tips_dummy[fitur])"
   ]
  },
  {
   "cell_type": "markdown",
   "metadata": {
    "colab_type": "text",
    "id": "ALNDDw00F7kw"
   },
   "source": [
    "No problem in multicollinearity Anymore"
   ]
  },
  {
   "cell_type": "markdown",
   "metadata": {
    "colab_type": "text",
    "id": "X6mPlknbLABF"
   },
   "source": [
    "> ## Exercise : Interpret The Latest Result"
   ]
  },
  {
   "cell_type": "markdown",
   "metadata": {
    "colab_type": "text",
    "id": "RW_X4IzuLFik"
   },
   "source": [
    "1. ...\n",
    "2. ..."
   ]
  }
 ],
 "metadata": {
  "colab": {
   "collapsed_sections": [
    "ioMiJMt5CPNy",
    "i4uACInQCS9u",
    "-GXw3sksDNum",
    "2pcLnYOaDV3g",
    "LTTOEtfnDhdw"
   ],
   "name": "Regression_Notebook - Hands On.ipynb",
   "provenance": [],
   "toc_visible": true
  },
  "kernelspec": {
   "display_name": "Python 3",
   "language": "python",
   "name": "python3"
  },
  "language_info": {
   "codemirror_mode": {
    "name": "ipython",
    "version": 3
   },
   "file_extension": ".py",
   "mimetype": "text/x-python",
   "name": "python",
   "nbconvert_exporter": "python",
   "pygments_lexer": "ipython3",
   "version": "3.8.5"
  }
 },
 "nbformat": 4,
 "nbformat_minor": 4
}
