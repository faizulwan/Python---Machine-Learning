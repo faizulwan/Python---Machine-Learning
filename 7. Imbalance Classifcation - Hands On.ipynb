{
 "cells": [
  {
   "cell_type": "markdown",
   "metadata": {
    "id": "Xy9alhRfuC_A"
   },
   "source": [
    "# Data : Feature Engineering"
   ]
  },
  {
   "cell_type": "markdown",
   "metadata": {
    "id": "r9tELhD_uV-s"
   },
   "source": [
    "Table Of Contents\n",
    "- Data\n",
    "- EDA\n",
    "- Model 1\n",
    "- Model 2"
   ]
  },
  {
   "cell_type": "code",
   "execution_count": null,
   "metadata": {
    "id": "20PPfGEgDabl"
   },
   "outputs": [],
   "source": [
    "import pandas as pd\n",
    "import numpy as np\n",
    "\n",
    "import seaborn as sns\n",
    "import matplotlib.pyplot as plt\n",
    "\n",
    "from sklearn.preprocessing import PolynomialFeatures\n",
    "\n",
    "from sklearn.model_selection import train_test_split\n",
    "\n",
    "from sklearn.linear_model import LogisticRegression\n",
    "\n",
    "from sklearn.metrics import classification_report"
   ]
  },
  {
   "cell_type": "code",
   "execution_count": null,
   "metadata": {
    "id": "2RasL4l2DrjW"
   },
   "outputs": [],
   "source": [
    "wine = pd.read_csv('white_wine.csv')"
   ]
  },
  {
   "cell_type": "code",
   "execution_count": null,
   "metadata": {
    "colab": {
     "base_uri": "https://localhost:8080/",
     "height": 419
    },
    "executionInfo": {
     "elapsed": 2059,
     "status": "ok",
     "timestamp": 1602646487223,
     "user": {
      "displayName": "Fathi Muhyi",
      "photoUrl": "https://lh3.googleusercontent.com/a-/AOh14GhChUnD9lp0uYHDjzFDqClMEcljUKZtuV7ArMBsmA=s64",
      "userId": "15936908794749616962"
     },
     "user_tz": -420
    },
    "id": "ldngQgmQIahw",
    "outputId": "37c47d13-f95a-4454-81a8-8ebda18518a1"
   },
   "outputs": [
    {
     "data": {
      "text/html": [
       "<div>\n",
       "<style scoped>\n",
       "    .dataframe tbody tr th:only-of-type {\n",
       "        vertical-align: middle;\n",
       "    }\n",
       "\n",
       "    .dataframe tbody tr th {\n",
       "        vertical-align: top;\n",
       "    }\n",
       "\n",
       "    .dataframe thead th {\n",
       "        text-align: right;\n",
       "    }\n",
       "</style>\n",
       "<table border=\"1\" class=\"dataframe\">\n",
       "  <thead>\n",
       "    <tr style=\"text-align: right;\">\n",
       "      <th></th>\n",
       "      <th>fixed acidity</th>\n",
       "      <th>volatile acidity</th>\n",
       "      <th>citric acid</th>\n",
       "      <th>residual sugar</th>\n",
       "      <th>chlorides</th>\n",
       "      <th>free sulfur dioxide</th>\n",
       "      <th>total sulfur dioxide</th>\n",
       "      <th>density</th>\n",
       "      <th>pH</th>\n",
       "      <th>sulphates</th>\n",
       "      <th>alcohol</th>\n",
       "      <th>quality</th>\n",
       "    </tr>\n",
       "  </thead>\n",
       "  <tbody>\n",
       "    <tr>\n",
       "      <th>0</th>\n",
       "      <td>7.0</td>\n",
       "      <td>0.27</td>\n",
       "      <td>0.36</td>\n",
       "      <td>20.7</td>\n",
       "      <td>0.045</td>\n",
       "      <td>45.0</td>\n",
       "      <td>170.0</td>\n",
       "      <td>1.0010</td>\n",
       "      <td>3.00</td>\n",
       "      <td>0.45</td>\n",
       "      <td>8.8</td>\n",
       "      <td>6.0</td>\n",
       "    </tr>\n",
       "    <tr>\n",
       "      <th>1</th>\n",
       "      <td>6.3</td>\n",
       "      <td>0.30</td>\n",
       "      <td>0.34</td>\n",
       "      <td>1.6</td>\n",
       "      <td>0.049</td>\n",
       "      <td>14.0</td>\n",
       "      <td>132.0</td>\n",
       "      <td>0.9940</td>\n",
       "      <td>3.30</td>\n",
       "      <td>0.49</td>\n",
       "      <td>9.5</td>\n",
       "      <td>6.0</td>\n",
       "    </tr>\n",
       "    <tr>\n",
       "      <th>2</th>\n",
       "      <td>8.1</td>\n",
       "      <td>0.28</td>\n",
       "      <td>0.40</td>\n",
       "      <td>6.9</td>\n",
       "      <td>0.050</td>\n",
       "      <td>30.0</td>\n",
       "      <td>97.0</td>\n",
       "      <td>0.9951</td>\n",
       "      <td>3.26</td>\n",
       "      <td>0.44</td>\n",
       "      <td>10.1</td>\n",
       "      <td>6.0</td>\n",
       "    </tr>\n",
       "    <tr>\n",
       "      <th>3</th>\n",
       "      <td>7.2</td>\n",
       "      <td>0.23</td>\n",
       "      <td>0.32</td>\n",
       "      <td>8.5</td>\n",
       "      <td>0.058</td>\n",
       "      <td>47.0</td>\n",
       "      <td>186.0</td>\n",
       "      <td>0.9956</td>\n",
       "      <td>3.19</td>\n",
       "      <td>0.40</td>\n",
       "      <td>9.9</td>\n",
       "      <td>6.0</td>\n",
       "    </tr>\n",
       "    <tr>\n",
       "      <th>4</th>\n",
       "      <td>7.2</td>\n",
       "      <td>0.23</td>\n",
       "      <td>0.32</td>\n",
       "      <td>8.5</td>\n",
       "      <td>0.058</td>\n",
       "      <td>47.0</td>\n",
       "      <td>186.0</td>\n",
       "      <td>0.9956</td>\n",
       "      <td>3.19</td>\n",
       "      <td>0.40</td>\n",
       "      <td>9.9</td>\n",
       "      <td>6.0</td>\n",
       "    </tr>\n",
       "    <tr>\n",
       "      <th>...</th>\n",
       "      <td>...</td>\n",
       "      <td>...</td>\n",
       "      <td>...</td>\n",
       "      <td>...</td>\n",
       "      <td>...</td>\n",
       "      <td>...</td>\n",
       "      <td>...</td>\n",
       "      <td>...</td>\n",
       "      <td>...</td>\n",
       "      <td>...</td>\n",
       "      <td>...</td>\n",
       "      <td>...</td>\n",
       "    </tr>\n",
       "    <tr>\n",
       "      <th>515</th>\n",
       "      <td>6.1</td>\n",
       "      <td>0.31</td>\n",
       "      <td>0.26</td>\n",
       "      <td>2.2</td>\n",
       "      <td>0.051</td>\n",
       "      <td>28.0</td>\n",
       "      <td>167.0</td>\n",
       "      <td>0.9926</td>\n",
       "      <td>3.37</td>\n",
       "      <td>0.47</td>\n",
       "      <td>10.4</td>\n",
       "      <td>6.0</td>\n",
       "    </tr>\n",
       "    <tr>\n",
       "      <th>516</th>\n",
       "      <td>6.8</td>\n",
       "      <td>0.18</td>\n",
       "      <td>0.37</td>\n",
       "      <td>1.6</td>\n",
       "      <td>0.055</td>\n",
       "      <td>47.0</td>\n",
       "      <td>154.0</td>\n",
       "      <td>0.9934</td>\n",
       "      <td>3.08</td>\n",
       "      <td>0.45</td>\n",
       "      <td>9.1</td>\n",
       "      <td>5.0</td>\n",
       "    </tr>\n",
       "    <tr>\n",
       "      <th>517</th>\n",
       "      <td>7.4</td>\n",
       "      <td>0.15</td>\n",
       "      <td>0.42</td>\n",
       "      <td>1.7</td>\n",
       "      <td>0.045</td>\n",
       "      <td>49.0</td>\n",
       "      <td>154.0</td>\n",
       "      <td>0.9920</td>\n",
       "      <td>3.00</td>\n",
       "      <td>0.60</td>\n",
       "      <td>10.4</td>\n",
       "      <td>6.0</td>\n",
       "    </tr>\n",
       "    <tr>\n",
       "      <th>518</th>\n",
       "      <td>5.9</td>\n",
       "      <td>0.13</td>\n",
       "      <td>0.28</td>\n",
       "      <td>1.9</td>\n",
       "      <td>0.050</td>\n",
       "      <td>20.0</td>\n",
       "      <td>78.0</td>\n",
       "      <td>0.9918</td>\n",
       "      <td>3.43</td>\n",
       "      <td>0.64</td>\n",
       "      <td>10.8</td>\n",
       "      <td>6.0</td>\n",
       "    </tr>\n",
       "    <tr>\n",
       "      <th>519</th>\n",
       "      <td>7.2</td>\n",
       "      <td>0.34</td>\n",
       "      <td>0.34</td>\n",
       "      <td>12.6</td>\n",
       "      <td>0.048</td>\n",
       "      <td>7.0</td>\n",
       "      <td>41.0</td>\n",
       "      <td>0.9940</td>\n",
       "      <td>NaN</td>\n",
       "      <td>NaN</td>\n",
       "      <td>NaN</td>\n",
       "      <td>NaN</td>\n",
       "    </tr>\n",
       "  </tbody>\n",
       "</table>\n",
       "<p>520 rows × 12 columns</p>\n",
       "</div>"
      ],
      "text/plain": [
       "     fixed acidity  volatile acidity  citric acid  ...  sulphates  alcohol  quality\n",
       "0              7.0              0.27         0.36  ...       0.45      8.8      6.0\n",
       "1              6.3              0.30         0.34  ...       0.49      9.5      6.0\n",
       "2              8.1              0.28         0.40  ...       0.44     10.1      6.0\n",
       "3              7.2              0.23         0.32  ...       0.40      9.9      6.0\n",
       "4              7.2              0.23         0.32  ...       0.40      9.9      6.0\n",
       "..             ...               ...          ...  ...        ...      ...      ...\n",
       "515            6.1              0.31         0.26  ...       0.47     10.4      6.0\n",
       "516            6.8              0.18         0.37  ...       0.45      9.1      5.0\n",
       "517            7.4              0.15         0.42  ...       0.60     10.4      6.0\n",
       "518            5.9              0.13         0.28  ...       0.64     10.8      6.0\n",
       "519            7.2              0.34         0.34  ...        NaN      NaN      NaN\n",
       "\n",
       "[520 rows x 12 columns]"
      ]
     },
     "execution_count": 3,
     "metadata": {
      "tags": []
     },
     "output_type": "execute_result"
    }
   ],
   "source": [
    "wine"
   ]
  },
  {
   "cell_type": "markdown",
   "metadata": {
    "id": "oamNT_nquSVM"
   },
   "source": [
    "> ## EDA"
   ]
  },
  {
   "cell_type": "markdown",
   "metadata": {
    "id": "9TLIlMsU3AnN"
   },
   "source": [
    "We will be doing some EDA to check the target variabel distribution. The target variabel distribution is\n",
    "1. (+) a good quality wine : quality > 6 (18.9%)\n",
    "1. (-) a bad quality wine : quality <= 6 (81.1%)"
   ]
  },
  {
   "cell_type": "markdown",
   "metadata": {
    "id": "46lrPVfm34VL"
   },
   "source": [
    "You will find that the distribution is imbalanced with 18.9 % positive class and 81.1 % negative class. The minority class is the good quality one, we migh more interest to detect a wine with good quality than the common one."
   ]
  },
  {
   "cell_type": "code",
   "execution_count": null,
   "metadata": {
    "colab": {
     "base_uri": "https://localhost:8080/",
     "height": 68
    },
    "executionInfo": {
     "elapsed": 2054,
     "status": "ok",
     "timestamp": 1602646487224,
     "user": {
      "displayName": "Fathi Muhyi",
      "photoUrl": "https://lh3.googleusercontent.com/a-/AOh14GhChUnD9lp0uYHDjzFDqClMEcljUKZtuV7ArMBsmA=s64",
      "userId": "15936908794749616962"
     },
     "user_tz": -420
    },
    "id": "1w-i_MRsIJB_",
    "outputId": "61e9474b-617e-4908-ed35-b91ee2aef006"
   },
   "outputs": [
    {
     "data": {
      "text/plain": [
       "0    81.153846\n",
       "1    18.846154\n",
       "Name: label, dtype: float64"
      ]
     },
     "execution_count": 4,
     "metadata": {
      "tags": []
     },
     "output_type": "execute_result"
    }
   ],
   "source": [
    "wine['alcohol'].fillna(wine['alcohol'].mean(),inplace = True)\n",
    "wine['label'] = np.where(wine['quality']>6,1,0)\n",
    "wine['label'].value_counts()/wine.shape[0]*100"
   ]
  },
  {
   "cell_type": "markdown",
   "metadata": {
    "id": "_G_RN8qgAxTI"
   },
   "source": [
    "We will develope the model only using two features alcohol and density. Using the scatterplot you can see how those feature can differentiate the wine quality. Genrally, wine with good quality has high alcohol and high density.\n",
    "\n"
   ]
  },
  {
   "cell_type": "code",
   "execution_count": null,
   "metadata": {
    "colab": {
     "base_uri": "https://localhost:8080/",
     "height": 636
    },
    "executionInfo": {
     "elapsed": 2743,
     "status": "ok",
     "timestamp": 1602646487921,
     "user": {
      "displayName": "Fathi Muhyi",
      "photoUrl": "https://lh3.googleusercontent.com/a-/AOh14GhChUnD9lp0uYHDjzFDqClMEcljUKZtuV7ArMBsmA=s64",
      "userId": "15936908794749616962"
     },
     "user_tz": -420
    },
    "id": "Nq5JUtHVIPT3",
    "outputId": "3d2aa6d2-d1d4-4b4e-c4a1-538186a5813b"
   },
   "outputs": [
    {
     "data": {
      "text/plain": [
       "Text(0, 0.5, 'Density')"
      ]
     },
     "execution_count": 5,
     "metadata": {
      "tags": []
     },
     "output_type": "execute_result"
    },
    {
     "data": {
      "image/png": "[encoded data removed]",
      "text/plain": [
       "<Figure size 720x720 with 1 Axes>"
      ]
     },
     "metadata": {
      "needs_background": "light",
      "tags": []
     },
     "output_type": "display_data"
    }
   ],
   "source": [
    "plt.figure(figsize = (10,10))\n",
    "sns.scatterplot(x = 'alcohol', y = 'density',data = wine, hue = 'label')\n",
    "plt.xlabel('Alcohol', fontsize = 23)\n",
    "plt.ylabel('Density', fontsize = 23)"
   ]
  },
  {
   "cell_type": "markdown",
   "metadata": {
    "id": "p_Y5JAHT3ZYc"
   },
   "source": [
    "> ## Data Splitting"
   ]
  },
  {
   "cell_type": "code",
   "execution_count": null,
   "metadata": {
    "id": "uJuYmScjIdTu"
   },
   "outputs": [],
   "source": [
    "X = wine[['density','alcohol']]\n",
    "y = wine['label']"
   ]
  },
  {
   "cell_type": "code",
   "execution_count": null,
   "metadata": {
    "id": "IivRinZ3I6u5"
   },
   "outputs": [],
   "source": [
    "X_train, X_test, y_train, y_test = train_test_split(X,y, stratify = y, random_state = 2020)"
   ]
  },
  {
   "cell_type": "markdown",
   "metadata": {
    "id": "7J1IN1bXJiDi"
   },
   "source": [
    "> ## MODEL 1 : without polynomial"
   ]
  },
  {
   "cell_type": "code",
   "execution_count": null,
   "metadata": {
    "colab": {
     "base_uri": "https://localhost:8080/",
     "height": 102
    },
    "executionInfo": {
     "elapsed": 3086,
     "status": "ok",
     "timestamp": 1602646488275,
     "user": {
      "displayName": "Fathi Muhyi",
      "photoUrl": "https://lh3.googleusercontent.com/a-/AOh14GhChUnD9lp0uYHDjzFDqClMEcljUKZtuV7ArMBsmA=s64",
      "userId": "15936908794749616962"
     },
     "user_tz": -420
    },
    "id": "ox_EGZRcI7Gw",
    "outputId": "cd53f0fe-9efc-441f-fa4c-60439d34f5cd"
   },
   "outputs": [
    {
     "data": {
      "text/plain": [
       "LogisticRegression(C=1.0, class_weight=None, dual=False, fit_intercept=True,\n",
       "                   intercept_scaling=1, l1_ratio=None, max_iter=100,\n",
       "                   multi_class='auto', n_jobs=None, penalty='l2',\n",
       "                   random_state=None, solver='lbfgs', tol=0.0001, verbose=0,\n",
       "                   warm_start=False)"
      ]
     },
     "execution_count": 8,
     "metadata": {
      "tags": []
     },
     "output_type": "execute_result"
    }
   ],
   "source": [
    "logreg = LogisticRegression()\n",
    "logreg.fit(X_train,y_train)"
   ]
  },
  {
   "cell_type": "code",
   "execution_count": null,
   "metadata": {
    "colab": {
     "base_uri": "https://localhost:8080/",
     "height": 187
    },
    "executionInfo": {
     "elapsed": 3081,
     "status": "ok",
     "timestamp": 1602646488276,
     "user": {
      "displayName": "Fathi Muhyi",
      "photoUrl": "https://lh3.googleusercontent.com/a-/AOh14GhChUnD9lp0uYHDjzFDqClMEcljUKZtuV7ArMBsmA=s64",
      "userId": "15936908794749616962"
     },
     "user_tz": -420
    },
    "id": "7kptwoiaJHMe",
    "outputId": "8ee347f3-7e06-43b0-90a2-df83665a85be"
   },
   "outputs": [
    {
     "name": "stdout",
     "output_type": "stream",
     "text": [
      "performance \n",
      "               precision    recall  f1-score   support\n",
      "\n",
      "           0       0.87      0.96      0.91       106\n",
      "           1       0.69      0.38      0.49        24\n",
      "\n",
      "    accuracy                           0.85       130\n",
      "   macro avg       0.78      0.67      0.70       130\n",
      "weighted avg       0.84      0.85      0.84       130\n",
      "\n"
     ]
    }
   ],
   "source": [
    "y_pred = logreg.predict(X_test)\n",
    "print('performance \\n',classification_report(y_test,y_pred))"
   ]
  },
  {
   "cell_type": "markdown",
   "metadata": {
    "id": "At4onYueBykK"
   },
   "source": [
    "From illustration abovel, you can see the performance of the machine learning model. Let's say our concern is to these three metrics:\n",
    "1. precision (+) : 0.69\n",
    "1. recall (+) : 0.38\n",
    "1. f1-score (+) : 0.49\n",
    "\n",
    "<br>\n",
    "next, we will do the modeling process with adding polynomial features and see the changes."
   ]
  },
  {
   "cell_type": "markdown",
   "metadata": {
    "id": "gzub2aBUJvnY"
   },
   "source": [
    "> ## MODEL 2 : with polynomial"
   ]
  },
  {
   "cell_type": "code",
   "execution_count": null,
   "metadata": {
    "id": "EEah_FXFJWa4"
   },
   "outputs": [],
   "source": [
    "poly = PolynomialFeatures(degree = 3, interaction_only=False,include_bias=False) \n",
    "poly.fit(X_train)\n",
    "X_train_poly = poly.transform(X_train)\n",
    "X_test_poly = poly.transform(X_test)"
   ]
  },
  {
   "cell_type": "code",
   "execution_count": null,
   "metadata": {
    "colab": {
     "base_uri": "https://localhost:8080/",
     "height": 102
    },
    "executionInfo": {
     "elapsed": 3076,
     "status": "ok",
     "timestamp": 1602646488280,
     "user": {
      "displayName": "Fathi Muhyi",
      "photoUrl": "https://lh3.googleusercontent.com/a-/AOh14GhChUnD9lp0uYHDjzFDqClMEcljUKZtuV7ArMBsmA=s64",
      "userId": "15936908794749616962"
     },
     "user_tz": -420
    },
    "id": "OZGcPKLMJxjZ",
    "outputId": "b6864ef9-5b39-4b5e-b655-8d7d3c0737b6"
   },
   "outputs": [
    {
     "data": {
      "text/plain": [
       "LogisticRegression(C=1.0, class_weight=None, dual=False, fit_intercept=True,\n",
       "                   intercept_scaling=1, l1_ratio=None, max_iter=1000,\n",
       "                   multi_class='auto', n_jobs=None, penalty='l2',\n",
       "                   random_state=None, solver='lbfgs', tol=0.0001, verbose=0,\n",
       "                   warm_start=False)"
      ]
     },
     "execution_count": 11,
     "metadata": {
      "tags": []
     },
     "output_type": "execute_result"
    }
   ],
   "source": [
    "logreg = LogisticRegression(max_iter = 1000)\n",
    "logreg.fit(X_train_poly,y_train)"
   ]
  },
  {
   "cell_type": "code",
   "execution_count": null,
   "metadata": {
    "colab": {
     "base_uri": "https://localhost:8080/",
     "height": 187
    },
    "executionInfo": {
     "elapsed": 3065,
     "status": "ok",
     "timestamp": 1602646488280,
     "user": {
      "displayName": "Fathi Muhyi",
      "photoUrl": "https://lh3.googleusercontent.com/a-/AOh14GhChUnD9lp0uYHDjzFDqClMEcljUKZtuV7ArMBsmA=s64",
      "userId": "15936908794749616962"
     },
     "user_tz": -420
    },
    "id": "6IxfLqDGJ6Xp",
    "outputId": "4b576e4e-4e10-4113-9628-cf005ac5aea4"
   },
   "outputs": [
    {
     "name": "stdout",
     "output_type": "stream",
     "text": [
      "performance \n",
      "               precision    recall  f1-score   support\n",
      "\n",
      "           0       0.97      0.99      0.98       106\n",
      "           1       0.95      0.88      0.91        24\n",
      "\n",
      "    accuracy                           0.97       130\n",
      "   macro avg       0.96      0.93      0.95       130\n",
      "weighted avg       0.97      0.97      0.97       130\n",
      "\n"
     ]
    }
   ],
   "source": [
    "y_pred = logreg.predict(X_test_poly)\n",
    "print('performance \\n',classification_report(y_test,y_pred))"
   ]
  },
  {
   "cell_type": "markdown",
   "metadata": {
    "id": "_Ut5eaJdCdir"
   },
   "source": [
    "From illustration abovel, you can see the performance improvement of the machine learning model. The changes of the three metrics:\n",
    "1. precision (+) : from 0.69 to 0.95\n",
    "1. recall (+) : from 0.38 to 0.88\n",
    "1. f1-score (+) : from 0.49 to 0.91"
   ]
  },
  {
   "cell_type": "markdown",
   "metadata": {
    "id": "6YoJCMa7uysW"
   },
   "source": [
    "> # Resampling Method : Non Performing Loan"
   ]
  },
  {
   "cell_type": "markdown",
   "metadata": {
    "id": "tp909wOjEWea"
   },
   "source": [
    "To use some balancing technique you will need to install imblearn library."
   ]
  },
  {
   "cell_type": "code",
   "execution_count": null,
   "metadata": {
    "colab": {
     "base_uri": "https://localhost:8080/",
     "height": 119
    },
    "executionInfo": {
     "elapsed": 8311,
     "status": "ok",
     "timestamp": 1602646493537,
     "user": {
      "displayName": "Fathi Muhyi",
      "photoUrl": "https://lh3.googleusercontent.com/a-/AOh14GhChUnD9lp0uYHDjzFDqClMEcljUKZtuV7ArMBsmA=s64",
      "userId": "15936908794749616962"
     },
     "user_tz": -420
    },
    "id": "cIA-sDycDoJQ",
    "outputId": "8fe73cbd-72e4-49f2-e9ef-3d027b8cb16d"
   },
   "outputs": [
    {
     "name": "stdout",
     "output_type": "stream",
     "text": [
      "Requirement already satisfied: imblearn in /usr/local/lib/python3.6/dist-packages (0.0)\n",
      "Requirement already satisfied: imbalanced-learn in /usr/local/lib/python3.6/dist-packages (from imblearn) (0.4.3)\n",
      "Requirement already satisfied: scikit-learn>=0.20 in /usr/local/lib/python3.6/dist-packages (from imbalanced-learn->imblearn) (0.22.2.post1)\n",
      "Requirement already satisfied: numpy>=1.8.2 in /usr/local/lib/python3.6/dist-packages (from imbalanced-learn->imblearn) (1.18.5)\n",
      "Requirement already satisfied: scipy>=0.13.3 in /usr/local/lib/python3.6/dist-packages (from imbalanced-learn->imblearn) (1.4.1)\n",
      "Requirement already satisfied: joblib>=0.11 in /usr/local/lib/python3.6/dist-packages (from scikit-learn>=0.20->imbalanced-learn->imblearn) (0.16.0)\n"
     ]
    }
   ],
   "source": [
    "!pip install imblearn"
   ]
  },
  {
   "cell_type": "code",
   "execution_count": null,
   "metadata": {
    "colab": {
     "base_uri": "https://localhost:8080/",
     "height": 105
    },
    "executionInfo": {
     "elapsed": 8310,
     "status": "ok",
     "timestamp": 1602646493538,
     "user": {
      "displayName": "Fathi Muhyi",
      "photoUrl": "https://lh3.googleusercontent.com/a-/AOh14GhChUnD9lp0uYHDjzFDqClMEcljUKZtuV7ArMBsmA=s64",
      "userId": "15936908794749616962"
     },
     "user_tz": -420
    },
    "id": "9k4V4PaVJ7mU",
    "outputId": "7525ee16-4c15-40f8-fc8c-72de3bd641bb"
   },
   "outputs": [
    {
     "name": "stderr",
     "output_type": "stream",
     "text": [
      "/usr/local/lib/python3.6/dist-packages/sklearn/externals/six.py:31: FutureWarning: The module is deprecated in version 0.21 and will be removed in version 0.23 since we've dropped support for Python 2.7. Please rely on the official version of six (https://pypi.org/project/six/).\n",
      "  \"(https://pypi.org/project/six/).\", FutureWarning)\n",
      "/usr/local/lib/python3.6/dist-packages/sklearn/utils/deprecation.py:144: FutureWarning: The sklearn.neighbors.base module is  deprecated in version 0.22 and will be removed in version 0.24. The corresponding classes / functions should instead be imported from sklearn.neighbors. Anything that cannot be imported from sklearn.neighbors is now part of the private API.\n",
      "  warnings.warn(message, FutureWarning)\n"
     ]
    }
   ],
   "source": [
    "import pandas as pd\n",
    "import numpy as np\n",
    "\n",
    "import seaborn as sns\n",
    "import matplotlib.pyplot as plt\n",
    "\n",
    "from sklearn.model_selection import train_test_split\n",
    "from imblearn.over_sampling import RandomOverSampler, SMOTE\n",
    "from imblearn.under_sampling import RandomUnderSampler, NearMiss\n",
    "\n",
    "from sklearn.linear_model import LogisticRegression\n",
    "\n",
    "from sklearn.metrics import plot_roc_curve\n",
    "from sklearn.metrics import classification_report, f1_score\n",
    "import warnings\n",
    "\n",
    "warnings.filterwarnings('ignore')\n",
    "pd.set_option('display.max_columns', None)"
   ]
  },
  {
   "cell_type": "markdown",
   "metadata": {
    "id": "w5SBleF2H6oT"
   },
   "source": [
    "Dataset used in this illustration is bankloan.csv. with :\n",
    "1. target : defaut\n",
    "1. features : employ, debtinc, creddebt, othdebt"
   ]
  },
  {
   "cell_type": "code",
   "execution_count": null,
   "metadata": {
    "id": "Rus23VfTVOzR"
   },
   "outputs": [],
   "source": [
    "bankloan = pd.read_csv('bankloan.csv')"
   ]
  },
  {
   "cell_type": "code",
   "execution_count": null,
   "metadata": {
    "id": "i39do_giay0o"
   },
   "outputs": [],
   "source": [
    "fitur = ['employ', 'debtinc', 'creddebt', 'othdebt']\n",
    "target = ['default']"
   ]
  },
  {
   "cell_type": "code",
   "execution_count": null,
   "metadata": {
    "id": "k1zlYvela04l"
   },
   "outputs": [],
   "source": [
    "X = bankloan[fitur]\n",
    "y = bankloan[target]"
   ]
  },
  {
   "cell_type": "markdown",
   "metadata": {
    "id": "4UblkgP9V67e"
   },
   "source": [
    "> ## EDA"
   ]
  },
  {
   "cell_type": "code",
   "execution_count": null,
   "metadata": {
    "colab": {
     "base_uri": "https://localhost:8080/",
     "height": 68
    },
    "executionInfo": {
     "elapsed": 8298,
     "status": "ok",
     "timestamp": 1602646493540,
     "user": {
      "displayName": "Fathi Muhyi",
      "photoUrl": "https://lh3.googleusercontent.com/a-/AOh14GhChUnD9lp0uYHDjzFDqClMEcljUKZtuV7ArMBsmA=s64",
      "userId": "15936908794749616962"
     },
     "user_tz": -420
    },
    "id": "XZNwWyDDV8V3",
    "outputId": "9ca37f7c-c9bc-445c-c741-0f106177e6b1"
   },
   "outputs": [
    {
     "data": {
      "text/plain": [
       "0    73.857143\n",
       "1    26.142857\n",
       "Name: default, dtype: float64"
      ]
     },
     "execution_count": 18,
     "metadata": {
      "tags": []
     },
     "output_type": "execute_result"
    }
   ],
   "source": [
    "bankloan['default'].value_counts()/bankloan.shape[0]*100"
   ]
  },
  {
   "cell_type": "markdown",
   "metadata": {
    "id": "WO6mCiL9XBJJ"
   },
   "source": [
    "This can be seen as imbalance classification problem because the target variabel distribution is imbalanced:\n",
    "1. (+) default (26.1%)\n",
    "1. (-) non-default (73.9%)"
   ]
  },
  {
   "cell_type": "markdown",
   "metadata": {
    "id": "KgW4Xl-mHG7g"
   },
   "source": [
    "> ## Data Splitting"
   ]
  },
  {
   "cell_type": "markdown",
   "metadata": {
    "id": "9lqasAP1Jjht"
   },
   "source": [
    "Data splitting scenario is train 60%, validation 20%, test 20%."
   ]
  },
  {
   "cell_type": "markdown",
   "metadata": {
    "id": "hjCd4T0SeT3x"
   },
   "source": [
    "![image.png](data:image/png;base64,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)"
   ]
  },
  {
   "cell_type": "code",
   "execution_count": null,
   "metadata": {
    "id": "neJyI1lGa1xD"
   },
   "outputs": [],
   "source": [
    "X_train_val, X_test, y_train_val, y_test = train_test_split(\n",
    "    X, \n",
    "    y, \n",
    "    stratify = y,\n",
    "    test_size = 0.2, \n",
    "    random_state = 1899)\n",
    "\n",
    "X_train, X_val, y_train, y_val = train_test_split(\n",
    "    X_train_val,\n",
    "    y_train_val, \n",
    "    stratify = y_train_val,\n",
    "    test_size = 0.25, \n",
    "    random_state = 1899)"
   ]
  },
  {
   "cell_type": "markdown",
   "metadata": {
    "id": "Ml84UqPYKo0k"
   },
   "source": [
    "In the modeling process we will try some method and choose the best method based on f1 score. Those methods are :\n",
    "1. logistic regression without any treatment\n",
    "1. logistic regression that otimized by the threshold\n",
    "1. logistic regression with random undersampling\n",
    "1. Penalized logistic regression"
   ]
  },
  {
   "cell_type": "markdown",
   "metadata": {
    "id": "mAqiHjKbbQys"
   },
   "source": [
    "> ## No Treatment"
   ]
  },
  {
   "cell_type": "markdown",
   "metadata": {
    "id": "88fxpmZA50Th"
   },
   "source": [
    "scenario :\n",
    "1. metrics : f1-score\n",
    "1. benchmark\n",
    "1. threshold optimization"
   ]
  },
  {
   "cell_type": "markdown",
   "metadata": {
    "id": "Y8UAJ_LC6KsM"
   },
   "source": [
    "BENCHMARK"
   ]
  },
  {
   "cell_type": "code",
   "execution_count": null,
   "metadata": {
    "colab": {
     "base_uri": "https://localhost:8080/",
     "height": 102
    },
    "executionInfo": {
     "elapsed": 8287,
     "status": "ok",
     "timestamp": 1602646493540,
     "user": {
      "displayName": "Fathi Muhyi",
      "photoUrl": "https://lh3.googleusercontent.com/a-/AOh14GhChUnD9lp0uYHDjzFDqClMEcljUKZtuV7ArMBsmA=s64",
      "userId": "15936908794749616962"
     },
     "user_tz": -420
    },
    "id": "SvO5viTaa62D",
    "outputId": "31f55d98-b184-4a72-ba3f-af16ea5a902f"
   },
   "outputs": [
    {
     "data": {
      "text/plain": [
       "LogisticRegression(C=1.0, class_weight=None, dual=False, fit_intercept=True,\n",
       "                   intercept_scaling=1, l1_ratio=None, max_iter=100,\n",
       "                   multi_class='auto', n_jobs=None, penalty='l2',\n",
       "                   random_state=None, solver='lbfgs', tol=0.0001, verbose=0,\n",
       "                   warm_start=False)"
      ]
     },
     "execution_count": 20,
     "metadata": {
      "tags": []
     },
     "output_type": "execute_result"
    }
   ],
   "source": [
    "model = LogisticRegression()\n",
    "model.fit(X_train_val, y_train_val)"
   ]
  },
  {
   "cell_type": "code",
   "execution_count": null,
   "metadata": {
    "id": "TNOQzieNbB9N"
   },
   "outputs": [],
   "source": [
    "y_pred = model.predict(X_test)"
   ]
  },
  {
   "cell_type": "code",
   "execution_count": null,
   "metadata": {
    "colab": {
     "base_uri": "https://localhost:8080/",
     "height": 170
    },
    "executionInfo": {
     "elapsed": 8280,
     "status": "ok",
     "timestamp": 1602646493542,
     "user": {
      "displayName": "Fathi Muhyi",
      "photoUrl": "https://lh3.googleusercontent.com/a-/AOh14GhChUnD9lp0uYHDjzFDqClMEcljUKZtuV7ArMBsmA=s64",
      "userId": "15936908794749616962"
     },
     "user_tz": -420
    },
    "id": "o0mjhHX4bHn8",
    "outputId": "ffa35db3-21da-45e0-f4f8-03a74e860191"
   },
   "outputs": [
    {
     "name": "stdout",
     "output_type": "stream",
     "text": [
      "              precision    recall  f1-score   support\n",
      "\n",
      "           0       0.81      0.93      0.87       103\n",
      "           1       0.68      0.41      0.51        37\n",
      "\n",
      "    accuracy                           0.79       140\n",
      "   macro avg       0.75      0.67      0.69       140\n",
      "weighted avg       0.78      0.79      0.77       140\n",
      "\n"
     ]
    }
   ],
   "source": [
    "print(classification_report(y_test, y_pred))"
   ]
  },
  {
   "cell_type": "code",
   "execution_count": null,
   "metadata": {
    "colab": {
     "base_uri": "https://localhost:8080/",
     "height": 296
    },
    "executionInfo": {
     "elapsed": 8617,
     "status": "ok",
     "timestamp": 1602646493887,
     "user": {
      "displayName": "Fathi Muhyi",
      "photoUrl": "https://lh3.googleusercontent.com/a-/AOh14GhChUnD9lp0uYHDjzFDqClMEcljUKZtuV7ArMBsmA=s64",
      "userId": "15936908794749616962"
     },
     "user_tz": -420
    },
    "id": "NqR-MrFp4Eps",
    "outputId": "b25657bf-60ec-47cd-be26-a9ed91230f6c"
   },
   "outputs": [
    {
     "data": {
      "text/plain": [
       "<sklearn.metrics._plot.roc_curve.RocCurveDisplay at 0x7f9b845e8668>"
      ]
     },
     "execution_count": 23,
     "metadata": {
      "tags": []
     },
     "output_type": "execute_result"
    },
    {
     "data": {
      "image/png": "[encoded data removed]",
      "text/plain": [
       "<Figure size 432x288 with 1 Axes>"
      ]
     },
     "metadata": {
      "needs_background": "light",
      "tags": []
     },
     "output_type": "display_data"
    }
   ],
   "source": [
    "plot_roc_curve(model, X_test, y_test)"
   ]
  },
  {
   "cell_type": "markdown",
   "metadata": {
    "id": "cg72z1_m6V_C"
   },
   "source": [
    "THRESHOLD OPTIMIZATION"
   ]
  },
  {
   "cell_type": "code",
   "execution_count": null,
   "metadata": {
    "id": "ZWe61wG36l9x"
   },
   "outputs": [],
   "source": [
    "model.fit(X_train, y_train)\n",
    "\n",
    "th_value = [i/100 for i in range(20,60)]\n",
    "score = 0\n",
    "score_list = []\n",
    "\n",
    "for i in th_value:\n",
    "  y_prob = model.predict_proba(X_val)[:,1]\n",
    "  y_pred = np.where(y_prob>i,1,0)\n",
    "  score_temp = f1_score(y_val, y_pred)\n",
    "  score_list.append(score_temp)\n",
    "\n",
    "  if score_temp > score :\n",
    "    score = score_temp\n",
    "    \n",
    "    best_score = score\n",
    "    best_th = i"
   ]
  },
  {
   "cell_type": "code",
   "execution_count": null,
   "metadata": {
    "colab": {
     "base_uri": "https://localhost:8080/",
     "height": 283
    },
    "executionInfo": {
     "elapsed": 9790,
     "status": "ok",
     "timestamp": 1602646495071,
     "user": {
      "displayName": "Fathi Muhyi",
      "photoUrl": "https://lh3.googleusercontent.com/a-/AOh14GhChUnD9lp0uYHDjzFDqClMEcljUKZtuV7ArMBsmA=s64",
      "userId": "15936908794749616962"
     },
     "user_tz": -420
    },
    "id": "5RW1gFzF8JgI",
    "outputId": "d4aa95a8-e713-4c36-e1d8-d4762a31db91"
   },
   "outputs": [
    {
     "data": {
      "text/plain": [
       "<matplotlib.axes._subplots.AxesSubplot at 0x7f9b7f1b09e8>"
      ]
     },
     "execution_count": 25,
     "metadata": {
      "tags": []
     },
     "output_type": "execute_result"
    },
    {
     "data": {
      "image/png": "[encoded data removed]",
      "text/plain": [
       "<Figure size 432x288 with 1 Axes>"
      ]
     },
     "metadata": {
      "needs_background": "light",
      "tags": []
     },
     "output_type": "display_data"
    }
   ],
   "source": [
    "sns.lineplot(th_value, score_list)"
   ]
  },
  {
   "cell_type": "code",
   "execution_count": null,
   "metadata": {
    "colab": {
     "base_uri": "https://localhost:8080/",
     "height": 51
    },
    "executionInfo": {
     "elapsed": 9783,
     "status": "ok",
     "timestamp": 1602646495072,
     "user": {
      "displayName": "Fathi Muhyi",
      "photoUrl": "https://lh3.googleusercontent.com/a-/AOh14GhChUnD9lp0uYHDjzFDqClMEcljUKZtuV7ArMBsmA=s64",
      "userId": "15936908794749616962"
     },
     "user_tz": -420
    },
    "id": "Aop-jnAu7lxf",
    "outputId": "4746a229-87b2-4b02-906b-b2b2c168ead9"
   },
   "outputs": [
    {
     "name": "stdout",
     "output_type": "stream",
     "text": [
      "best threshold 0.47\n",
      "best score 0.676923076923077\n"
     ]
    }
   ],
   "source": [
    "print('best threshold', best_th)\n",
    "print('best score', best_score)"
   ]
  },
  {
   "cell_type": "code",
   "execution_count": null,
   "metadata": {
    "id": "t7iHgw1s3Jri"
   },
   "outputs": [],
   "source": [
    "model.fit(X_train_val, y_train_val)\n",
    "y_prob = model.predict_proba(X_test)[:,1]\n",
    "y_pred = np.where(y_prob>best_th,1,0)"
   ]
  },
  {
   "cell_type": "code",
   "execution_count": null,
   "metadata": {
    "colab": {
     "base_uri": "https://localhost:8080/",
     "height": 170
    },
    "executionInfo": {
     "elapsed": 9778,
     "status": "ok",
     "timestamp": 1602646495076,
     "user": {
      "displayName": "Fathi Muhyi",
      "photoUrl": "https://lh3.googleusercontent.com/a-/AOh14GhChUnD9lp0uYHDjzFDqClMEcljUKZtuV7ArMBsmA=s64",
      "userId": "15936908794749616962"
     },
     "user_tz": -420
    },
    "id": "D_Yl1LeO3JxL",
    "outputId": "51efad50-edc0-4109-abe1-9289e66385ab"
   },
   "outputs": [
    {
     "name": "stdout",
     "output_type": "stream",
     "text": [
      "              precision    recall  f1-score   support\n",
      "\n",
      "           0       0.82      0.90      0.86       103\n",
      "           1       0.62      0.43      0.51        37\n",
      "\n",
      "    accuracy                           0.78       140\n",
      "   macro avg       0.72      0.67      0.68       140\n",
      "weighted avg       0.76      0.78      0.76       140\n",
      "\n"
     ]
    }
   ],
   "source": [
    "print(classification_report(y_test, y_pred))"
   ]
  },
  {
   "cell_type": "markdown",
   "metadata": {
    "id": "Z0f1COQYbVJg"
   },
   "source": [
    "> ## Resampling : Undersampling"
   ]
  },
  {
   "cell_type": "markdown",
   "metadata": {
    "id": "dsYVMbGbWdlR"
   },
   "source": [
    "![image.png](data:image/png;base64,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)"
   ]
  },
  {
   "cell_type": "code",
   "execution_count": null,
   "metadata": {
    "id": "yuY_m_kDbWs4"
   },
   "outputs": [],
   "source": [
    "rus = RandomUnderSampler()\n",
    "X_under, y_under = rus.fit_resample(X_train_val, y_train_val) # undersampling the training set"
   ]
  },
  {
   "cell_type": "markdown",
   "metadata": {
    "id": "kzx7lms_B69C"
   },
   "source": [
    "other method you can try:\n",
    "1. RandomOverSampler()\n",
    "1. SMOTE()\n",
    "1. NearMiss()"
   ]
  },
  {
   "cell_type": "code",
   "execution_count": null,
   "metadata": {
    "colab": {
     "base_uri": "https://localhost:8080/",
     "height": 170
    },
    "executionInfo": {
     "elapsed": 9768,
     "status": "ok",
     "timestamp": 1602646495078,
     "user": {
      "displayName": "Fathi Muhyi",
      "photoUrl": "https://lh3.googleusercontent.com/a-/AOh14GhChUnD9lp0uYHDjzFDqClMEcljUKZtuV7ArMBsmA=s64",
      "userId": "15936908794749616962"
     },
     "user_tz": -420
    },
    "id": "BGVDEoCtbykC",
    "outputId": "f811bf4f-aa37-44c5-9c9c-17fc56bd136d"
   },
   "outputs": [
    {
     "name": "stdout",
     "output_type": "stream",
     "text": [
      "              precision    recall  f1-score   support\n",
      "\n",
      "           0       0.96      0.70      0.81       103\n",
      "           1       0.52      0.92      0.67        37\n",
      "\n",
      "    accuracy                           0.76       140\n",
      "   macro avg       0.74      0.81      0.74       140\n",
      "weighted avg       0.84      0.76      0.77       140\n",
      "\n"
     ]
    }
   ],
   "source": [
    "model_under = LogisticRegression()\n",
    "model_under.fit(X_under, y_under)\n",
    "y_pred = model_under.predict(X_test)\n",
    "print(classification_report(y_test, y_pred))"
   ]
  },
  {
   "cell_type": "code",
   "execution_count": null,
   "metadata": {
    "colab": {
     "base_uri": "https://localhost:8080/",
     "height": 296
    },
    "executionInfo": {
     "elapsed": 9759,
     "status": "ok",
     "timestamp": 1602646495078,
     "user": {
      "displayName": "Fathi Muhyi",
      "photoUrl": "https://lh3.googleusercontent.com/a-/AOh14GhChUnD9lp0uYHDjzFDqClMEcljUKZtuV7ArMBsmA=s64",
      "userId": "15936908794749616962"
     },
     "user_tz": -420
    },
    "id": "JGrj6Vc4e9fx",
    "outputId": "ac089d2a-4fd8-42a5-cc19-85d39a1c9554"
   },
   "outputs": [
    {
     "data": {
      "text/plain": [
       "<sklearn.metrics._plot.roc_curve.RocCurveDisplay at 0x7f9b7f133208>"
      ]
     },
     "execution_count": 31,
     "metadata": {
      "tags": []
     },
     "output_type": "execute_result"
    },
    {
     "data": {
      "image/png": "[encoded data removed]",
      "text/plain": [
       "<Figure size 432x288 with 1 Axes>"
      ]
     },
     "metadata": {
      "needs_background": "light",
      "tags": []
     },
     "output_type": "display_data"
    }
   ],
   "source": [
    "plot_roc_curve(model_under, X_test, y_test)"
   ]
  },
  {
   "cell_type": "markdown",
   "metadata": {
    "id": "Bym66AOB_L0p"
   },
   "source": [
    "> ## Penalized"
   ]
  },
  {
   "cell_type": "markdown",
   "metadata": {
    "id": "lzWUu_9YWo06"
   },
   "source": [
    "![image.png](data:image/png;base64,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)"
   ]
  },
  {
   "cell_type": "code",
   "execution_count": null,
   "metadata": {
    "colab": {
     "base_uri": "https://localhost:8080/",
     "height": 170
    },
    "executionInfo": {
     "elapsed": 9750,
     "status": "ok",
     "timestamp": 1602646495079,
     "user": {
      "displayName": "Fathi Muhyi",
      "photoUrl": "https://lh3.googleusercontent.com/a-/AOh14GhChUnD9lp0uYHDjzFDqClMEcljUKZtuV7ArMBsmA=s64",
      "userId": "15936908794749616962"
     },
     "user_tz": -420
    },
    "id": "flsyQ14E_L0t",
    "outputId": "e2917774-0d16-4bfc-c240-18ffac824426"
   },
   "outputs": [
    {
     "name": "stdout",
     "output_type": "stream",
     "text": [
      "              precision    recall  f1-score   support\n",
      "\n",
      "           0       0.95      0.72      0.82       103\n",
      "           1       0.53      0.89      0.67        37\n",
      "\n",
      "    accuracy                           0.76       140\n",
      "   macro avg       0.74      0.81      0.74       140\n",
      "weighted avg       0.84      0.76      0.78       140\n",
      "\n"
     ]
    }
   ],
   "source": [
    "model_balanced = LogisticRegression(class_weight = 'balanced') # penalized 'balanced'\n",
    "model_balanced.fit(X_train_val, y_train_val)\n",
    "y_pred = model_balanced.predict(X_test)\n",
    "print(classification_report(y_test, y_pred))"
   ]
  },
  {
   "cell_type": "code",
   "execution_count": null,
   "metadata": {
    "colab": {
     "base_uri": "https://localhost:8080/",
     "height": 296
    },
    "executionInfo": {
     "elapsed": 9743,
     "status": "ok",
     "timestamp": 1602646495080,
     "user": {
      "displayName": "Fathi Muhyi",
      "photoUrl": "https://lh3.googleusercontent.com/a-/AOh14GhChUnD9lp0uYHDjzFDqClMEcljUKZtuV7ArMBsmA=s64",
      "userId": "15936908794749616962"
     },
     "user_tz": -420
    },
    "id": "jq8r-4vp_L0v",
    "outputId": "fbff88a6-4a3c-440c-9873-1fb5101fd9ea"
   },
   "outputs": [
    {
     "data": {
      "text/plain": [
       "<sklearn.metrics._plot.roc_curve.RocCurveDisplay at 0x7f9b7f1332e8>"
      ]
     },
     "execution_count": 33,
     "metadata": {
      "tags": []
     },
     "output_type": "execute_result"
    },
    {
     "data": {
      "image/png": "[encoded data removed]",
      "text/plain": [
       "<Figure size 432x288 with 1 Axes>"
      ]
     },
     "metadata": {
      "needs_background": "light",
      "tags": []
     },
     "output_type": "display_data"
    }
   ],
   "source": [
    "plot_roc_curve(model_balanced, X_test, y_test)"
   ]
  },
  {
   "cell_type": "markdown",
   "metadata": {
    "id": "PfbpWvnFCJ5H"
   },
   "source": [
    "> ## Summary"
   ]
  },
  {
   "cell_type": "code",
   "execution_count": null,
   "metadata": {
    "id": "kboXDzTsCLiI"
   },
   "outputs": [],
   "source": [
    "f1_no_tr = f1_score(y_test,model.predict(X_test))\n",
    "\n",
    "y_prob_th = model.predict_proba(X_test)[:,1]\n",
    "f1_no_tr_th = f1_score(y_test,np.where(y_prob_th > 0.5,1,0))\n",
    "\n",
    "f1_under = f1_score(y_test,model_under.predict(X_test))\n",
    "f1_model = f1_score(y_test,model_balanced.predict(X_test))"
   ]
  },
  {
   "cell_type": "code",
   "execution_count": null,
   "metadata": {
    "colab": {
     "base_uri": "https://localhost:8080/",
     "height": 173
    },
    "executionInfo": {
     "elapsed": 10079,
     "status": "ok",
     "timestamp": 1602646495424,
     "user": {
      "displayName": "Fathi Muhyi",
      "photoUrl": "https://lh3.googleusercontent.com/a-/AOh14GhChUnD9lp0uYHDjzFDqClMEcljUKZtuV7ArMBsmA=s64",
      "userId": "15936908794749616962"
     },
     "user_tz": -420
    },
    "id": "xkp-MauaPxJn",
    "outputId": "5dbaa9c1-99d4-4c07-aafd-ed7df31e925a"
   },
   "outputs": [
    {
     "data": {
      "text/html": [
       "<div>\n",
       "<style scoped>\n",
       "    .dataframe tbody tr th:only-of-type {\n",
       "        vertical-align: middle;\n",
       "    }\n",
       "\n",
       "    .dataframe tbody tr th {\n",
       "        vertical-align: top;\n",
       "    }\n",
       "\n",
       "    .dataframe thead th {\n",
       "        text-align: right;\n",
       "    }\n",
       "</style>\n",
       "<table border=\"1\" class=\"dataframe\">\n",
       "  <thead>\n",
       "    <tr style=\"text-align: right;\">\n",
       "      <th></th>\n",
       "      <th>method</th>\n",
       "      <th>score</th>\n",
       "    </tr>\n",
       "  </thead>\n",
       "  <tbody>\n",
       "    <tr>\n",
       "      <th>0</th>\n",
       "      <td>default</td>\n",
       "      <td>0.508475</td>\n",
       "    </tr>\n",
       "    <tr>\n",
       "      <th>1</th>\n",
       "      <td>threshold optimization</td>\n",
       "      <td>0.508475</td>\n",
       "    </tr>\n",
       "    <tr>\n",
       "      <th>2</th>\n",
       "      <td>random undersampling</td>\n",
       "      <td>0.666667</td>\n",
       "    </tr>\n",
       "    <tr>\n",
       "      <th>3</th>\n",
       "      <td>algo basaed</td>\n",
       "      <td>0.666667</td>\n",
       "    </tr>\n",
       "  </tbody>\n",
       "</table>\n",
       "</div>"
      ],
      "text/plain": [
       "                   method     score\n",
       "0                 default  0.508475\n",
       "1  threshold optimization  0.508475\n",
       "2    random undersampling  0.666667\n",
       "3             algo basaed  0.666667"
      ]
     },
     "execution_count": 35,
     "metadata": {
      "tags": []
     },
     "output_type": "execute_result"
    }
   ],
   "source": [
    "score_list = [f1_no_tr, f1_no_tr_th, f1_under,f1_model] \n",
    "model_names = ['default','threshold optimization','random undersampling','algo basaed']\n",
    "df_summary = pd.DataFrame({\n",
    "    'method':model_names,\n",
    "    'score':score_list\n",
    "})\n",
    "df_summary"
   ]
  },
  {
   "cell_type": "markdown",
   "metadata": {
    "id": "cR3Qnn6DVu2z"
   },
   "source": [
    "From this summary you can see that we tried several methods to handle imbalance classification problem. The outcome is that a penalized regression can outperform another method for this case. For another case the result may differ.You can try more method as well or even optimized each method using hyperparameter tuning."
   ]
  },
  {
   "cell_type": "markdown",
   "metadata": {
    "id": "AWsXzZ_nvHRi"
   },
   "source": [
    "> # Combine Cross Validation with Balancing Method"
   ]
  },
  {
   "cell_type": "code",
   "execution_count": null,
   "metadata": {
    "id": "MQc5_trMvOmb"
   },
   "outputs": [],
   "source": [
    "import pandas as pd\n",
    "import numpy as np\n",
    "\n",
    "import seaborn as sns\n",
    "import matplotlib.pyplot as plt\n",
    "\n",
    "from sklearn.model_selection import train_test_split, cross_val_score, StratifiedKFold, GridSearchCV\n",
    "from imblearn.over_sampling import RandomOverSampler, SMOTE\n",
    "from imblearn.under_sampling import RandomUnderSampler, NearMiss\n",
    "from imblearn.pipeline import Pipeline\n",
    "\n",
    "from sklearn.linear_model import LogisticRegression\n",
    "\n",
    "from sklearn.metrics import plot_roc_curve\n",
    "from sklearn.metrics import classification_report, f1_score\n",
    "\n",
    "import warnings\n",
    "\n",
    "warnings.filterwarnings('ignore')\n",
    "pd.set_option('display.max_columns', None)"
   ]
  },
  {
   "cell_type": "code",
   "execution_count": null,
   "metadata": {
    "id": "R7cmn34wyBQx"
   },
   "outputs": [],
   "source": [
    "bankloan = pd.read_csv('bankloan.csv')"
   ]
  },
  {
   "cell_type": "code",
   "execution_count": null,
   "metadata": {
    "id": "PGIMaafPyBQz"
   },
   "outputs": [],
   "source": [
    "fitur = ['employ', 'debtinc', 'creddebt', 'othdebt']\n",
    "target = ['default']"
   ]
  },
  {
   "cell_type": "code",
   "execution_count": null,
   "metadata": {
    "id": "ndmNXbRkyBQ2"
   },
   "outputs": [],
   "source": [
    "X = bankloan[fitur]\n",
    "y = bankloan[target]"
   ]
  },
  {
   "cell_type": "code",
   "execution_count": null,
   "metadata": {
    "id": "6ra9HrUAyBQ4"
   },
   "outputs": [],
   "source": [
    "X_train_val, X_test, y_train_val, y_test = train_test_split(\n",
    "    X, \n",
    "    y, \n",
    "    stratify = y,\n",
    "    test_size = 0.2, \n",
    "    random_state = 1899)"
   ]
  },
  {
   "cell_type": "markdown",
   "metadata": {
    "id": "fIdAanPOyMN0"
   },
   "source": [
    "> ## Resampling : SMOTE"
   ]
  },
  {
   "cell_type": "markdown",
   "metadata": {
    "id": "CQdNHP1MXD_x"
   },
   "source": [
    "SMOTE"
   ]
  },
  {
   "cell_type": "markdown",
   "metadata": {
    "id": "9hxvPOmPXFGW"
   },
   "source": [
    "![image.png](data:image/png;base64,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)"
   ]
  },
  {
   "cell_type": "markdown",
   "metadata": {
    "id": "aeLIDuMGgdC0"
   },
   "source": [
    "When you want to combine cross validation and any resampling method it's very recommended for you to use Pipeline because it simplyfy your code and make sure that validation set and test set is not involved in the modeling. Using pipline will also work on hyperparameter tuning."
   ]
  },
  {
   "cell_type": "markdown",
   "metadata": {
    "id": "UmJhQXvjbMtL"
   },
   "source": [
    "![image.png](data:image/png;base64,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)"
   ]
  },
  {
   "cell_type": "code",
   "execution_count": null,
   "metadata": {
    "id": "r9pOwlcgyFaw"
   },
   "outputs": [],
   "source": [
    "smote = SMOTE()\n",
    "model = LogisticRegression()\n",
    "\n",
    "estimator = Pipeline([('balancing',smote),('clf',model)])"
   ]
  },
  {
   "cell_type": "code",
   "execution_count": null,
   "metadata": {
    "id": "mVEgfhCPyssn"
   },
   "outputs": [],
   "source": [
    "skf = StratifiedKFold(n_splits = 5)\n",
    "model_cv = cross_val_score(estimator, X_train_val, y_train_val, cv = skf, scoring = 'f1')"
   ]
  },
  {
   "cell_type": "code",
   "execution_count": null,
   "metadata": {
    "colab": {
     "base_uri": "https://localhost:8080/",
     "height": 51
    },
    "executionInfo": {
     "elapsed": 10067,
     "status": "ok",
     "timestamp": 1602646495429,
     "user": {
      "displayName": "Fathi Muhyi",
      "photoUrl": "https://lh3.googleusercontent.com/a-/AOh14GhChUnD9lp0uYHDjzFDqClMEcljUKZtuV7ArMBsmA=s64",
      "userId": "15936908794749616962"
     },
     "user_tz": -420
    },
    "id": "5DF6JkkizGks",
    "outputId": "a3169c99-6d10-4058-fbf1-055242a287bf"
   },
   "outputs": [
    {
     "name": "stdout",
     "output_type": "stream",
     "text": [
      "cv score : [0.53658537 0.59459459 0.62686567 0.73015873 0.54285714]\n",
      "cv score mean : 0.6062123010211834\n"
     ]
    }
   ],
   "source": [
    "print('cv score :', model_cv)\n",
    "print('cv score mean :', model_cv.mean())"
   ]
  },
  {
   "cell_type": "markdown",
   "metadata": {
    "id": "Pv7hR6QN0GBu"
   },
   "source": [
    "> ## Penalized"
   ]
  },
  {
   "cell_type": "markdown",
   "metadata": {
    "id": "1eC2F9S4ideN"
   },
   "source": [
    "You will not need pipeline to apply penalized method and it's also faster."
   ]
  },
  {
   "cell_type": "code",
   "execution_count": null,
   "metadata": {
    "id": "SViKUGYzzlk4"
   },
   "outputs": [],
   "source": [
    "model =  LogisticRegression(class_weight = 'balanced') \n",
    "skf = StratifiedKFold(n_splits = 5)\n",
    "model_cv = cross_val_score(model, X_train_val, y_train_val, cv = skf, scoring = 'f1')"
   ]
  },
  {
   "cell_type": "code",
   "execution_count": null,
   "metadata": {
    "colab": {
     "base_uri": "https://localhost:8080/",
     "height": 51
    },
    "executionInfo": {
     "elapsed": 10059,
     "status": "ok",
     "timestamp": 1602646495430,
     "user": {
      "displayName": "Fathi Muhyi",
      "photoUrl": "https://lh3.googleusercontent.com/a-/AOh14GhChUnD9lp0uYHDjzFDqClMEcljUKZtuV7ArMBsmA=s64",
      "userId": "15936908794749616962"
     },
     "user_tz": -420
    },
    "id": "_u_qVL9m0Omx",
    "outputId": "6eb8aebd-36f5-440f-ee2e-af945d91c6cd"
   },
   "outputs": [
    {
     "name": "stdout",
     "output_type": "stream",
     "text": [
      "cv score : [0.56097561 0.60273973 0.60869565 0.76190476 0.52173913]\n",
      "cv score mean : 0.6112109760593905\n"
     ]
    }
   ],
   "source": [
    "print('cv score :', model_cv)\n",
    "print('cv score mean :', model_cv.mean())"
   ]
  },
  {
   "cell_type": "markdown",
   "metadata": {
    "id": "-QraiPLvqPy2"
   },
   "source": [
    "The better model is the penalized model"
   ]
  },
  {
   "cell_type": "markdown",
   "metadata": {
    "id": "HDulA-4H0eVT"
   },
   "source": [
    "# Combine Hyperparameter Tuning with Balancing Method"
   ]
  },
  {
   "cell_type": "markdown",
   "metadata": {
    "id": "3fwg1OBae3Sr"
   },
   "source": [
    "> ## Hyperparameter Tuning Scenario"
   ]
  },
  {
   "cell_type": "markdown",
   "metadata": {
    "id": "Mtcmm3sueobd"
   },
   "source": [
    "![image.png](data:image/png;base64,iVBORw0KGgoAAAANSUhEUgAABAYAAAHdCAYAAACOm3uSAAAgAElEQVR4Aezdf5Bb5Z3n++ef5GYIAZIs3pMyReixy4UJcdyTct3uWdiEBg+4B89eN+lMaOIJRvyIaQiYHpM4vc4NjUKYvgpDvD0ksH2dHabkZNnt3iy77cqypU7t5SLXFhOxldxpb11Sou4YEOCh9IerRlNF1XxuPeeHdHQktdQ6aktyv12lavXR+fk6X9vn+eg5zzHiDwIIIIAAAggggAACCCCAAAIIbFgBs2GPnANHAAEEEEAAAQQQQAABBBBAAAERDFAECCCAAAIIIIAAAggggAACCGxgAYKBDXzyOXQEEEAAAQQQQAABBBBAAAEECAaoAQQQQAABBBBAAAEEEEAAAQQ2sADBwAY++Rw6AggggAACCCCAAAIIIIAAAgQD1AACCCCAAAIIIIAAAggggAACG1iAYGADn3wOHQEEEEAAAQQQQAABBBBAAAGCAWoAAQQQQAABBBBAAAEEEEAAgQ0sQDCwgU8+h44AAggggAACCCCAAAIIIIAAwQA1gAACCCCAAAIIIIAAAggggMAGFiAY2MAnn0NHAAEEEEAAAQQQQAABBBBYu0Dh3b/TwUef1OjtD/X0a8/t39BjqX/d9AAJBpoSMQMCCCCAAAIIIIAAAggggAACFQEbDBx46DH94z/+Y0+/3nnvfX3twe9WdrzBO4KBBjBMRgABBBBAAAEEEEAAAQQQQKCeQBAM1Pusl6a9e5ZgoJfOB/uCAAIIIIAAAggggAACCCBwgQgQDFwgJ5LDQAABBBBAAAEEEEAAAQQQQKAdAYKBdtRYBgEEEEAAAQQQQAABBBBAAIELRIBg4AI5kRwGAggggAACCCCAAAIIIIAAAu0IEAy0o8YyCCCAAAIIIIAAAggggAACCFwgAgQDF8iJ5DAQQAABBBBAAAEEEEAAAQQQaEeAYKAdNZZBAAEEEEAAAQQQQAABBBBA4AIRsMHAXQ/N9PzR8LjCnj9F7CACCCCAAAIIIIAAAggggEA/ChAM9ONZY58RQAABBBBAAAEEEEAAAQQQ6JAAwUCHIFkNAggggAACCCCAAAIIIIAAAv0oUHj3LLcS9OOJY58RQAABBBBAAAEEEEAAAQQQ6ITA2wQDnWBkHQgggAACCCCAAAIIIIAAAgj0p0A/BQN3Pvjdpsim6RzMgAACCCCAAAIIIIAAAggggAACZYG+CQbee18EA+XTxhsEEEAAAQQQQAABBBBAAAEEOiNAMNAZR9aCAAIIIIAAAggggAACCCCAQF8KvP1Onww+SI+BvqwvdhoBBBBAAAEEEEAAAQQQQKDHBfolGHiHYKDHK4ndQwABBBBAAAEEEEAAAQQQ6EsBgoG+PG3sNAIIIIAAAggggAACCCCAAAKdESAY6Iwja0EAAQQQQAABBBBAAAEEEECgLwUIBvrytLHTCCCAAAIIIIAAAggggAACCHRGgGCgM46sBQEEEEAAAQQQQAABBBBAAIG+FCAY6MvTxk4jgAACCCCAAAIIIIAAAggg0BkBgoHOOLIWBBBAAAEEEEAAAQQQQAABBPpSgGCgL08bO40AAggggAACCCCAAAIIIIBAZwQIBjrjyFoQQAABBBBAAAEEEEAAAQQQ6EsBgoG+PG3sNAIIIIAAAggggAACCCCAAAKdESAY6Iwja0EAAQQQQAABBBBAAAEEEECgLwX6Khj4xnebGpumczADAggggAACCCCAAAIIIIAAAgiUBQgGyhS8QQABBBBAAAEEEEAAAQQQQGDjCbjBwMMzPX/g77z3vu6kx0DPnyd2EAEEEEAAAQQQQAABBBBAoM8ECAb67ISxuwgggAACCCCAAAIIIIAAAgh0UoBgoJOarAsBBBBAAAEEEEAAAQQQQACBPhMgGOizE8buIoAAAggggAACCCCAAAIIINBJgfMWDJxd0dKxSY1em1S2jQNgjIE20FgEAQQQQAABBBBAAAEEEEAAgWYC6xoMfFBS/lRaydu3yzFGxhg516aUa7ZTdT4nGKiDwiQEEEAAAQQQQAABBBBAAAEE4gqsRzBQOpNVemZC2x0vDDBbRzU5m1b2jVLbu0sw0DYdCyKAAAIIIIAAAggggAACCCDQWKBjwUCpoOyJlCb3DLg9A4yzXaMH57R0uqj244DKfhMMVCx4hwACCCCAAAIIIIAAAggggEDHBOIGA8XTS5o7OKoB91aBAQ0fSCp9Kq/SBx3bRXdFBAOd9WRtCCCAAAIIIIAAAggggAACCLgC8YKBrJI2EBhKaO7kioqd6BrQ4LwQDDSAYTICCCCAAAIIIIAAAggggAACcQTiBQMrmvdvHXCuHdXksQXlzqxPOkAwEOcssywCCCCAAAIIIIAAAggggAACDQTiBQPeSktnclqwjyLc6g02OLBnUqkTWRU6mBF4wcBjDY6iMtlU3vIOAQQQQAABBBBAAAEEEEAAAQSaCXQiGKhso6RC1eMJgzEHCrEHICQYqCjzDgEEEEAAAQQQQAABBBBAAIGOCXQ2GAjt1tkVZU4kNXGtU35KwcRM+48sJBgI2fIWAQQQQAABBBBAAAEEEEAAgU4JrFswENrB6icXJJUNfdbqW4KBVqWYDwEEEEAAAQQQQAABBBBAAIE1CMQPBopaWUwqsTuhqeNZFcvbLqnwmxUVw48tLBWUW8wqX56n9TfvvPd3uvMbjDHQuhhzIoAAAggggAACCCCAAAIIINCCgA0GEg/PtDBn/Vnyz416twrYxxYaI+dwxh9PIKfUTvsow6Sy5+ovu5apBANr0WJeBBBAAAEEEEAAAQQQQAABBFoUiBcMeI1/5/CS21Og9PK0Bs2klvxuA6XXFzQ5ZDQ4m2txbxrPRjDQ2IZPEEAAAQQQQAABBBBAAAEEEGhbIF4wkFXSGE2+GNxAkNW0MUqequxO/vkxmd3zbd0+UFmLRDAQ1uA9AggggAACCCCAAAIIIIAAAh0SiBcM5DW/22jihYK/NwWlx8O/S1qeljHtDTgYPkSCgbAG7xFAAAEEEEAAAQQQQAABBBDokMBbMccYWDk2LHNgoTzoYPaokfNE5daB/HMjMk5SlSnt7TjBQHtuLIUAAggggAACCCCAAAIIIIDAqgJxgwGdy2p6p6ORo2llTxeUe2ZUZveccsWCVk4mNeoYmYPeGASr7kiTD20wcICnEjRR4mMEEEAAAQQQQAABBBBAAAEE1igQLxjIKWkb/v4TCer+dCaUfmONO1VndoKBOihMQgABBBBAAAEEEEAAAQQQQCCuQNxgIH14XgvLGWXqvV7Lq/RB3D30licY6Iwja0EAAQQQQAABBBBAAAEEEECgSiBeMFC1qnX9hWBgXXlZOQIIIIAAAggggAACCCCAwEYV8IKBx3v+8AkGev4UsYMIIIAAAggggAACCCCAAAL9KBAvGMgqudr4AnU/a+/RhYV3GXywH+uLfUYAAQQQQAABBBBAAAEEEOhxgXjBQF5Lsyml1vRaUr4NE4KBNtBYBAEEEEAAAQQQQAABBBBAAIFmAm8VzirxcO/fSkAw0OxM8jkCCCCAAAIIIIAAAggggAACbQi8VXiPYKANNxZBAAEEEEAAAQQQQAABBBBA4IIQiBcMtDrGgB1XIJiXMQYuiMLhIBBAAAEEEEAAAQQQQAABBC4MgXjBQKtjDNhxBYJ5GWPgwqgcjgIBBBBAAAEEEEAAAQQQQOCCEIgXDJw/AsYYOH/WbAkBBBBAAAEEEEAAAQQQQGADCXQsGCgVlDuZ1pz7hII5pU/mlD/XOUiCgc5ZsiYEEEAAAQQQQAABBBBAAAEEygLxg4GSVo4nNGCMTM1rQGPHciqWt9b+G4KB9u1YEgEEEEAAAQQQQAABBBBAAIGGAnGDgeKLk3KMo9EnlrRSKJW3UyqsaOmJUfeziRcK5entviEYaFeO5RBAAAEEEEAAAQQQQAABBBBYRSBeMJDX/G4j53BGlUggvLGSsjODMrvnlQ9PbuM9wUAbaCyCAAIIIIAAAggggAACCCCAQDOBeMGA9wjCyZP1YwF328vTMqa9RxSG951gIKzBewQQQAABBBBAAAEEEEAAAQQ6JBAvGCgoPW40OJtruDe52UE5Rxr1KGi4WM0HBAM1JExAAAEEEEAAAQQQQAABBBBAIL5AvGBAKp1KatgMa/JETsUPQvtTKih7LKHhA/Na6cDTCdxg4KHHQhuo/9bUn8xUBBBAAAEEEEAAAQQQQAABBBCoJxAvGPBuJah9GkG9JxQE09q7rYBgoN7ZYxoCCCCAAAIIIIAAAggggAACMQXcYODQ422uJa+l2ZRSa3ottTUQIcFAm6eIxRBAAAEEEEAAAQQQQAABBBBYTSBeMLDamjv7GcFAZz1ZGwIIIIAAAggggAACCCCAAAKuQCeCgeLrS5qfndfCa4Uq1dK5VZ5WUDVn818IBpobMQcCCCCAAAIIIIAAAggggAACaxaIGwwUX5yUY4LxAxyNHAueUJDX/G6jgQMLbd06ED0QgoGoCL8jgAACCCCAAAIIIIAAAggg0AGBeMGA1/g343PKFYpaeX5CjplSxu0oUFJ+cVojjtHo8XzsPSUYiE3IChBAAAEEEEAAAQQQQAABBBCoFYgXDHhPJZh4wb+FoJTRlHGUfLWynfxzIzL70rF7DRAMVEx5hwACCCCAAAIIIIAAAggggEDHBOIFAzmldhpNvlj09yev9L7w71LppSkZ094jCsMHSTAQ1uA9AggggAACCCCAAAIIIIAAAh0SiBcMSNkZR86RjLxhBkvKHDYafCoYZ0DKPz9GMNChc8VqEEAAAQQQQAABBBBAAAEEEOi4QNxgQGcWNOEMa3JxRcWS5N46MJ6WvbmgdGZJ00NGZv+C+3ucnafHQBw9lkUAAQQQQAABBBBAAAEEEECggUC8YGBF8+Mj2u4ETyWo93NYyVPxH1tIMNDgBDIZAQQQQAABBBBAAAEEEEAAgTgC8YKBrFJDCU3NppSq9zq+oNyZ+KGAPT6CgThnmWURQAABBBBAAAEEEEAAAQQQaCAQLxhosNJ1mEwwsA6orHJjCGRn6nXlCU8LRgctKD1uZPx7gVyd4orSh+ZUGTakgdmppIwxSp5q8PkaJxdO2MFJxpQ+s8YFG83u7l8H19doO+s4vXIeg2fC1tuYfw6NkZnJ1puhybSiVk5MaS70aJmOn4tGe3ABnKNGh8Z0BBBAAAEEEECg1wXWPRh4fUmp2SUeV9jrhcD+XbgCXoNyVJP1uvW404K/oLXBgNcoDIKDVYwIBlbB6cxHlWDAaOqlBl2xzqQ1ZkOBdoMBf/lwwEMw0Jnzx1oQQAABBBBAAIFeFrDBwN2HHm9/Fz8oKLe8pPSxBrcTHByVMUGbZF7Zs+1tih4D7bmxFALyGpQtNO7rWBEM1EHp0iTvPI5pzPbqOBw8CqZ6Z9zztWdUowQD1TD8hgACCCCAAAIIILCqQLxgoKilg4735VTwJVWTn4NHs/6jDVfdrZoPCQZqSJiAQGsCrQcD1T0Gwt9QN/0GuqbHgL+umayKL6c0ca33D8XAnimlT5ekD/JaODzqjVzqbNfEbFbF0OGUv6V+NavU7dvlGCPn2lFNnVipms8uUjq9oOSB0CioW4c1djitlXOhFdbrpn42q7mDYxre6n/D7mzXyIFUdXoZLHd6Relgf82AhqPz+Zsqvjynyb3e/hpnu0YPzlWvT1LxN2lNNZkntOflt8F5TLu3WdS7nSCv+T1GYyfSStYLBgoZpQ4Ma8D9R9oeQ1IL9lwEf/xz6J5rdx4vTCqfi9/kNH9w1FveHlvU2K6nuKKFmUTZdGAooeTiSu0/+udCnvb8H8upFFh36vaR4Lj4iQACCCCAAAIIINBUIF4wkHWvP0efWWm8Hfdar70vK8MrJRgIa/AegTUIBA3K5necVwcDxdMZLRwdkTEJzS1nlDkdbrpHdsBvVFa6oPvrGhrW8NYxJU8sKbM4p4R9funOSU3uH9DIoXkt2e5GR0bdhv/o8Xx5pV5j1JHjODXzDT+RqzQ0X593vx0fGE8qfTKjzPKC5g9563MOLlVChGij81xGU46Rc0NCc4t2uSWlZxMatg3ioVRlTAV3uUENDw1o5J45LSxntHAsoRH7KJY981X3SOVPTLjHEezL0omkxmzoMJRUzm9/FxYTGjBOeV2uyQ2OjDOh9Bvlw6/7pnwezy4oYercTuBa2HEUvH+Yw2MMlF5Nufsc7FvmZFrJ8QEZE3pszNkVZV6Y1ogxSjxjTbwQpnIuBjQ2k9aSNZgdcwMC50io58K5rJL2/Dqjmrbne3lBc/eMuCbDM+FEOKeUO9+Ipo4vyduX7ZrY3+FxJeoqMhEBBBBAAAEEEECgnkC8YCCnud0JpV+vt2Z/GmMMrILDRwicB4Fyg7LptqqDATu71yhsIdlrFAzYAQRDDd7SS1NuF6PqrkN5ze82MvsXVPD30duu0ehzlbDAfpR/zt6bVBlEMPfMiLYPJZUNffEtlZQ5YnsohPY7EgwUX5xyA4vo4Ib549Xrl39c1fsbuFT2Q6WMpm3QEO3ibxvrW4c1bccE8OepTVK9b/qrGtl1zlXlPBa1cKD2dgJ3392BI6PBgL/+w6GgxF1/SZnDTnXA0XCMgei5CIynFQROudlB79yEzrfdzMoz3v1k8/5/FMXFRHUg4e5L3hv4MnRu6xAwCQEEEEAAAQQQQGCdBOIFA+u0U3VWS4+BOihMQqAVAa9BGX4KQfh9qPGsdQgG9qWrvlUPGtrTL1fvefZo9dMQvGAgoYXooCRveIPrTbwQRAjV6wl+85YPdbePBAPBfDU/3flGFDRiG+1vML3cQ+LVpBzjrP5UhpenZcx2TR2338ZXv+buseckfC5q9qxqrAivcR06PnmN/8Si7dURCQZ8s7FZ+y1+9Xa9HiGhgKNhMFAd8Ni984yDZXNK7awNK9yj8Hs4jLghjw0jjMzu6t4Wdj4vNArWV3v8TEEAAQQQQAABBBBYP4E3Yw0+aHsMjGik6cs+7SyYt4Unn9U5XBsM3PXQTJ1PqieZ6l/5DQEEvGAgGAE0Okpo8EQC67QOwUD40Yd2E/438OUGtX963H0Mzes1Ous1lL1G7+BT1Q9QLBULWjmV0dKJOU0f9McuCH/73CgYOFdU/rWMMovzSh2u3Btf3r8G+xs9jsILE1U9GepVnXdM4VAm+n5CC6vkHZUeA5KitxO8Pq8REwQpkWDAP4bK2AHR7TpKBo8nXC0YiNz7Xx0MeNv0Gv/Row/vj19j0Z4VdpHXUhoMn7PoavgdAQQQQAABBBBAYN0ECAbWjZYVI9AbAlUNylV3qX+CgXID9I0lTdl79IMB9XaPKHF4TqnDdmyE0LfP0WDgXE5z7j32tpHsaPsNIxo7OK35GdvN3VS++W81GHAHBAxtr45zdUO6zgxNJlWfx+rbCfLPjcgcWPDHVAg3xBuHMXU3181gwA03Vjesu89MRAABBBBAAAEEEIgtEC8YiL35lldAj4GWqZgRgWqB6gZl9WfVv/VaMDCppeh4h363+MkX7Qd+43jnlJbOVA0yILehvEowENwPP/da9QaCMRDW2mNADW8lyCm5dbvGjq/4XeXrDBpYfRIa/hY9j+7tBM60MiVvjAbvNgK7eCQYcBvcRuUwpeEWJLUdDDS/lWDseTteBLcSrMbPZwgggAACCCCAQLcEOhcMlFR8I1e+hTX3RrEycHgHDo5goAOIrGJjCkQblI0Vei0YMPIak8Eel5SdGXafkuCNPeA3gI8Gw9/5832work9tidA6Nvnqh4D/nFGxz9QUUt2ML42egwEAwtGBx8svTytwWDsAX/wQTMeGXdB3sB7A3vntcoDXqrGGHCP1L2dwNH0sZRGTDhEiQQD/vgDZue0suFHOKqk7NFBOddOKxNMbzsYkIKwJTzYpN1Pb/DBYc39xjs/xZOTcsygpl8Ohzl5pfdb+9A5808nPxBAAAEEEEAAAQTWX6ATwYB9TLn7VC63N2/o9tWtY0q9XP2FXLtHVHj3LGMMtIvHchtbIE4wUHxxUsYMavK5pfYeVxgaN8A9Cw265rv7GJrX63Y/7D4m0HtEXvDoO0cTJ4InFRS1dNA2Jgc0NrvgppL2EYET1zoa2GofxRdqZFYFA1LuKRswBI9CtGMMzGlyz4CcrQPu4/XW3GPAPjHBf1zh8AHvsYZLx6fcRwQ6oactBPM4N0xp3j5ecXFeU9HHBjYo19rz6PeYsP/whh/NGO0xYL+nP5X0HsVo/1G2j2c8mVbKfZRg2NN2wljSpDEaPGgfJRl+XGHI0t+/mlsjWn5coR8COCNKHLPnbUGp8m0dtdtpwMFkBBBAAAEEEEAAgQ4KxA0GSq9615vO3mmlT+aULxZVLOaVO5nW9F57zT6s1Gvxd/htgoH4iKxhYwrUNigbOdT2GJC9F//27W5jOfw4wZo11DT466zLLlQzn7em+sFAUlk7hsBeb/vOtRNKngxCAX8Pzq0ofTgYbNCOFZBQ6mReRXcgO0fTy/630pFgwN6GkJ2tDDY4MDSmqeNZFQpew3j0uL+dBvvb6DiKL89p0t9fs3VYidmsf99/RaxqHjOg4fEppX/TPEGtdx69pxMYebdWBNuI9hjwppdOLyh5YFgDboLrWy1HRzssKXdsQtsdm/B6gyHWBAD+ZupOL65oYSbs6p2PcN8Ad/EPCsqU/Qc0fCCl7Av2qQ0EA8FZ5CcCCCCAAAIIIHA+BeIFA/YLO+8pY5Grdf8Q/EdTV32Z1d7REQy058ZSCCCAAAIIIIAAAggggAACCKwqEC8Y8L6YWu2R4t5TvOo9dWzV3ar5kGCghoQJCCCAAAIIIIAAAggggAACCMQXiBcM5JR0jAgG4p8H1oAAAggggAACCCCAAAIIIIBAVwTiBQP+k6f2zGnlgzq7HwwO3olbCd5h8ME6wkxCAAEEEEAAAQQQQAABBBBAIJ5AvGBA0uvzGjVGzg0JzS1mlD1dUOF01h3kO3FDBwcfJBiId6JZGgEEEEAAAQQQQAABBBBAAIF6Am++/Z7uPvR4vY9anlZ8dc59Qph9/Hf4ZQcRn3utZjjqltcbnvFtgoEwB+8RQAABBBBAAAEEEEAAAQQQ6IxAJ4KBYE9KxYJWTmWUWbaPLexMIBCsm2AgkOAnAggggAACCCCAAAIIIIAAAh0U6GQw0MHdqlkVwUANCRMQQAABBBBAAAEEEEAAAQQQiC8QLxjIa2k2pVTT15LyMXeVYCAmIIsjgAACCCCAAAIIIIAAAgggUE/ACwaS9T5qYVpWyci4AuExBux759oRjeyeU66Fta02C8HAajp8hgACCCCAAAIIIIAAAggggECbAvGCgdU2WlJhOanRrRNKv7HafK19RjDQmhNzIYAAAggggAACCCCAAAIIILAmgfULBrzdWHlmRObgkopr2qvamQkGak2YggACCCCAAAIIIIAAAggggEBsgTfffld3H2r3VoLmmy+dnJQxSWWbz7rqHAQDq/LwIQIIIIAAAggggAACCCCAAALtCaxvMFBS9uigzM4UYwy0d3pYCgEEEEAAAQQQQAABBBBAAIH1FYgXDKz2VIJpTe4ZkB2AcPipuEMPSj3ZY+BH/+bf68CD31nfM8TaEUAAAQQQQGDdBf7sX/0b/cnk0XXfDhtAAAEEEECgFwXiBQOrP5XAPpEgMZuNPb6Adeu5YOCn/+G/6OYv3afb7z3Si+eVfUIAAQQQQACBNQgcP/Ef9c//8A5NfecHa1iKWRFAAAEEELgwBOIFA+fPwA0GHp5pukHTdI4OzGBDgVu+dK8+/k82646vf7sDa2QVCCCAAAIIINBNARsMfHrbTv3+jf8b4UA3TwTbRgABBBDoigDBwBrZg1Dgf/nIR/XRSz5OMLBGP2ZHAAEEEECgFwWCYMDeA0k40ItniH1CAAEEEFhPATcYeGT9nkrQqX3viR4D4VDAXjjYYOBLdx3Wqb/+NS8MqAFqgBqgBqiBPq6Bx5+ad3sM2P/fCQc6dfnGehBAAAEE+kWAYKDFMxUNBYJg4MY/+hPduPervDCgBqgBaoAaoAb6uQb+6Gv62GX/xA0FCAdavDhiNgQQQACBC0aAYKCFU1kvFAguGvjpfbOCAw7UADVADVADF2INcFtBCxdKzIIAAggg0PcCBANNTiGhABe6F+KFLsdEXVMD1AA10HoNEA40uVjiYwQQQACBvhcgGFjlFBIKtH7RxAUmVtQANUANUAMXcg0QDqxywcRHCCCAAAJ9LxAvGChqZTmjzJpeKyq2oXbeBx8kFOAC90K+wOXYqG9qgBqgBtZeAzYcuP/RJ9q4jGERBBBAAAEEelsgXjCQVdIfvLf164uksm2QnPdg4N//p4xu/tK9+shFH6saiKj1A137BQfrxowaoAaoAWqAGujdGvj9m/bpG0f+rI3LGBZBAAEEEECgtwXiBQNSqVhUMfJaOmL/T5/WUt3pfRIM2NNGONC7F2dcOHNuqAFqgBqgBs5nDdhQ4NHH/ry3r+rYOwQQQAABBNoUiBsM1NtsdsZeq9QGAI2m11tHdNp57zEQ7ADhABee5/PCk21Rb9QANUAN9F4NEAoEV0X8RAABBBC4UAVsMHDPI8mOHl6jAKDR9FY23rVgwO4c4UDvXaRx4cw5oQaoAWqAGjgfNUAo0MplGvMggAACCPS7AMFAi2ewXjjw0Us+rhv/xZ/oxj/ihQE1QA1QA9QANdDXNfAv7tSln/ynVeMKEQq0eJHEbAgggAACfS+wHsFA/vkxd4yB6CCDfdtjIDjL0XDABgPjiUf1q1+f5oUBNUANUAPUADXQxzXwxNPH9eltO8vBAKFAcPXDTwQQQACBjSCwHsFA6aUpGTOo1GthwaIWDhiZfWnlw5NbfN/VWwnC+xgOB2wwcMfXvx3+mPcIIIAAAggg0IcCx0/8x3IwQCjQhyeQXUYAAQQQiCWwHsGAikuadIzM1jGlFjPKLC9p/tCIHGM0erydWEDqmWDAagfhwCf+6RUEA7HKj7nM7PMAACAASURBVIURQAABBBDoDYEgGCAU6I3zwV4ggAACCJxfgTPrMPigPYLSa3Ma21o9LtLAgYW2egvY9fVUMGB3yAsH7tNX7v3W+T1jbA0BBBBAAAEEOi5gg4Ev/OFXeSRhx2VZIQIIIIBAPwisVzDgHvsHJeVfsz0GMsqdKcXisMFA4uGZpuswTefo4AzP/dV/0D0Pf7eDa2RVCCCAAAIIINANgf/jL/5KX3vwO93YNNtEAAEEEECg6wLrGgx08Oh6Mhjo4PGxKgQQQAABBBBAAAEEEEAAAQS6IhA3GCgViyo2fcXrLWBhCAa6Uh5sFAEEEEAAAQQQQAABBBBA4EIXiBcMZJU01eMImLq/JxV9dOFaXQkG1irG/AgggAACCCCAAAIIIIAAAgi0IBAvGChqZdkbQ8COI1D1OplW6uCoBq5OKP2bYgt7svosBAOr+/ApAggggAACCCCAAAIIIIAAAm0JxAsGmm9y5ZkRmT3zbT+NINjCW704+GCwc/xEAAEEEEAAAQQQQAABBBBAoF8F1jsYKL44KWPi30pAMNCvFcZ+I4AAAggggAACCCCAAAII9LTAugcDp+Y0+VRWcYcfJBjo6TJi5xBAAAEEEEAAAQQQQAABBPpVoFPBQOFUWnOHExrZPeK+EofnlD5V6BgLwUDHKFkRAggggAACCCCAAAIIIIAAAhWB+MFAXgsHBuQ9jWBAw24wMKwB/+kEAwcWYo8vYPfWCwYer+x4g3emwXQmI4AAAggggAACCCCAAAIIIIBAHYG4wUD++KiMGdbkYj5yu0BJ+cVJDRujsRPxew4QDNQ5eUxCAAEEEEAAAQQQQAABBBBAIK5AvGAgr/ndRoOzuYa7kZsdlNndqacS0GOgITQfIIAAAggggAACCCCAAAIIINCOQLxgIKukMZo82XhowdLJDj2VoHBWiYcJBto5xyyDAAIIIIAAAggggAACCCCAQEOBeMGA12Ng5JmVhutfeWZEZmdKjfsUNFy06oO3CAaqPPgFAQQQQAABBBBAAAEEEEAAgY4InHnrXd3zSLLtda0cG5ZxRpV6tVizjuKrKY06RsNPxY0FpLcK79FjoEaYCQgggAACCCCAAAIIIIAAAgjEFIgbDKiUU+oGx30qwcDQiMYOTmv64JhGhrwnFTh7U8qdi7mT9qkEBAPxEVkDAggggAACCCCAAAIIIIAAAlGB2MGAXeEHBWVPJJXYPaLtjpEx9rGFCSVPZFX4ILrF9n4nGGjPjaUQQAABBBBAAAEEEEAAAQQQWFWgI8HAqlvozIcEA51xZC0IIIAAAggggAACCCCAAAIIVAl0Khgovp5R+lhKqVn/dSytzOu14w5UbXwNvxAMrAGLWRFAAAEEEEAAAQQQQAABBBBoVSB+MJDX0qEROcbeQhB9ORo5tKR8qzuzynwEA6vg8BECCCCAAAIIIIAAAggggAAC7QrEDQYKJ8ZkzLAmT+RUDI8nUCoqd2JSw8Zo7ESh3d0rL0cwUKbgDQIIIIAAAggggAACCCCAAAKdE4gXDOQ1v9tocLbx4whzs4Myu+dj9xogGOjcOWdNCCCAAAIIIIAAAggggAACCJQF4gUDWSWN0fRyeXU1b0onJ2VMUtmaT9Y2gWBgbV7MjQACCCCAAAIIIIAAAggggEBLAl4w8L2W5q2dqXmPgZVnRmR2ptS4T0HtWutNIRiop8I0BBBAAAEEEEAAAQQQQAABBGIKxAsGpMILE3LMgMZml7RSKIX2pqT84rRGHKPhp+LGAhLBQIiWtwgggAACCCCAAAIIIIAAAgh0SiBuMCCVlDs2pgH7RIKqngF5pfcZDRxYiD2+gD1WNxg49HjTwzZN52hxhmdP/Ffddej7mvz207wwoAaoAWqAGqAGqAG3Br71/Xn9fekfWryaWH22//H//L/6+kNH9affepwXBtTAeagB+/fN/r3rxB/778A3/vy47n7sh7ww6FoN3DNzTGfeeqcTJa34wYC/G6WiVn5TUFWfgXPh3+Lt7nkPBhKPfF9f/d+XlPjBr3hhQA1QA9QANUANUANuDYze8UjHgoFf/fq0Ju/+ul6Z+ue8MKAGzkMN3H/315X79f+M1yrxl7bBwM1/MqXLTv+WFwZdq4GbH/hOZ4OBqXbHGAj9tSoVlFte0PxsSqljaS2dWlGxc7nA+e8x8MD000qk/loPHj/LCwNqgBqgBqgBaoAacGvg1v1/2tFg4JsH79P7Rwd5YUANnIcaePTgfR0NBm45cFi2uzIvDLpVA7dMfa+DwcA7uidmMJA/kfBuJbC3E4RfzoimXsyH0oP23573HgMEAwQihELUADVADVAD1EC0BggGCDEIcvq3BggGaMB3qwG/XtvtpWCg9NKUHGM0MJ7Swmt5FYtLmraPMDyZV/aYHZhwWMlT8bsOEAzwTQ3f1lED1AA1QA1QA12vAYKB/m0U0qDn3BEMEAysVwO9W+vtnWCgoIX9RmY8HRpgMKukMUqesr0DSsocdtzPC+13FnCXJBjgYrDrF4PRb434nW8SqQFqgBrYeDVAMEDjkoChf2uAYIBgoFsN+PXabu8EA14IMPliMdTsDwcDUvHFSRmTVDY0RztvCQYIBggGqAFqgBqgBqiBrtcAwUD/Ngpp0HPuCAYIBtargd6t9XY6GLi37TEGvBBg4oVwf4DqYKBwYkzGSSrXThoQWoZggIvBrl8M8s3gxvtmkHPOOacGqIFoDRAM0LgkYOjfGiAYIBjoVgN+vbbbO8FAUUsHV7mV4IMVze0xco5kqh5jGGrvt/yWYIBggGCAGqAGqAFqgBroeg0QDPRvo5AGPeeOYIBgYL0a6N1ab+8EA1Lp1aSGjZFzw5xW3Ga+12Ng9OCUJq51ZJwJLZxpuf3fcEaCAS4Gu34xGP3WiN/5JpEaoAaogY1XAwQDNC4JGPq3BggGCAa61YBfr+32UjBgW/LFl1OaOBAMQOgFA8bZrtGDc8qebdjWX9MHBAMEAwQD1AA1QA1QA9RA12uAYKB/G4U06Dl3BAMEA+vVQO/WenstGFhTC7/NmQkGuBjs+sUg3wxuvG8GOeecc2qAGojWAMEAjUsChv6tAYIBgoFuNeDXa7s9FwwUskqfyCr8bILSmZwyyzkVSm0mAZHFCAYIBggGqAFqgBqgBqiBrtcAwUD/Ngpp0HPuCAYIBtargd6t9XYyGPjbt95R+08lkPTanEYcI7Mz5T95oKTc7IgcY2Tsy5lQ+o1IK7+NX20wcPehx5suac9JR/48MP20Eqm/7voFSPSbCn7n2ytqgBqgBqgBaqB7NUAwQOOSgKF/a4BggGCgWw349dpu7wQD/lMJhpLKBt0Fzi4oYYwGj2ZUKOQ0N25kDnfmqQQEA3xTRFBDDVAD1AA1QA10tQYIBvq3UUiDnnNHMEAwsF4N9G6tt3eCgZySjtHY8/nyl/TFFydlzIjmX/cmFV6YkHGSfm+C8mxrfkOPAS4Eu3ohyLdz3ft2DnvsqQFqoJdqgGCAxiUBQ//WAMEAwUC3GvDrtd3eCQa8JxBMvRQMJFBS5nD4tgLJCwqSyq45CqhegGCAYIBggBqgBqgBaoAa6HoNEAz0b6OQBj3njmCAYGC9GujdWm/vBAN5ze82GpzNea34UkbTjpEzE8QAeaX3OzL7F1Sobuev+TeCAS4Gu34x2EvfWLEvfINKDVAD1EB3aoBggMYlAUP/1gDBAMFAtxrw67Xd3gkGpMKJMRkzrMTRlKYPDMuYQaVes+3+nOaGHBnjqNKjYM15QHmBNxl8sDsXQFx44k4NUAPUADVADVRqgGCgfxuFNOg5dwQDBAPr1UDv1np7KRiQisrMjGrAfQqBo5EnsvJuLCho6amU0q8GoxKW2/htvSEYoMcAPQaoAWqAGqAGqIGu1wDBAI1LAob+rQGCAYKBbjXg12u7vRUMBO38kkofBO87/5NggIvBrl8M8o1Z5RszLLCgBqiBjVoDBAP92yikQc+5IxggGFivBnq31ttzwUAhq/SJrMJ9A0pncsos51QIxiWMmRUQDBAMEAxQA9QANUANUANdrwGCARqXBAz9WwMEAwQD3WrAr9d2eyoYeG1OI074SQQl5WZH5Li3FhgZZ0LpN2KmApIIBrgY7PrF4Eb9dozj5pthaoAaoAYqNUAw0L+NQhr0nDuCAYKB9Wqgd2u9vRMMFLV00MgMJZUNugucXVDCGA0ezahQyGlu3MgczvjjDrQfEBAMEAwQDFAD1AA1QA1QA12vAYIBGpcEDP1bAwQDBAPdasCv13Z7JxjIKekYjT2fL7f4iy9OypgRzb/uTSq8MCHjJOU/0LA831rfEAxwMdj1i0G+Mat8Y4YFFtQANbBRa4BgoH8bhTToOXcEAwQD69VA79Z6eycYyCppTOhxhCVlDodvK5C8oCCp7FqTgMj8BAMEAwQD1AA1QA1QA9RA12uAYIDGJQFD/9YAwQDBQLca8Ou13d4JBvKa3200OOv3ByhlNO0YOTNBDJBXer8js39BhUhDf62/EgxwMdj1i8GN+u2YPe7Eo49p6IG/6eA5OKkhOxDJvpNrXGe7y/XSt7u/1R333a8vfKfOPj27qEFzq27+gffZ/d99UtdsuVLGWl16SOPzdZap92/D9LdlQutpWLutzldvG0xbY+22eO5w7XlXgoGYjcK7PiVjLtOzD/nrcX83mr6ryXqjyx1tMn/480NbNfPFAZ0uT9umafvv6he3qX8b+Tt0at8mzd5dx+HIVk2GjN++5wp9dfOHvf9LLnb0i+k6y5RtQp+1at7qfPW2cZ6nEQxEgoEzaa8ugsHhGv5MqqMN2+WUzGKhtXW+mpY5MCJjB7Wz+7d1WObgnEwhcixaw++FjMzMQmvbX8t6uzBv7wQDUuHEmIwZVuJoStMHhmXMoFKv2WZ/TnNDjoxxQj0K1hoHVOYnGOBisecvFhs2vvr+3HmN8S33EQx05Bz/4MfaYoyGpmsbivc/ekgXfeZpfc2tmV/p5t8zMlsSuvHQovY9+orubbWWWm3wtzpfq9tlPv6d2gA1QDAQaji206iLNiLd39c3GPjFF43MNVddWMHAQ1fpVlPf7e39jjb97pXKuefnM3r2aiOz+XL98Pat+vn+7cq3et6i56rRcq3O12j58zidYCDSeC5mZWZToZe9J9zI7JkMTbOfL3WwEZ31tnGihWDgxIQ377WjMkf9/Tw46oUEzojMqVJ7+zVjZMbT7S3bhcb/aqFMLwUDUlGZmVENuAGTo5Ensv5AgwUtPZVS+tVgVMJKI7+ddwQDG+BiqyONLpzWoWGyHsFAbaN4w5z/VYKB8X2bdPlXlv1zGKN3RKsN/lbn4+/VOvy92sB/B/q8nggGOhwMtNoojNH4rA0GYh5Dq/u8nvOtEgz84osf0o4/uNrvDRGjd0Sr5q3Ot54eLa6bYCASDNQ0cv1G+0x2HRvNLQYDpYwXAOyv04AvZmR22gBjvr39JBio2x7/27fe0b1T36v72domllT6YG1LrGVugoE+v5DaMI2+C+08+Y1YNz120z+/m3vQoDzyE12zeZPMpdu05a5XvMbTsZP6wg23ytnkd/m6dJuuuO4xjR8LN4Sijd4gfHjF7WZ/lV2nMbpkyx267shvQ42y6HJ/o5t3ebck3HvksXK3+4s236TB+17R/ZHzce+RJ7Xjs17X/Is23+aue3yfkdn1YyUi81bX7Jvufm0JuvVv2qUtt/xYd8yFj+msHpz/G+378h3lY7f7P/RAaD9cN9/F9fy2xsvbXdZ1V27yehLUzGdU7rFhtzGRUGBkj3XHxMnq3gTB+fFvSXCP5Uev6OZbbtInLrW3JWzTtoll3V9vvmMndd1113vzmU36xNV36LpHO9lbJGJWPn6mV9ccHr3qseGCgXs2a4cxmrzjczXd7m0D1Dib9cugUTa1TbOfv0y7PuH/O3fxR3T9zs36xVSoIR5tRLq/R775/uZ2PTt8ibZdbGQu/oi+dMvVeju6nLvNHfrFLZfr1qCbvPmQtl31Sc3cucPf12v17DXhf3ONbt13rd4/Wr+xfHr/FUps+4g22X+fL/6Idn/+iup9P+qv74vblL9zc7l7/qZNl2hy33a9HTg0+ukeV8Xn05svc5er+QZ/+lr9/KZPlh0/vfmTmh4Prd83q/zf/Cn9orzNqzXjfMi7NaNmvuD4B/W+3cYtl2v3pg+5/9/aY0jcsq26N0E985bPTeicl/et+9MIBmIEAx8UZGYTMlv9v1NDCZnFldqG+cspmRu2e9/0O9tlDqQq3f5rbl0YkznTYJ+CeRv1LHjO3l6QkDkbWf43aZm9oe3b2w7K8xRk7CPz3Gsw/2ej9deEJpHt9MjnvdVjYC3N+/bnffPt93T3ocebrsD2tOjInwemn1Yi9dehBgkXab16kcZ+rWNtPvs3+sqjT+oaY3TF3p9o36PLSjx7Vg+6DcpNuujSXdpx10+174Gntfd7Z/XgjxY1eKnRRVffoS88YLu//1Q324ay/Qd4y2P6SrkRGG3ge79fvmWXLgmWfeBJXXO1DQhu0o1PBscYXc4PBrbskrPpVg3d91PtO/RjDe2yjf9N2vXom+W/w7YRbPfjkl3f1s2HFjU6cYeuuHSXnC3Ng4HEfbfKmF265ss/1t5HF7X3vkO6yjawPxt0+z+rB59d1nV2f4P9sMe+71ZdYoycfSe9kOLYK9p38JCuMEbX7I/cHvDk07rC3K991tfO57ubLzypfY8u6is/sMfyK938+9Zkl66ZsOejso2Lfv/H/i0IwfmpjFXw4PFlXWeP89LrNWjPl2u0Tdt+3x5XaL5nT2roSqOLdt6vG93z9xN94bpdNZb8nQvqkZ8bsRY2XDBw9DP64e8ameGtkYbvNk1fbCrfTH9zqyYvNtp01Sc1O267rG/Rs7Zxa//93xwKD6KNTb/xWhlj4GrNbLYN849pcu8W/fz2qzR9zUf0pR2XVY9NcPRz+vnwh9z5vnrLgH6+f6t+ts821u3F/kc1c49thH5Op+/eqll7W9bvOvrL/Vv1y4dswFEbDOT2fdwNBHbtvMKd72f7PqVbbcBx8cf17INBg9YPBjZ/VLs+cZmm9wX7Z+/f/5Ae2V8bnlTGMAiW/aRm7HLW559d4m5z997PVEKXI1dr5qoPyQTrt/N98TJ92hjt+uI27xxMbdfPb3N0vTH66mjk9oDJK3W92aSfHxnU+3a+/Vfoq/Yc/N4VrpF3/J/RsztsIPBReXaVbWzacZV/C8Kg3o+eq6OtnpvAq/d+Egw0a9w26DFQysnc4MhsHZM5sSSzvCQzY+8nNzLh3gWnku595ObQvMxyRmZxTmbIyDjTMiXJlAoyy3PeckcXZJZz3vS6jeyc1ytg/7xMsdl++58vJrzt3zNX2b7db2dC5g07T0nm1YzMPUZm97Q3z5k2b0eou88t7mcHlyUYaNz0JxgoN7y4YN2IF6zrc8xeY7z8jbWtMf8b7Sv2+70E/Lq79xv3uw30YPC8YH++dtdN1Q3Q49EGvv/7lYc0/qNQ7fo9Firbji7nBwO2cTsbWs6u3zbcy4Mb2m/jjaoaz8fPut+Yu6HFqj0G/G3srR4o8f5DCV20+Y7ydt1jvPR+7Y30Irh/6n5dFA43GtxK4IYPN/w09M1/9FjP6t4H7pAxn9WuI5XAwxrfe8huIxSERHoCeMvt0tB0eLlfeb0twsFAsFyV5Sv6wmeulPPl6uMPzi0/w3XH+41QDxsvGBhUbu8lbkDoNjaDb3/v+pQ2mY/ph5Ne4y//x5vcxnJ5UEF/Pm/Z6GCD0d8rPQby4590G6zTd4Ub2Z/xv/kPLTe1RZObP+z3AAg1QCev1G4T+mb86KBqbyWIBANTA27jecf1fsM7OMbDW7yw458FoUjQA+GyUFhgt+2FJKsOZuh3/X/kztC+Hv2cfrbrQ9q2s9IYd70u3qSfHQ7PN6i379ikTeaSsvf7DW4lOL3vMpnPbwl98x851qOD8ox/R4/cGTYeVP52u41QwBEJBlo+N4FfD/4kGGjWcG0QDBy39/VP1TbQX5qSMaMyr/vrtV3090W6/p+e8wYMPBVsu8VbCWzj+bWUP+igI7N3Uub4gsxreZkPgnWFfga3HjwT7cWQl9ljZI5kKr0buJWgbmv6b9/s1K0EdVffsYlej4Fk0/URDBAMlL8h3ggXqOfnGL0GaqVxXgkG6g2gV3ef3Abn9at88+83giON7wcbBQjlBr/faP+90Lfl7t8Bf3rQ4P/uY7rcGA1OhRvGthHnD/AXzFf378+b2veH9naJmzR06BXda7/Rr5kvWM9jbo8C+w1/+eX3ECj71Q0Gfqu9N4RuF3DXHw0GvHlMeXDC8H54wYe5ZdHrmRA08N1bCd7UvluM6i1nQ4uqHgNPPq2rbA+Hm57W+GzUKrw93tfWACYbxWQjBgPv+43t8O0E7m0EW4MB7qobsZVvyYNvnSsBQs230FU9BmwvAPvtfu16bcO46mkGDRudXkP4+j+sfAvfLBjI//HlMqGQI7z/v7zpd0KhiB8MXF1pyHvz+tOrBjiMmBzZqkdsj4ptn9LPDu6I9L4I5vUHCrxms3623/YECL38HgLerRCDqh8M7NDPPl8ditT2jvDmqWf8vu0RYEd+D3qHVAUDnTg3wXF27yfBQKghXfdb63rBQF7G3nY5nvK+Ybc9AYLXC9Pet/9Bd3wbIJhhmeNZmXONtrWGYMDuo+1lcCIlM25HuQ9uAxiQOZyuDipetvuyXeZ4aP+C/bQ9BEzoyQoEA3Ub1QQDdVkkbiXgInejXOQ2P842goEf/VZf++6ie4vBdbdU7rmvBAnRRm/096D+otOjv0cCgHKDPTL9yCGvAVz1Tbi3jZbGGJj9qQbd2xrsfyzeffdD9y3qa+XeAf5+lf/DCv7jqvy86DZ/UMF6wcDcT7Uj/M193WDAP6ag8V8+VnsckeOtCgZWWc4NTEK3Ehx/U1+Z8G5/cP/ztWMp3PCkRr/LGAPN/54ENcvPC91qQwYDwb31QYPR/4a8qgt80FD/5g7l7tmqn49fqZnhyn3y5VsFqhqbQXAQ9BjwG9jl7YQakO5YB6EeA8H2pj+n/INX6+f7B/TDmzaV7/sPf3vfLBhwv2UPut8H6/V/ep8F220UADSaHtr/o4PK/fEmXW/HTbD/V7jjL3xKz+7/TO23+6v8X7JpxB9UsF6PgcNblAg9ptALLaI9BlYxDs5zEHBUnatVlmt0biKW4cClW+8JBho11oPp9YIBf9oqdWmeyHnfxp/LyYwPVBrwQ2MyxxYqYwy4YcQag4GqAKMk80ZO5ljC60kwlKwEEO6j8irXXZUQIZg2UdkPgoG6LWCCgbosBAMX+oUdx7eWxovX6C1/420bpG7Ds84j9360rC+49/fbf4RtA/p6bbnhkG7cZ7vAh+ePNvCjvwf7F50e/T3SIC43lqunl78ZbzcY8Nd77/cWdfOXEyoPQnjpbf6tBNH9Cva/zs86wYC7fzU9AaLrXKWB324w4I5rEA4G/P21Y0s88LQGy4MQhsZJKBvXOTY+q9ObBKcL7d/bjRkM+N3PL3a8e9fd2whC3dptA/CbV2v2Gnuvvf333w4C+DHd+nlHP/yivTUgaPgHQUDQ0A5+Dz5fpfHp3jsfWu7o5/TLW7x77+36N236mK6/5nI9svdT3j31X9xWvm+/V4IBtzE8vUOn9l+lmdAgjZX7+qON+OpgoaoxXScYcHtV1PS2iK5zFeN2g4Gac7PKfnc5LCAYCAKARj9XCQbCYwlUNdbrrOtMTub4VGUQQtuLoPxowTjBQGhbr9rxDIzMC/5jD91gYJXBDMP7TDBQtwVMMFCXhWDgQruQ43jiNE68BmorwcBXvvxZ95v5L3w3/CSBs/Ia5t0LBh5seCtBdYCwljq5/8mntcUY//GCv9KNn6nfXb9mnXWCgerHFAbnKhoMtHArQXArRlWPgTXcSlCvYT//W+3ba89romb8hJpjq7c80wgLLrAa2KjBwPvuffje/efubQTBt8p+Q8/rcn+ZZu8JngjgNQ69WwCChn8QBIQa+O3eSuA/LeHW0auVnw41RI9s1aRtLKwhGGh+K4Hjj/rvN6ojx/5+tEHdcuP3c8rttYMq/o4/WKI/0GNN4z50fMG66wQD1Y8pDJaJBgMt3EpwvR+qVPUY4FaCaJPh70v/oFsOHK7ctx5uePbt+3rBQF5mtx2sr81HA571Hy14cMm3ajEYmLU9D6YaD054dsELBoLbGNzxDozMSy0MJkgwEC1n93eCgbosBANc8AeNM34G9/k3Dwb8RnbN/f6/1d5bvMcPdu1WAjsqf53BBx/076lf9XGF8yd13dXb5HzZvxUgaOT8yHb/D4KBs/IGWKwdGPD+I4d0+aXbtCsY36AmGAg9pjBYt/szGgw0H3xwxyE/kKkKBuzghAldVDNoYfCEg0qPga/dZ2/7uEOjVY+WPKs79l9PMFB1bvh3YSP/H7Fhg4GjXoNy0/Wfcu+V/+p4OADwG8w1997v0M/skwNa7jFgB8C7XJtMdGC8YBT9SqBQ7uJffmKA1xD2BtBbWzDghR5GDQcf3BUM5hcjGLhrs67fFDwtIWi0D+rt2+34BkEwEAz0GD3+Qb19p6MdF39EjwSPjawJBkKPKQzCA/dnNBhoPvhg4nb/3FYFA62fm6qeDVX7Ujnubs1Dj4HQN+51w4t6wYBk3LEDBmVejjS67X399pGEbmM8L3PPsMyBhUhYsuIFC2sNBpb98QuOLNUZbLAk84x9KsKgzGv+MQWDD45HBj9U3ntE4d5QsEEwULcF3D/BwLu6+xCDD/LNExfnXagBf2C7z35bo1WPKwz3APAaSl/5ivdouyv+4GlvEL4HntSOz16pizZdqYu6eCuBbcTc/+gh99GBweMK9951v6641D5ysdnjCt/UV26zx3WlttzytEbtwIK2m/1OOyDhbRp1B/izj2o8qSH7SEA735f9Rwl+NqZAQgAAIABJREFU2T4SMfI0BHc8AaPLb7BGr+je8GMKq+q7Nhho/3GFfghw6fX+Yw5/ouvKt3xUgoEHf/ATbfMfN3mdffRj6HGTzm3L3sCGVftIA3kjN5A36rFv3GBgUN436/bfuU/qL6eqG3m//IOPurcQXP+/XukNnDd+hRJbP6xNn/iw+0i+1sYYsOv0Q4CLP+Y/Sm9AM+VbFCrBwPv3bHYfhbjpqk364e12kL4BzX7+En364g/r0/Y+/lCPgV/+gR1A8BJNj3focYXt9Bg4crWm7aMUP3GZJvd6j1f8y72btNsOSLhjQKeDBvQ3t3nzmQ/r1pvsfN5jH+3YBJVbDgb1vjuegNGOz1vv7cqHH1MYrKtBMFA2XvPjCls8N1Xbr66TbgUCwXYJBtoMBs5lvccOmgGZWfuYwSWZWf8+//2hhvgLE/7jAlMyJzMyJ9MyB+yggcMyrwahgv8Ywj3JJo8rLMnM+AMO2vDh4LTMbErm6KTMtY7XWyB6e8MJu30jc8OUt/3FeX/Mg/CtDJJ5atB7msJiRobHFZZDAoKBMkX1GwYf5IJ/o1701jvur33jfl21yRs3YOg7q4wxcPy3Gv9yZbDBS7bcqsG7Tirx596361fd9Ss/2Ig2eqO/B/UXnR79vdGtAPWn33vkMV2z5Ur3P42LNt+m644se4/sW/WpBHZffquv3BUaW8BcKee6x7Tvz4P99H/+6BWN7qsc/0Wbr9c1X15UYj48nx3g7zZ9wgYS5jbduP9WmarHFAbzRo/Vnz7/N9o3kdBVm71eGBdtvkmDdy2HHnMYnJ9Qg9825u1y5XPj7f/4QX9QxiDcsPPN/lRDobEF3PXf90r1+gkHuhDQBXXBz3r/Rp3PaRs5GHg/6KZf9Ti8oOG3Q7+4qTLY4Kc32wbwNp0+ZAfEMyoPVBj5Ftp7SkHoVgPbqJy+Vj8vr+vD2rVzs35xm20IhIIB+9i9OzdXBhv8xEd16/CV+sWha92R+U34iQkPbtHkVm/8A2/wvtpv0W3D8fT+K5TY9hE3yLCDA+4evlK/rApAYvQYsMd1+Gr9MDS2gPnER/XVm7bqdPhWCDvfN7frL79YsbTjJ9TOZ8dY+Li2uYMZflzHRqOPKQzOS/1jdY1vuVy7N3k9OjZtukSTe68ODYRY57aPNZyboCHeaz8JBtoMBmzvgnMrMjMJma32+sXIXDsiM5up/Tb/ZDI0toB9zOCUzG+K1b0IXpzy1+PIvNpkn5bnZQ6MVLZrw4nxSZllf2yBaM+Hl+dk9m739tGdt87231iS2eMPkhgMnBhdT5/8fsvU93TmrXeqG7Jt/kYw0ACOYICLz/N5ocm2ulVv/mMGg3vzafDS4KUGqIEmNbChgwHbMOSFQR/XAMFAk0Z4nzSG7fPpeXkGBAMNGvN+jTT+dA2fEAx0q6HGdgkJ1qEGbPf9Tbu044HIY/dmf+wOIFg1fkKTRgHnZx3OD+Y0xvuoBggGCAcIR/q3BggGaFBfaIECwUDjBr491x35QzDAxT8NwAupBuyI/nZMgOAe+0Xtve/b2mJvj9jybY3/6EI6Vo6Fv7vUwHrWAMFA/zYKadBz7ggGCAYIBho3lfvqVoJHGHyQb5X66Ful9bwwZd1tNHz8e+yv8O/NN5t26Zp9P9Edc22sizrk3yJqYMPWAMEAjUsChv6tAYIBggGCgSbBwJ9+r/EMPfLJm2+/q7sJBmjA0CCmBqgBaoAaoAa6WQMEA/3bKKRBz7kjGCAYIBho3Lp3ewwQDNQCcSsBF57dvPBk29QfNUANUAO9WQMEAzQuCRj6twYIBggGCAZq273BFIKBQCLyk2CgNy/IuFDmvFAD1AA1QA10swYIBvq3UUiDnnNHMEAwQDAQafSGfrXBwH1/+kRoSm++5VYC7mfdsPezdvMCmG3TAKMGqAFqoLoGCAZoXBIw9G8NEAwQDBAMNG7sEww0sKHHQPWFEBeGeFAD1AA1QA1QA2dFMNC/jUIa9Jw7ggGCAYKBBo1fSQQDDWwIBrgA5gKYGqAGqAFqgBqI1gDBAI1LAob+rQGCAYIBgoEGjV+CgcYwBANcDEYvBvmdmqAGqAFqgBogGOjfRiENes4dwQDBAMFA4/YvPQYa2BAMcPFHA4AaoAaoAWqAGojWAMEAjUsChv6tAYIBggGCgQaNX0n/35uFvhl88J5Hko0PxP/EnuuO/CEY4GIwejHI79QENUANUAPUAMFA/zYKadBz7ggGCAYIBho3lQkGGtgQDHDxRwOAGqAGqAFqgBqI1gDBAI1LAob+rQGCAYIBgoEGjV96DDSGIRjgYjB6Mcjv1AQ1QA1QA9QAwUD/Ngpp0HPuCAYIBggGGrd/6THQwIZggIs/GgDUADVADVAD1EC0BggGaFwSMPRvDRAMEAwQDDRo/NJjoDEMwQAXg9GLQX6nJqgBaoAaoAYIBvq3UUiDnnNHMEAwQDDQuP1Lj4EGNgQDXPzRAKAGqAFqgBqgBqI1QDBA45KAoX9rgGCAYIBgoEHjt496DJx5+13xVILjXKBFL9D4nZqgBqgBaoAaOJ81QDDQv41CGvScO4IBggGCAYKBxgINPqHHABea5/NCk21Rb9QANUAN9EcNEAzQuCRg6N8aIBggGCAYaND4pcdAYxiCgf64QONCmvNEDVAD1AA1cD5rgGCgfxuFNOg5dwQDBAMEA43bv/0yxgC3EnAbgc7nhR/boqFBDVAD1AA1UK8GCAZoXBIw9G8NEAwQDBAMEAw0FmjwCT0GuCCsd0HINOqCGqAGqIGNXQMEA/3bKKRBz7kjGCAYIBho0PjlVoLGMHcd+r5un17Qnd//v3hhQA1QA9QANUANUANuDeyZOKS/L/1D4wuINXzyq1+f1n13fV2/ePhGXhhQA+ehBu696+vK/fp/ruFvaeNZ7b8Df7D/EV3+3/8HLwy6VgM3H/yXOvPWO40LdQ2f2FsJvnr/UZ3661/39Os/vfSy7jj4L5semQ2BOvLnZ//5/9Yj3/1Xmv6zeV4YUAPUADVADVAD1IBbAzNPP9+xYOCNv31b3/rOrB7//g95YUANnIcasH/f7N+7TvyxwcD0X/yVDv/5/8kLg67VwEPf/1FHg4FvP/EXeiz1r3v69a3knP7tz19q+te4Y8FA0y0xAwIIIIAAAggggAACCCCAAAII9JwAwUDPnRJ2CAEEEEAAAQQQQAABBBBAAIHzJ0AwcP6s2RICCCCAAAIIIIAAAggggAACPSdAMNBzp4QdQgABBBBAAAEEEEAAAQQQQOD8CRAMnD9rtoQAAggggAACCCCAAAIIIIBAzwkQDPTcKWGHEEAAAQQQQAABBBBAAAEEEDh/AgQD58+aLSGAAAIIIIAAAggggAACCCDQcwIEAz13StghBBBAAAEEEEAAAQQQQAABBM6fAMHA+bNmSwgggAACCCCAAAIIIIAAAgj0nADBQM+dEnYIAQQQQAABBBBAAAEEEECg1wV+uvhf1A+v//rf/ntTSoKBpkTMgAACCCCAAAIIIIAAAggggEBF4O13zuq2A4/qL//tf+7p1zM/+Xf68t3fqux4g3cEAw1gmIwAAggggAACCCCAAAIIIIBAPQEbDNz10Ey9j3pq2jvvva87v/HdpvtEMNCUiBkQQAABBBBAAAEEEEAAAQQQqAgQDFQseIcAAggggAACCCCAAAIIIIDAhhNwg4GH6TGw4U48B4wAAggggAACCCCAAAIIIICAFSAYoA4QQAABBBBAAAEEEEAAAQQQ2MACBAMb+ORz6AgggAACCCCAAAIIIIAAAggQDFADCCCAAAIIIIAAAggggAACCGxgAYKBDXzyOXQEEEAAAQQQQAABBBBAAAEECAaoAQQQQAABBBBAAAEEEEAAAQQ2sADBwAY++Rw6AggggAACCCCAAAIIIIAAAgQD1AACCCCAAAIIIIAAAggggAACG1iAYGADn3wOHQEEEEAAAQQQQAABBBBAAAGCAWoAAQQQQAABBBBAAAEEEEAAgQ0sQDCwgU8+h44AAggggAACCCCAAAIIIIAAwQA1gAACCCCAAAIIIIAAAggggMAGFuivYOCxpmfKNJ2DGRBAAAEEEEAAAQQQQAABBBBAoCxAMFCm4A0CCCCAAAIIIIAAAggggAACG0+AYGDjnXOOGAEEEEAAAQQQQAABBBBAAIGyQP8EA3+nO7/BrQTlE8cbBBBAAAEEEEAAAQQQQAABBDohQDDQCUXWgQACCCCAAAIIIIAAAggggECfChAM9OmJY7cRQAABBBBAAAEEEEAAAQQQ6IQAwUAnFFkHAggggAACCCCAAAIIIIAAAn0qYIOBxMMzPb/377zHGAM9f5LYQQQQQAABBBBAAAEEEEAAgf4TIBjov3PGHiOAAAIIIIAAAggggAACCCDQMQGCgY5RsiIEEEAAAQQQQAABBBBAAAEE+k+gn4KBAzyusP8KjD1GAAEEEEAAAQQQQAABBBDobQGCgd4+P+wdAggggAACCCCAAAIIIIAAAusq8FYfDT5Ij4F1LQVWjgACCCCAAAIIIIAAAgggsBEFCAY24lnnmBFAAAEEEEAAAQQQQAABBBDwBfolGCi8+3eixwBliwACCCCAAAIIIIAAAggggECHBQgGOgzK6hBAAAEEEEAAAQQQQAABBBDoJwGCgX46W+wrAggggAACCCCAAAIIIIAAAh0WIBjoMCirQwABBBBAAAEEEEAAAQQQQKCfBLxg4PHzssvF0xlllldUbGNrjDHQBhqLIIAAAggggAACCCCAAAIIINBM4HwGA9kZI2OSyjbbqTqfEwzUQWESAggggAACCCCAAAIIIIAAAnEF3iqcVeLh89NjgGAg7tlieQQQQAABBBBAAAEEEEAAAQQ6LPBW4T2CgQ6bsjoEEEAAAQQQQAABBBBAAAEE+kYgbjBQKhZVbPG1dIRbCfqmMNhRBBBAAAEEEEAAAQQQQACBjSEQLxjIKmlsY38tL8YY2BiVxVEigAACCCCAAAIIIIAAAgj0hUC8YCCvpdmUUi2+JvfQY6AvioKdRAABBBBAAAEEEEAAAQQQ2DgC8YKBtTkx+ODavJgbAQQQQAABBBBAAAEEEEAAgXUXIBhYd2I2gAACCCCAAAIIIIAAAggggEDvCnQ6GPAGIyzVPWB6DNRlYSICCCCAAAIIIIAAAggggAAC3RPoSDBwNqu5g6MaCA9C6GzX6OG0VoqVY8sdG9HI7jnlKpNafld49+904KHHms5vms7BDAgggAACCCCAAAIIIIAAAgggUBaIHQycWVBiqx1UcEDDB6aUmp3UqDEaPTiliWsdmaGksufKm2v7DcFA23QsiAACCCCAAAIIIIAAAggggEBjgXjBQEmZI46MM6H0G8E2vEcYJk9JOpdVcsjIOZJR/ZsLgmWa/yQYaG7EHAgggAACCCCAAAIIIIAAAgisWSBeMJBTaqfRyHP50HZDwYCk/PNjMk6yrdsHQisVwUBYg/cIIIAAAggggAACCCCAAAIIdEggXjDghQBTL4X7A1QHA6WXpmRMUtmY+0swEBOQxRFAAAEEEEAAAQQQQAABBBCoJxAvGMhrfrfR4Gx4OMFwMODfajCeVqHextcwjWBgDVjMigACCCCAAAIIIIAAAggggECrAvGCASl/fFTGDGvyxIo/joAXDEyfzCt7LKEB46i6R0Gre1Y9H8FAtQe/IYAAAggggAACCCCAAAIIINARgbjBgJTXwoEBmZ0pfxwBLxgw7qMLB5Q4HgQG8XaXYCCeH0sjgAACCCCAAAIIIIAAAgggUFfADQYOPV73s7VMLJ4p+j0GilpZzihzakXF8NADa1lZnXkJBuqgMAkBBBBAAAEEEEAAAQQQQACBuAKdCgZK5zqYAtQ5KIKBOihMQgABBBBAAAEEEEAAAQQQQCCuQOxg4NyK5u2tBPvSCh5aWDqd1tSeARkzoNHDS+XpcfaVYCCOHssigAACCCCAAAIIIIAAAggg0EAgbjCQe2rYG3zweE5Fdxs5pXYamaGEpo8mNOIYDR9babD11icTDLRuxZwIIIAAAggggAACCCCAAAIItCwQLxio87jCU0k5xtH0sndrQf65EZnd87F7DRAMtHxKmREBBBBAAAEEEEAAAQQQQACB1gXiBQPeEwjCjyPMPTUoY6aUCYYcWJ6WMUllW9+lunMSDNRlYSICCCCAAAIIIIAAAggggAAC8QTiBQM5JR2jseeD0QW8HgTm4JJ/W4G08gw9BuKdIZZGAAEEEEAAAQQQQAABBBBAYB0F4gUDJWWOODJDSWUKRRVemtagMUos2tEGisodn9SwMRp+Khf7COgxEJuQFSCAAAIIIIAAAggggAACCCBQKxAvGJB0ZkGJrUbG+K+hpHLubQR5pfc52n7PvFbO1W53rVMIBtYqxvwIIIAAAggggAACCCCAAAIItCAQOxiw2ygVlDuZVnoxq7z3aAJvyx+0sAMtzkIw0CIUsyGAAAIIIIAAAggggAACCCCwFoGOBANr2WCb8xIMtAnHYggggAACCCCAAAIIIIAAAgisJrDuwcCpJE8lWO0E8BkCCCCAAAIIIIAAAggggAAC3RSIGwyUXptTYveItjuhcQaC8QZqfg4qeSp4juHajtr2GLjroZmmC5mmczADAggggAACCCCAAAIIIIAAAgiUBeIFAzmldhqZrWOamk0pVe91cFTGjGoy+Oy5bPlRhuWdaOENwUALSMyCAAIIIIAAAggggAACCCCAwFoF4gUDWSWN0dRLq/QC6OCtBPQYWOvZZX4EEEAAAQQQQAABBBBAAAEEmgi8WXhPdx96vMlcjT4uamU5p8JqTx/4oKRicZXgoNGqI9ML757lVoKICb8igAACCCCAAAIIIIAAAgggEFsgXjAQe/Mtr4BgoGUqZkQAAQQQQAABBBBAAAEEEECgdYF+CQbepsdA6yeVORFAAAEEEEAAAQQQQAABBBBoVYBgoFUp5kMAAQQQQAABBBBAAAEEEEDgAhQgGLgATyqHhAACCCCAAAIIIIAAAggggECrAgQDrUoxHwIIIIAAAggggAACCCCAAAIXoECngoHi6xmlT2RVXCejt9/hqQTrRMtqEUAAAQQQQAABBBBAAAEENrJA/GCgpNxTo3KMkTFJZcOYbyxo6gZHxn62dVTJl9qPDQgGwrC8RwABBBBAAAEEEEAAAQQQQKBDAnGDgdKppAaN0fCDaeXOhnaqlFVyp5EZSmh6dloJNyAYVuq10DxreEswsAYsZkUAAQQQQAABBBBAAAEEEECgVYF4wUBJmcNGxplS5lz1FosvTsqYMaXP+NPPZTVtg4LDGZWqZ23pN4KBlpiYCQEEEEAAAQQQQAABBBBAAIG1CcQLBvKa312vse8HBuNpFUK7k50xMjtTyoWmtfqWYKBVKeZDAAEEEEAAAQQQQAABBBBAYA0Cb779nu4+9PgalgjPmlXSjh8wUzWygKScko7RyHP58Mxyg4HoOARVczT+hWCgsQ2fIIAAAggggAACCCCAAAIIINC2wLoEA6/Pa8Q4Sp6q3q3sUXoMVIvwGwIIIIAAAggggAACCCCAAAJdFogXDBS0sN/I7JlXuG9A/viojJnUUvghBOcymnKMnCOMMdDlU87mEUAAAQQQQAABBBBAAAEEEKgIxAsGpOJiQsY4mnjejwbeSGvCBgAPLsnLBYpaWZzjqQQVct4hgAACCCCAAAIIIIAAAggg0DsCcYMBKa+FAwMydqyB4OVMKP1GcIzeeANm66iSL4W7EASft/aTMQZac2IuBBBAAAEEEEAAAQQQQAABBNYkED8YsJsrKn9yXqnZlFLHFrQSaf+XisW2HlEYPhCCgbAG7xFAAAEEEEAAAQQQQAABBBDokEBngoEO7cwqqyEYWAWHjxBAAAEEEEAAAQQQQAABBBBoV6BTwUDx9JLmZ6eU2D2ikfFJTR9LK/N6pOtAuzspiWAgBh6LIoAAAggggAACCCCAAAIIINBI4M2339Xdhx5v9HEL04vKHBmujC8QjDPg/nQ08kQ29m0EdifcYODhmab7Y5rOwQwIIIAAAggggAACCCCAAAIIIFAWiBsMFE6MuU8lGH0io/w5u9qsksYoeUoqLic1bJ9Y8EKhvL123xAMtCvHcggggAACCCCAAAIIIIAAAgisIhAvGMgrvc/IOZwJ9QqoBAN2s7nZQZnd8/IfZrjKnqz+EcHA6j58igACCCCAAAIIIIAAAggggEBbAl4wkGxr2aB3wNRLpdDy1cFA6aUpGZNUNjRHO28JBtpRYxkEEEAAAQQQQAABBBBAAAEEmgjECwZySjpGY8+H+wNUBwP550ZkdqaUa7IfzT4mGGgmxOcIIIAAAggggAACCCCAAAIItCEQLxgoKXPEkRlKKlt+AEEoGDi7pKmdRsNPxY0FGHywjVPLIggggAACCCCAAAIIIIAAAgg0F4gXDEh6I60Jx8g4Sb9XgBcMDAwNa8AYOTcklXUHJWy+L6vNQY+B1XT4DAEENoiA9w+sqXr8i6l+LMyMf+fWqaQ73Y4EG/wpLKeUXGw+Gqw3quyY0meCJeP89Pc52K84q3KXLSg9bmQ6tr7YO7T2FZxJa8w/hyPPhbvcRVZ1KinHna/Nc1HIKDWzoMoZ7/S5iOxv+dcL4ByVj4U3CCCAAAIIbAyB2MGAZSpkNPfUkn/tkdPc7hGNjE8qdSKrwgedcSQY6Iwja0EAgb4W8Bt2eyaVmk3Vf73oNzRrggFv2bETlWZiIwqCgUYyHZoeCgZWG503O+P4oU97wUB2xsiMpwkGOnTaWA0CCCCAAAIXskBHgoHzAEQwcB6Q2QQCCPS6QJxvfAkGeubs+sHA2PiYHDOi+dfr7VlWScfR6J4RGUMwUE+IaQgggAACCCDQOYF1DwZendPI7jkGH+zcKWNNCCCwcQXWEAyEewyEv6FuoWt6bY+BIFRY0cqJKY1utbcvONp+e0rZs5KKOc0d8O4fM1tHNXVipeYZtmZmKbTsgIYPpJSp6bxQ0spiUokbtvtd6I0GhsYi66vXTb2V5STvuJLKns0qFeyvs12jh9Naid7zdm5FCzMJDbvHavcjoeRi+LgkfVBQZrbJPPWKNQgGnk+7I/jWu52gtDwtx0kq/fxY3WCg+Ju0pvb6TvYYDs5558Ldnm8UuuXE6ykS1E9G+ZNJTVzr9Uiwx5Z6uTxSUHmPi79ZUDJwMvacJbVwOvwYIm/W4sspJYYG3N4NA3umtPRGvv9v9ygr8AYBBBBAAIGNIRA7GDib1fzstCbHRzRibyGIvtxrhQENu9MTStf9YqS5NT0GmhsxBwIIXPACQcOuhSfAhoOBUkG55TkljNHI0QVllnMq1LbvynqNgoFBO3jMDQnNLWa0dGJao3aAmfFJTQ4NaGzWrnfBDQhsaDC9HGzA32fHkbN1TKnFjDKLc0oM2cFpJrQQGscg/9yojBnQ2ExaS8t2vnlN7bWNV0eTLwYN19pgoLXlgmBgWMN2f91tLCk9M+YNiHMkUwkzzmWVdPdvRIlj/nHdMyLHOJp4wU8zSjmlbnBkto4peWJJmeXKuoZnspV1lVVDb4Jg4EReudlB1d5O4I3s68xklT9RGwwUFhMaMI5G7pnTgus0p4TdF2dC6TfsdkoqvJrR3D1GZve0O0/ujD0flXMRnMfMyXlN2WXNaFXPhdKppIbtQEF7p5U+6Z8zd75hJU8F51YqvjjphjgD4yl3OwvHEhq5YUITu/t8HIjQ6eItAggggAACG0EgXjCQ1/we+8VR0PBvFgyMaPTIkoKru7X4EgysRYt5EUDgAhVoMxhwNbxl2xtjwN/uzumq0WTd59GayDNrSxlN2QblE8HjaILG6JQy4W/lz2U05RjZxq/3xw5Qs101jepSRtM2gCjPFw0GWl0uCAYi+2uby+69/EkFe5I/bgOK6oaybWxnDg9o+/i8ViS58zhTWor8j1Z6aUpOzbKRciwHAwXptZQGo7cTuMfsyA4cWRPS+B6jz9i9CP/x/kN2QgFHwzEGnMi5eH1eo1XnMafUTm98gqqhET9Y0Zz9T3/PvLzp3nzO/rT/u7c/pZenNWh7K5TPWXg/eY8AAggggAACvSgQLxjwrvcSi5ELo/CBul9aVa63wh+t5T3BwFq0mBcBBC5QAb+RHeoiXvWEgnBDLNxjwNXwlo0VDBwNms4eb7nR6n5LHZDnld4XbhR62x2cDYKCYD4pezT8SJvK9Op3fhBwOPhGPxoMVM9d+S26XKiRXbW/oelu74WCFvZHB+2rrNV75x/jeMrr2WC/tQ9eL0xrxDayVxvkMRwMyGtch28ncG8j2Jly78ErGwc9K16eljHbNXU8tE1/224PAVP5D7dhMBA5j+WeBEH9uGGF0dRLlZ4BgUBxMSETBBmvz7vHWjtfXvP0GAjI+IkAAggggEBfCMQLBvJamp0P3dZY55DPriizvNJWL4Hw2ggGwhq8RwCBDSrgBwONnkoQPJHA6qxHMBA0HH39mkarOz3acG8cSHjLT0a+dS+pWFhR1nbNPzatyeA++vLo+tH1B6XQbLloABAsF52ec+/7X/3bbv88NApoqnpMVLZTflcVDChyO4HtmWAUBClRY+/3yCMqq/ZjQgv+3Q4Ng4HIeawJBtzaaTAoYriuGs5X1NLBcDhUPnLeIIAAAggggECPCrjBwCPJHt27ym4RDFQseIcAAhtWwG+Q1jTs6oCEG3Dux40b6NGlo43Rmoajv0DtfPaDaMO98Xa95aeU8b+Yzr84pRF724Bt6G4d1sjuhKaOpTRlv31eJRhobbloAFA56urjaMW4lXkq6695FwkGqm4ncG/FGFTqNW+p6n1rfAw123BvkQi72Tka7XdkesMGfyRwajifF26sHq7U22OmIYAAAggggEC3BAgGuiXPdhFAAIE1C0QacKst32PBwOBTDW4l8LvM6+yCOzji4OGlyMCIfrf0RsFAy8s1blRXN74b30pQeGFCA0PBlyj+AAAgAElEQVTTypzz92l3cK/9aieizmfRYMC/nWD0eF52jAITmNiYJTL4oPu5qd/NP7qltnsMNL2V4P9v72xj46ryNH+kHRAT0gkvi7eQsyEeW94kpA1u1jP2TCKISSB44l45aaeDQwSJSULipLuNOzDBm2kIpidtuacD4wHSyqbVo3VArU2EWDlCvWOjXUSY3TRGapakZ4cx6glgeqLIH5DGI/HhWZ37UnXrVl27XFV2Vbl+lkpVde+59577O4/t83/uOf+zxU1yyFSCMHK+QwACEIAABEqWQCkZA53fOzYjZzNjCQpAAAIQKFkCpWsMmFDiQn0ypI5YYsi8P/Wh951Q41wedBLjRY4Y8AyQmY9LDbL9K4WD7/TJB70l+DyDwi1Tr953kufhO4n3YqvUm2Z+vn89pRgD3nSChwY1aKcRBEyUcN3kJ2NsT074J7n1q2p1kyPaa2VtDHhGhWWeNvlg46CTgFG6pEG7ekOonL+iASMG4i3OBwhAAAIQgEDRE8AYKPomooIQgAAEfAK5GANepvmH+nQ2y+UKw4FeStDqVDP9VILkpQ77tKXGyDT2JVY5uDqsLjuNwF/S0Fn+r0OrYlWqsmUjRwxkelzmxoDiyxW2qNdZivCsBtqrZEyT+i56RoBfxi6v6CzVOKyh/k5nKkQ4S7/fevH3NMaAO53ATqNITCOw5dMxHj/T4SwRGFvfo1POUoKn1OPXL7CU4Nhf1jurK/SdG1HScoUpU1FSdeUH9zMtV+iXq2rvc5Y1HD4dmA6Scp04AT5AAAIQgAAEIFBkBDAGiqxBqA4EIACBaAKpAVxk2ZSpBJKdi99ig2wTU9/FyCPTBKPpr5suaI3OMXBJYy91qsm5fpVa9p/SWGhFm6nLQ+rxkw3GVql514CG/2FSToAb6/VyEYSNBymz49IH2ZZC2vv48pLOHvPrG9Oq1h4NXU4eHaCkMkaxNc3q7B/RxFfRbJ096YwB/yl9YBpBZN0kTb4zmEjMaNcMbu/R0IchoJ8Mq+cha2j4y0emb8eo3AOTH55V364mVTnJDavUZNvjkxADW5cPE+0WW9OinjPDGmwn+eAMKmA3BCAAAQhAoKgIYAwUVXNQGQhAAAIQgAAEIAABCEAAAhCAwPwSuPL57/R41qsSjGlwY7OaZ/UadJZmnu1d2lUJyDEwW2qUhwAEIAABCEAAAhCAAAQgAAEIzEBgLowBf6RoU8gwcLf36cIMdUq3+zOMgXRY2AYBCEAAAhCAAAQgAAEIQAACEMiNQG7GQPprO4mQTaoBELU9/VmSt2IMJPPgGwQgAAEIQAACEIAABCAAAQhAIC8EMAbygpGTQAACEIAABCAAAQhAAAIQgAAESpOANQb2ZJ1jIP09R40MiNqe/izJWxkxkMyDbxCAAAQgAAEIQAACEIAABCAAgbwQmAtjYOyHMZk5mUrw/Iz3bGYsQQEIQAACEIAABCAAAQhAAAIQgAAE4gTmwhhwl4Tu0nBoRWVnxECsL6tVCdwRAxgD8YbjAwQgAAEIQAACEIAABCAAAQhAIB8E5sIY0AcDqjdGW06PJ6o4OaLeu43M/mGF/IJEmWk+YQxMA4ddEIAABCAAAQhAAAIQgAAEIACBbAnMiTGgcQ3ttNMJjKoam9W8sVmrYkbGNKnv4lRWVcUYyAobB0EAAhCAAAQgAAEIQAACEIAABKYnMDfGgKSvJjTS36mmGmsIGFU91KXBd7IZK+DW/7OJq+r8HlMJpm9N9kIAAhCAAAQgAAEIQAACEIAABGZJYM6MgVnWY6bin038M8bATJDYDwEIQAACEIAABCAAAQhAAAIQmC0BjIHZEguVf/vtt0Nb+AoBCEAAAhCAAAQgAAEIzCeBv/vVh/N5Oa4FgQVHIDdjYEyDG90cAjaPQPRrMKuVCIKwi3LEwGNd/1nf3NkdrCefIQABCEAAAhCAAAQgAIF5JPDf/vuINn5rv/72f/7vebwql4LAwiIwZ8bA+lWKGSOzcot6+ocVWJ8gK4BFZwzs7X5Wa/5wg3Y88UxWN8RBEIAABCAAAQhAAAIQgEDuBOxogfv/06N6oP0JzIHccXKGMiWQmzEwA7Qpd3WCph+OKbu1CBLnLypj4ImeY1r1jXt145KbMQYSbcQnCEAAAhCAAAQgAAEIzDsBxxj45iNackuFHmxn5MC8NwAXXBAErnz2O+15sm/O7mXqfJeM6dOFHK9QNMbA/u8/rzsb1jtLLWAM5NiqHA4BCEAAAhCAAAQgAIEcCfjGgF0KzTEHtu3X/2BaQY5UObzcCMy1MXDp5WaZh04tjKkEBw73qe6P7ndMAfuHxxoDrY98Tz9+5b/yggEaQANoAA2gATSABtAAGiiABp5+/q+cqQS2f+6bA5u2HcAcKLfIlvvNiUA+jYGpyXGNjY5o5L1LmphMTB6YSnzMuq4FHzHQ9dQLurtpY9wU8P/w3H7HfxAvGKABNIAG0AAaQANoAA2ggcJp4Gs3/dukfvqSmyu06dtdmANZh18cWG4E8mEMTH0wqI41saTfRRs3x9b3aOhyHlwBSQU1Bg792V/oG3+yKeUGfXOAd9edhQMc0AAaQANoAA2gATSABopFA9YceAhzoNziW+43SwI5GwMfDKjJjtqp2aKe02c1MjqoTmPU+fJZDe5qkol1aOiTLCsXOKxgxsB3jhzXf1zXgingDc0qlj/01INOBxpAA2gADaABNIAG0MBMGnDMge2MHAjEVXyEQFoCuRkDkxreb2Qa+3ThS//0F9RnjPres9/HNdRuZPYPa9LfneV7QYyB7z7zI/3hvZsxBTAF0AAaQANoAA2gATSABtBAiWrAmgMt2w8yrSDLQIzDyoNAbsbAmPpiRlvOTARgBY0BaeIXHflblaD7+cB10n806TfPfusLP/6p1j64nX8AJfoPYCb3mP08YUADaAANoAE0gAbQQPlowB05cFBXr+X6vHL2cQVHQKAUCORmDLgmQNebwd+vZGNg8s08Llc4n8bA//3NP+qh7Qf17/59DeYA5gAaQANoAA2gATSABtAAGihhDax9oF1Hnn+xFOIz6giBghDIzRiYcKYKxA6PKJFiMGgMTOrsrjxOJZhPY8C2BuZA+bjIPDGgrdEAGkADaAANoAE0sDA1YE2BHxz/64IEW1wUAqVCIDdjQLIjAmImpubuYbkTClxjIJ580DRp4IPcaTg5BubbGLDVxhxYmP8g+MdPu6IBNIAG0AAaQANoYOFrAFMg90CMM5QHgVyNAWlKYy9tUdXGUxp3kLnGgP07G1vTocGLwWkG2TMtmDFgqzydOfBvfu/3xAsGaAANoAE0gAbQABpAA2igsBoIGz2YAtkHXxxZfgRyNwY8Zl8l2E1NTmpyMjG5ILEn+08FNQZstdOZAzcuuVnf3PEdbfr2QV4wQANoAA2gATSABtAAGkADBdDAg9u61NxqM54nRkA4psCPmD6QffjFkeVGIG/GgKSpiUu6MDqikdELujSxwIyBdOaANQZ2PPFMuWmG+4UABCAAAQhAAAIQgEDREPi7X32o+7/5SNwYcE2Bl4umflQEAqVA4MpnX2jPk305VXXy4qA61sTiv4txs65miwbeWQBTCYJ0giMHMAaCZPgMAQhAAAIQgAAEIACB+ScQNAYwBeafP1dcGARyNQamLvapyRhVtfdp6PyYxp1pBOMaOz+kvvYqGVOv3ndyHz1Q8KkEweb2zYHltXcxYiAIhs8QgAAEIAABCEAAAhCYZwK+MYApMM/gudyCIpCbMeAuV2jah7zEg2E0Ezq7Pya7312xILw/8+9FZQzYaltzwOYW2LrrcOZ3QUkIQAACEIAABCAAAQhAIK8ErDGwYcse/eBHTB/IK1hOVlYEcjMG3BUIut6Mni4w9cseGdOnCzlSLTpjwN7P3/6v/6Of/PV/yfHWOBwCEIAABCAAAQhAAAIQyJbArz/6B/3ZsRPZHs5xEICApNyMgXGd2mjU/FN3ocJ0QMd/2iyz66yirYN0R6VuK0pjILWabIEABCAAAQhAAAIQgAAEIAABCJQWgdyMAWniFx2KxTp06sPU0H/yvQG1rO/S8Ce5M8EYyJ0hZ4AABCAAAQhAAAIQgAAEIAABCKQQyM0YGNPgxiZVeUuGVjU2q3mj9/JWKUja5uwb1FhKLWbeYI2Bx7ufn7GgmbEEBSAAAQhAAAIQgAAEIAABCEAAAhCIE8jdGAiYAb4pMO07xkAcPh8gAAEIQAACEIAABCAAAQhAAAKFJpCbMTB/tWfEwPyx5koQgAAEIAABCEAAAhCAAAQgUEYEXGPghaK/Y4yBom8iKggBCEAAAhCAAAQgAAEIQAACpUggN2NgXMP9AxqY8TWscfll7efZ/2AMzJ4ZR0AAAhCAAAQgAAEIQAACEIAABGYk8E+ffaE9T2Y7YuCC+rzEg2ba9z5dkF/Wfp79D8bA7JlxBAQgAAEIQAACEIAABCAAAQhAYEYCuRkDM54+bwU+ZVWCvLHkRBCAAAQgAAEIQAACEIAABCAAgTgBxxjoyXbEQPw0c/4BY2DOEXMBCEAAAhCAAAQgAAEIQAACEChHAnkxBiYvaehwi1bFjOJTCmKr1HJ4SJcm80MVYyA/HDkLBCAAAQhAAAIQgAAEIAABCEAgiUDOxsCVs+qwhkBslToOJxIR9u73jIJYh85eSbpkVl8wBrLCxkEQgAAEIAABCEAAAhCAAAQgAIHpCeRmDExp5EhMprFPF9KNDJi8oL5Go9iREU1NX40Z92IMzIiIAhCAAAQgAAEIQAACEIAABCAAgdkTyM0YGFNfzGjLmYnIC4//zRaZWJ/GIktktgNjIDNOlIIABCAAAQhAAAIQgAAEIAABCMyKQG7GgLsEYdeb6YYLuNWYfLNLxmS3RGHwRjAGgjT4DAEIQAACEIAABCAAAQhAAAIQyBOB3IyBSQ3vNzLtpzT+VboKTejs/phM+5CixxSkOy51G8ZAKhO2QAACEIAABCAAAQhAAAIQgAAEciZgjYG9uSxX+MmQm3ywpkVdR4c1Hq/RJZ1qrZIxTep7L9cMA9K8GwMf/f24eMEADaABNIAG0AAaCGsg3tfJw4fwufmO3tDA3GogD7+28VPQVnPbVvDNjG9ckDl+yNkYsNefGNGgXYWgfShgDExo+EiXBt+JnmYwm6rPuzGw5/s/0tZ9fdp+aIAXDNAAGkADaAANoAFHA1seP6p/mfrX2fRhIsu+/+vLaus4oO/t4wUDNDAfGrC/b2O//k3k7+Rsdti/Ay1df64NP/gJLxgUTAMP7H1GVz77YjbSjSybF2Mg8uySrl7SyOgl5WoPzLsxcLD3hDoHfqVDp6/yggEaQANoAA2gATTgaGDzzu/n1Rh4ev8+XTtazwsGaGAeNPDU/n15NQY27TosI/GCQcE0sKnnhaIyBqYmJ3TpvRGNjKZ5vdwpYzo16Owb00SWswo+/fyf9Xj389NZEM4++7uZlx+MAQwRTCE0gAbQABpAA2ENYAxgYmDklK4GMAYwMRaakVM8xsCUxn7YJGNMxq+WnyayEMwmgMcY4EkNT+vQABpAA2gADRRcAxgDpRsUEtDTdhgDGAMYA9EheG5TCdzlCusPD2t8clKT6V7ne2VMr4bj+7IbMoAxQGew4J3B8FMjvvMkEQ2gATRQfhrAGCC4xGAoXQ1gDGAMYAzMpTFQpYGL0efXxUE1bxzU2DRFMtnlGgN9MxZlKgEGAgYCGkADaAANoIE50wDGQOkGhQT0tB3GAMYAxkB0PJ3biIHo8+Z7D8YAnbw56+TxxK/8nvjR5rQ5GkAD2WoAY4DgEoOhdDWAMYAxgDEQHabnZgyMa7h/QAMzvoY1Lr+s/Tz7H4wBjAGMATSABtAAGkADBdcAxkDpBoUE9LQdxgDGAMZAdCD+T59+ob09L0QXmHaPm2Ng5uSDfbogv6z9PPsfjAE6gwXvDGb7dInjeDKJBtAAGlg4GsAYILjEYChdDWAMYAxgDEQH4rkZA9HnzfeeTz//nR7vJscAwTEGCRpAA2gADaCBAmoAY6B0g0ICetoOYwBjAGMgOkzHGIhgc7D3hDoHfkXnq4CdL56wLZwnbLQlbYkG0MBC0QDGAMElBkPpagBjAGMAYyAi+JWUL2Ng4r0hDR7uVPPGZufVeXhQQ+9NRF94lnsYMUCAjkmDBtAAGkADaKDgGsAYKN2gkICetsMYwBjAGIiOwnM3BsZ1dleV3DwDVWpyjIEmVRnjbKvadTarZIPhGmMM0BkseGdwoTzt4j54cosG0AAayF4DGAMElxgMpasBjAGMAYyBcJid+J6rMTB+ukXGNKnr3LimEqeVNKXxc11qMkZbzuQ+cgBjAGMAYwANoAE0gAbQQME1gDFQukEhAT1thzGAMYAxkBSxJ33JzRgY16mNRvX9Y0nnDH4Z66+X2Xgq51EDjjHwJMkHC94h4ilT9k+ZYAc7NIAG0EDpawBjgOASg6F0NYAxgDGAMRAM1ZM/52YMuEsQdp1PHisQvMLU+S4Zk90ShcHzYAzwlAhTBA2gATSABtBAwTWAMVC6QSEBPW2HMYAxgDEQDLGTP+dmDLgjBppfvpR80sC3Sy83y9w9oOgxBYHC03zEGKAzWPDOIE/6Sv9JH21IG6IBNJCrBjAGCC4xGEpXAxgDGAMYA9ERd27GgHTppSaZWIsGLk6mXGTy4oBaYkZNf5mrLSBhDGAMYAygATSABtAAGii4BjAGSjcoJKCn7TAGMAYwBlJi9viGXI0BTY1pYH3MXYGgsVlb9veqd/8WNTe6KxXEWgc09mX8cll/wBigM1jwzmCuT5k4nieVaAANoIHS1wDGAMElBkPpagBjAGMAYyA6Hs/ZGLCn/mpCF870qXNjs1bF7DKFdtnCTvWduaCJr6KvPZs9GAMYAxgDaAANoAE0gAYKrgGMgdINCgnoaTuMAYwBjIHoEDwvxkD06fO2B2OAzmDBO4M86Sv9J320IW2IBtBArhrAGCC4xGAoXQ1gDGAMYAxEx+e5GgNTk5OanPEVvWpBdM2S92AMYAxgDKABNIAG0AAaKLgGMAZKNygkoKftMAYwBjAGkoPs4LfcjAF3uUJj7PSB6V4sV1jwjkyuT0g4nqdsaAANoAE0gAauCmOA4BKDoXQ1gDGAMYAxELQCkj/nZgxM6tLoiEbSvc4Pqa+9SqsePqWxq/kZMbDnyb7kyqf5Zts6Lz8He0+oc+BXBPQ8nUIDaAANoAE0gAbiGsAYKN2gkICetsMYwBjAGIgOlXMzBqLP6+6Z1PD+WN6WK8QYoGMW75jx1Ionl2gADaABNFAIDWAMEFxiMJSuBjAGMAYwBqID+Lk1BqTJN7tk7h7QWHQVMtpjcwxgDGAMYAwUSAOdTz2nxoMf5ZH/eTXa+Udt52d5zmyPK6YA6mPt2HdA9/55mjqdPKd6s1kP/tjdd+DZ41pdvdydq7W0W+2n0hyTThO9z8gEzhMZPGVaLt012DZL7WbYdnAteq4YAzkGhbtvlzE36eR3vfM43416d89w3vBxR2coH9zfXaNj91XpcnxbrXrt/6D7alW6QX6d3murUP/jaTgcqVFXgPHne5bpkcrr3f8li2N6qzfNMXE2gX2ZMs+0XLprzPM2jIGQMXBlaIb54P5c8T7lNaAeHZA5N5HZOS8OyexqlnGWvjMyNU0y+wdlJkL3oll8nxiROXY2s+vP5rwFKLup5wVd+eyLjALqmQrNtTEw/jdbZEx+cgxgDNBhLPoOY2QAVtJt5wbj1fswBvLSvj9+VdXGqLE3NVA88FS3Ft15Qo86enlfD37DyFR36v7uc2p76l3tzVRHmQb8mZbL9LqU429UGWgAYyAQOGYT1IWDSOf73BoDb91nZFavWFjGwHdXaLNJz+3znTFV/MFyjTntc6dOrjQylbfpxYdr9MbOVRrPtN3CbRV1XKbloo6fx+0YA6HgefKCTP9A4NXlGgUPdQW22f3DeQyiL7jXOJOBMXCmwy27pkXmqFfP/S2uSRBrlnlvKrt6HTMy7UPZHVuA4H86Uya/xsCE9va8MJN/ELk/elWCCV0636cWa+7sH9Zk5Bky28GIgTLobOUl6ILTHAQmc2EMpAbFZdP+0xgD7W0Vum37qNeGOYyOyDTgz7Qcv1dz8HtVxr8DJa4njIE8GwOZBoU5BJ+pxkCO95Bpneey3DTGwFv3Xae6B1Z6oyFyGB2RKfNMy80ljwzPjTEQMgZSglwvaD92YQ6D5gyNgakR1wDYmSaAnxyRudvIPHQqu3piDKSNwH/7aS7GQAarEtR06uwnaS89q40YAyXekSqboG+htZMXxCaWHfGGufsB5ZGfaXVlhczSWlXvftcNnl46r3vXb1aswht+trRWy9Y+p/aXgoFQOOj1zYd3nWH2K+w5jdGS6h1ae+TjQFAWPu4jPdjgTknYe+S5+LD7RZUbVL/vXR0ItcfeI8dV93V3aP6iyq3OudvbjEzDq+oMlU3W7KdOvar9Yf0VDare9Kp2DAbv6aoOnfpIbdt2xO/d1r/xYKAeDjd/WJ59f0bt8euOau3yCnckQUo5o/iIDXuNjk75jOy91nWcTx5N4LePNyXBuZdX3tWDmzbolqXGaa/ajlEdSFfupfNau3adW85U6JaVO7T2qXyOFgkxi98/25M1B49i5VF2xsCeStUZo64dd6UMu7cBqIlV6m0/KOupVf89N6nhFu/v3OIbtO7uSr3VEwjEw0Gk8z305PvpVTrZtES1i43M4hv0rU0r9Xn4OOeadXpr023a7A+TN9epdsWtOvZYnVfXNTq5Ovg312hz2xpdO5o+WL68c5k6a29QhZ1msPgGbbxnWXLdj3rnu69W449VxofnV1QsUVfbKn3uc4h6d+4rweeOypuc41Ke4Peu0Rsbbo1zvKPyVvW2B87vMUv8b75db8WvuVLHYte5UzNSyvn3X69r9hqbbtPGiuuc/7f2Hjo31SaPJkjHPOO2CbR5vG6F34YxkIMx8NWETH+nTI33O9XYKXPuUmpg/s6AzPpV7pP+2CqZXQOJYf8pUxe2yFyJqJNfNmpkwU/t9IJOmauh4z8ckmkNXN9OO4iXmZBpT/6bYKLOn2KahK5TJPvzOWIgN2NgmlUJRkd04fKEpr6aVfwfWfgKOQboJBZrJ3FB1+vkR9r+1HGtNkbLWn+mtqdG1Xnyqg45AWWFFi1tUN3u19R28IRaX7iqQ6+cU/1So0Urd+jeg3b4+2t60AbKtpNV/Zy2x4PAcIDvfr+tukFL/GMPHtfqldYg2KD7j/v6Dx/nGQPVDYpVbFbjvtfU1v2qGhts8F+hhqc+jZsKNgi29VjS8Iwe7D6nlo4dWra0QbHqmY2Bzn2bZUyDVm97Va1PnVPrvm6tsAH21/1h/1d16OSo1tr6+vWw9962WUuMUaztvGtSvPSu2vZ3a5kxWr0zND3g+AktMwfUZvnach53c+9xtT11Ttt/bO/lfT34x5ZJg1Z32PZIXGPRH7/qTUHw2yeRq+DQ6VGttfe5dJ3qbXs5jGpV+8f2vgLlTp5X43KjRXcf0P1O+/1M965tSGG5oDUf16ivOd5p72QNlJ0xcPROvfgHRqapJhT41qp3sUk8mX66Rl2LjSpW3Kr+djtkvVonbXBr//5XBsyDcLDpBa+JHAMrdazSBuZfU1drtd54eIV6V9+gb9XdlJyb4OhdeqPpOqfcI5uq9MbOGr3eZoN12+m/Ucf22CD0Ll1+vEb9dlrWH8T08501evu71uBINQbG2m52DIGGu5c55V5vu12brcGx+GadPOQHtJ4xUHmjGm65Sb1tfv3s/P3r9OTOVPMkkcPAP/ZWHbPHWT5/ssS55sbWOxOmy5GVOrbiOhn//LbcfTfpDmPUcF+t2wY9q/TG1pjWGaNHWkLTA7qWa52p0BtH6nXNltu5TI/YNvjGMoeRe/936mSdNQRulMsucY2KuhXeFIR6XQu31dFM28bnVXzvGAMzBbcRIwamxmTWx2RqtsicGZYZHZY5ZueLG5ng6IL3+mRMTKb7lMzoiMy5QZlGIxPrlZmSzNSEzOige9zRszKjY+72tEH2mDsqYOcpmcmZ6u3tP9fpXn/PYOL6tt6xDplPbJkpmYsjMnuMzMZet8yVLKcjpK1zhvXM47HFYwxExvF534ExQGc1HuDRSU3upM49DzcYjz+xtlr0nmgv2+mNEvD0ufc7B5wA3U+e59ft0d0bkgPQ0+EA3/u+vFvtrwTuzxuxkLh2+DjPGLDBbX/gOHt+G7jHkxvap/FGScHz6avOE3PHtJh2xIB3jdbkRIkHuju1qHJH/LrOPS49oNbQKIIDPQe0KGhuREwlcMyH9a8FnvyH7/Wq9h7cIWO+roYjCcPDMt7bba8RMEJCIwHc4xrU2Bs87n13tEXQGPCPS2L5ru69c7li25Lv329b3oO643M56KH8jIF6jbUucQxCJ9j0n/7uvl0V5mt6scsN/sa/XeEEy/Gkgl4599hwssHw98SIgfH2W52AtXd3MMi+03vyHziup1pdldd7IwACAWjXcm00gSfjR+uVOpUgZAz0VDnBc906L/D27/FwtWt2/IlvivgjEG4KmAX22q5JMm0yQ2/o/5OPBep69C693nCdau9OBOMOr8UVev1wsFy9Pt9RoQqzJM77WsRUgsttN8ncUx148h+616P1chn/vp58LMi4XuMP22sEDI6QMZBx2/j8ivAdY2CmwDXCGDht5/X3pAbov+yRMS0y/+Cd1w7RbwsN/b886CYMfM+/doZTCWzw/MGAl3QwJtPaJXP6rMwH4zJf+ecKvPtTD14Oj2IYl3nIyBwZSYxuYCpB2mA9txEDaU85JxsxBjAGMAYKpgE3QE0E5wljIF0CvbSBgRNwrpvmyb8XBIeC70NRBkI84PeC9m8EnpY7nLztfsD/7HO6zRjV9wQDYxvEeQn+/HJpGX+qtj+10yU2qLH7Xe21T/RTyvnnec4ZUWCf8PNjv3kAABI1SURBVMdf3giBOL+0xsDHal0fmC7gnD9sDLhlTDw5YbAervFhNp1zRyb4Ab4zleBTtW0ySnecNS2SRgwcP6EVdoTDhhNq7w+zCl6Pz6kagEm5MClHY+CaF2wHpxM40whq/AR3yUFs4im5/9Q5YSCkPIVOGjFgRwHYp/up57WBcdJqBpFBpxsIr/vTxFP4mYyB8W/fJhMwOYL1f3vD7wdMEc8YWJkI5N2y3vakBIchJkdq9KQdUVF7u17fXxcafeGX9RIFrq7U6zvtSIDAyxsh4E6FqFd6Y6BOr9+TbIqkjo5wy6RjfM2OCLDJwfzRIUnGQD7axr/Pwr1jDAQC6bRPrdMZA+Mydtpl+4D7hN2OBPBfv+h1n/77w/GtgWCaZE5fkPky6lqzMAZsHe0ogzMDMu1N7rXsKAVTJXN4KNmoeMfWZZXM6UD9/HraEQImsLICxkDagB1jIC0W6WDvCXUO/CpNAEDnr1w6f9ynr/UsjIFXPtajz55zphis3ZSYc58wEsJBb/h78rUTT/7D5UIGQDxgD20/0u0GwElPwt1rZJRjoP811TvTGuw/FnfefeO+c3o0PjrAq5fzz8qWSX0t2uolFUxnDAy+prrgk/u0xoB3T37wH79Xex+h+00yBqY5zjFMAlMJTn+q7R3u9AfnHmwuhfXH1fIsOQb4e+D/TvJelsaAP7feDxi9J+RJQ+D9QP3pOo3tqdEb7ct1rCkxTz4+VSAp2PSNA3/EgBdgx68TCCCdXAeBEQP+9Xrv0vihlXpjZ5Ve3FARn/cffHo/kzHgPGX3h9/75/Xe3X3+daMMgKjtgfofrdfYtyu0zuZNsP8jnPwLt+vkzjtTn+6n+R/i/1+paPaSCqYbMXC4Wp2BZQpd0yI8YmAaxn47+wZHUltNc1xU24RYBg2XQn3GGIgK1v3t6YwBb9s0ujQ/HHOfxn85JtNelegHNW6ReelsIseAY0bM0hhIMjCmZD4Zk3mp0x1J0NiXMCDOeFMbIuvZkagHxkDaCBhjIC0WjAE6wXR+Expwg974E28bkDqBZ5ol914Z1b3O/H4/gF6n6vXdur/NDoEPlg8H+OHvPv/w9vD3UEAcD5aTt8efjGdrDHjn3fvCOT24rVPxJIRLt3pTCcL18uuf5j2NMeDUL2UkQPic0wT42RoDTl6DoDHg1dfmljh4QvXxJISBPAlxxmnujX2YyWWggfI0Brzh54tj7tx1ZxpBYFi7DQCfXqn+1Xauvf37b5MAfk2b74npxfvs1AA/8PeNAD/Q9r/7+6cJPp2584Hjjt6ltze5c+/t+SsqvqZ1q2/Tk623u3Pq76uNz9svFmPACYZ76/TezhU6FkjSmJjXHw7ik42FpGA6jTHgjKpIGW0RPuc0jLM1BlLaZpp6F9gswBjwDYCo92mMgWAugaRgPc25rozJnO5JJCG0owjiSwvmYgwErnXR5jMwMr/wlj10jIFpkhkG64wxkDYCxhhIiwVjIBEU0vmHhRugZmIMbN/2defJ/L3PBlcSuCo3MC+cMXAocipBsoEwm7Y+cPyEqo3xlhd8X/ffmX64fso50xgDycsU+r9zYWMgg6kE/lSMpBEDs5hKkC6oO/Wx2lptu3am5E9Iubd0x7MNs2CBaaBcjYFrzjx8d/65M43Af6rsBXrukPub1L/HXxHADQ7dKQB+4O8bAYEAP9upBN5qCZtbVmq8NxCIHqlRlw0WZmEMzDyVIOZl/feC6tC9XwsH1BkHv3dprNUmVfx9L1mil+gxJbgP3J9/7jTGQPIyhf4xYWMgg6kE6zxTJWnEAFMJwiHDv0z9qzbtOpyYtx4MPEv2czpjYFxmo03Wl+XSgFe9pQX3D3usMjQG+u3Ig57o5IRXz7rGgD+Nwcl3YGR+mUEyQYyBsJyd7xgDabFgDNDh94Mz3v15/jMbA16QnTLf/2O1bnKXHyzYVAKblT9N8sFD3pz6aZcrPHVea1fWKrbNmwrgBzmv2OH/vjFwVW6CxdTEgAeOdOu2pbVq8PMbpBgDgWUK/XM772FjYObkg3XdniGTZAzY5ISdWpSStNBf4SAxYuDRfXbaxw61JC0teVU7dq7DGEhqG/4ulPP/iLI1Bo66AWXFutudufKPtAcNAC9gTpl7X6fX7coBGY8YsAnwblOFCSfG87PoJwyF+BD/+IoBbiDsJtCbnTHgmh5GkckHG/xkfjkYA7srta7CXy3BD9rr9fnDNr+Bbwz4iR7D91+vzx+LqW7xDXrSXzYyxRgILFPomwfOe9gYmDn5YOfDXtsmGQOZt03SyIakuiTuu1BlGDEQeOKe1rxIZwxIxskdUC/zTijotvP67ZKETjA+LrOnSWbX2ZBZcsk1FmZrDIx6+QuODKdJNjgl87KdOlAv84F3T37ywfZQ8kONu0sUtgaMDYyBtBEwxkBaLBgD5dzp497DQY+X2O7rz6glabnC4AgA95jt292l7ZY9cMJNwnfwuOq+vlyLKpZrUQGnEtg2PfBUt7N0oL9cYevuA1q21C65ONNyhZ9q+1Z7X8tVvemEWmxiQTvM/m6bkHCrWpwEf3apxvNqtEsC2nLbvKUEt9klEUOrITj5BIxuW28Zvau9wWUKk4LPVGMg++UKPRNg6TpvmcOfaW18ykfCGDj045+p1ltucq1d+jGw3GRs66ib2DCpjmGt8J2/HwtfA+VrDNTLfbJu/87dqp/3JAd5bz9wozOFYN0fLXcT57UvU2fN9aq45XpnSb7McgzYc3omwOKveUvpVelYfIpCwhi4tqfSWQqxYkWFXnzYJumrUv89S3TH4ut1h53HHxgx8PYDNoHgEvW252m5wmxGDBxZqV67lOItN6mr1V1e8eetFdpoExLWVemyH0A/XeuWM9dr8wZbzl320eYmSEw5qNc1J5+AUd09lvcqjQeXKfTPFWEMxBnPernCDNsm6frJOimUIeBfF2MgS2PgywvusoM26V+/XWZwWKbfm+e/MxCI/6LDWy5wQOb8iMz5IZldNmlgk8xF31TwliF8qG+G5QqnZI55CQet+bC/V6Z/QOZol8yamDtaIDy94Yy9vpFZ3+Ne/9wpL+dBcCqDZP6y3l1N4dyIDMsVxqNhjIE4iuQPJB9c+J07OvCZt/Gj3zmgFRVu3oDGP58mx8Dpj9W+LZFscEn1ZtXvPq/On7hP11fsft8bVh0OesPf/bqFt4e/R00FSL9975HntLp6ufNPY1HlVq09Muou2TftqgS2Lh9r++5AbgGzXLG1z6ntJ349vfdX3lVLW+L+F1Wu0+pt59R5KljOJvjbqlusIWG26v6dm2WSlin0y4bv1dt+6iO1dXRqRaU7CmNR5QbV7x4NLHPot08g4LfBvD0u3jZu/dv3e0kZfXPDlut/TY2B3ALO+fe9m3x+zAGmB5SxBsrZGLjmD9NPWg7PD/zq9NaGRLLBOyptAFyry902IZ5RPFFh6Cm0u0pBYKqBDSp71+iN+LmuV8PdlXprqw0EAsaAXXbvscpEssFbbtTmpuV6q3uNk5nfBFdMOFStrho3/4GbvC/1KboNHC/vXKbO2hscI8MmB9zYtFxvJxkgOYwYsPd1eKVeDOQWMLfcqEc21OhycCqELff0Kv38vgRLmz8htZzNsXCzap1khjfrpZbwMoV+u6S/V4fxptu0scId0VFRsURdrSsDiRDTTPuYRdv4gXixvWMMZGkM2NEFX16SOdYpU2P7L0ZmTbNM/0jq0/zzfYHcAnaZwR6ZDyeTRxG82eOdJyZzcYY6jZ6S2dWcuK41J9q7ZEa93ALhkQ/vDMq0rnLr6JRNc/1PhmUe8pIk+okTw+cpke+bel7Qlc++SA5ks/yGMRABDmPAD054x0BYyBrwlhn05+aXcbCDzheyzrm3fOq7rI0BGxjygkEJawBjYIYgvESCYUM940ZL3o2B778QER0Xz+Yrn/9Oe57sm7FCVid5+cEYoCOZz44k5yqwnuzw/YoG1R0MLbvX/6qTQDApfwLmAE/D0QAamEYDGAOYA5gjpasBjAGMgYVmKmAMRIf+GAPTdGYITgscnNI2BQw2bEZ/mxPAn2N/Tq37nlG1nR5R/YzaX0Eb/H1AA2ggMw1gDJRuUEhAT9thDGAMYAxEB9J2KsG+7/8wukCR7GHEAEFlAYPKzDqLdKqLnJM3x36ZNzffVDRoddvPtGOwyOvN7z6/+2igqDSAMUBwicFQuhrAGMAYwBiIju4xBiLYMJWAYIlAHw2gATSABtBAWAMYA6UbFBLQ03YYAxgDGAMRwa8kjIEINhgDdAbDnUG+owk0gAbQABrAGCC4xGAoXQ1gDGAMYAxEBL+lZAx8RvLBohpKSeeYzjEaQANoAA2UowYwBko3KCSgp+0wBjAGMAYwBqIJROxhxAAd3nLs8HLP6B4NoAE0ML0GMAYILjEYSlcDGAMYAxgDEcEvIwaiwWAMTN8xouMIHzSABtAAGihHDWAMlG5QSEBP22EMYAxgDETHvyWTY4CpBHRAy7EDyj2jezSABtBAcWkAY4DgEoOhdDWAMYAxgDGAMRBNIGIPIwaKqyNGx5j2QANoAA2ggWLQAMZA6QaFBPS0HcYAxgDGQETwy1SCaDAYA3RAi6EDSh3QIRpAA2iguDSAMUBwicFQuhrAGMAYwBiIjn9/e2VC+77/w+gCRbLnClMJiqtjREeV9kADaAANoIFy1ADGQOkGhQT0tB3GAMYAxkB0dI8xEMGGEQN0eMuxw8s9o3s0gAbQwPQawBgguMRgKF0NYAxgDGAMRAS/dipBSY0YeCH6Rrw9tq3z8oMxMH3HiI4jfNAAGkADaKAcNYAxULpBIQE9bYcxgDGAMRAdKmMMRLDBGKDDW44dXu4Z3aMBNIAGptcAxgDBJQZD6WoAYwBjAGMgIvhlxEA0GIyB6TtGdBzhgwbQABpAA+WoAYyB0g0KCehpO4wBjAGMgej4lxEDEWwwBujwlmOHl3tG92gADaCB6TWAMUBwicFQuhrAGMAYwBiICH5LbcRADzkGRIdt+g4bfOCDBtAAGkADc6kBjIHSDQoJ6Gk7jAGMAYyBhWAMfKE9GAN09uays8e50RcaQANoAA3MpAGMAYJLDIbS1QDGAMYAxgDGQDSBiD1MJaBzOFPnkP1oBA2gATRQfhrAGCjdoJCAnrbDGMAYwBiICH5LaioBIwaYRnC6/DqgBB20ORpAA2iguDSAMUBwicFQuhrAGMAYwBjAGIgmELGHEQPF1RGjY0x7oAE0gAbQQDFoAGOgdINCAnraDmMAYwBjICL4LbERA3vJMUCnsBg6hdQBHaIBNIAGylcDGAMElxgMpasBjAGMAYwBjIFoAhF7nnh6QFv2PKdvdx3nBQM0gAbQABpAA2jA0cC39vxA/zL1rxG9h9ltfv/Xl7Wl44C69nbxggEamAcN2N+3sV//Zna/qBGl7d+BPz30rB54ZoAXDAqngSd6deWzLyJUOrvNv70yoYf3PaPv9g4U9euJw3+hrqd/NOPNWRMoLz//7x//SbxggAbQABpAA2gADYQ1kJeOhneS8Ln5jt7QwNxqgN/fueWLfuefbz41/ff/+FuVymum+86bMTDThdgPAQhAAAIQgAAEIAABCEAAAhCAQPERwBgovjahRhCAAAQgAAEIQAACEIAABCAAgXkjgDEwb6i5EAQgAAEIQAACEIAABCAAAQhAoPgIYAwUX5tQIwhAAAIQgAAEIAABCEAAAhCAwLwRwBiYN9RcCAIQgAAEIAABCEAAAhCAAAQgUHwEMAaKr02oEQQgAAEIQAACEIAABCAAAQhAYN4IYAzMG2ouBAEIQAACEIAABCAAAQhAAAIQKD4CGAPF1ybUCAIQgAAEIAABCEAAAhCAAAQgMG8EMAbmDTUXggAEIAABCEAAAhCAAAQgAAEIFB8BjIHiaxNqBAEIQAACEIAABCAAAQhAAAIQmDcCGAPzhpoLQQACEIAABCAAAQhAAAIQgAAEio8AxkDxtQk1ggAEIAABCEAAAhCAAAQgAAEIzBsBjIF5Q82FIAABCEAAAhCAAAQgAAEIQAACxUcAY6D42oQaQQACEIAABCAAAQhAAAIQgAAE5o0AxsC8oeZCEIAABCAAAQhAAAIQgAAEIACB4iOAMVB8bUKNIAABCEAAAhCAAAQgAAEIQAAC80YAY2DeUHMhCEAAAhCAAAQgAAEIQAACEIBA8RHAGCi+NqFGEIAABCAAAQhAAAIQgAAEIACBeSPw/wG999KhEzs3+wAAAABJRU5ErkJggg==)"
   ]
  },
  {
   "cell_type": "code",
   "execution_count": null,
   "metadata": {
    "id": "TCr4_Pez0PeP"
   },
   "outputs": [],
   "source": [
    "# make the algorithm chains\n",
    "smote = SMOTE()\n",
    "model =  LogisticRegression()\n",
    "estimator = Pipeline([('balancing',smote),('clf',model)])\n",
    "\n",
    "# hyperparameter space\n",
    "hyperparam_space = {\n",
    "    'balancing__k_neighbors':[2,5,10,15,20],\n",
    "    'clf__C':[100, 10, 1, 0.1, 0.01, 0.001],\n",
    "    'clf__solver':['liblinear','newton-cg']\n",
    "}\n",
    "\n",
    "# stratified cross vaidation\n",
    "skf = StratifiedKFold(n_splits = 5)\n",
    "\n",
    "# hyperparameter tuning\n",
    "grid_search = GridSearchCV(\n",
    "    estimator, # model to tune\n",
    "    param_grid = hyperparam_space, # hyperparameter space\n",
    "    cv = skf, # evaluation method\n",
    "    scoring = 'f1', # metrics\n",
    "    n_jobs = -1 # use all cores\n",
    ")"
   ]
  },
  {
   "cell_type": "code",
   "execution_count": null,
   "metadata": {
    "colab": {
     "base_uri": "https://localhost:8080/",
     "height": 459
    },
    "executionInfo": {
     "elapsed": 15828,
     "status": "ok",
     "timestamp": 1602646501207,
     "user": {
      "displayName": "Fathi Muhyi",
      "photoUrl": "https://lh3.googleusercontent.com/a-/AOh14GhChUnD9lp0uYHDjzFDqClMEcljUKZtuV7ArMBsmA=s64",
      "userId": "15936908794749616962"
     },
     "user_tz": -420
    },
    "id": "97_Wjtra1LEz",
    "outputId": "6f2a1ebb-d770-41e5-a7bd-930e72b10514"
   },
   "outputs": [
    {
     "data": {
      "text/plain": [
       "GridSearchCV(cv=StratifiedKFold(n_splits=5, random_state=None, shuffle=False),\n",
       "             error_score=nan,\n",
       "             estimator=Pipeline(memory=None,\n",
       "                                steps=[('balancing',\n",
       "                                        SMOTE(k_neighbors=5, kind='deprecated',\n",
       "                                              m_neighbors='deprecated',\n",
       "                                              n_jobs=1, out_step='deprecated',\n",
       "                                              random_state=None, ratio=None,\n",
       "                                              sampling_strategy='auto',\n",
       "                                              svm_estimator='deprecated')),\n",
       "                                       ('clf',\n",
       "                                        LogisticRegression(C=1....\n",
       "                                                           n_jobs=None,\n",
       "                                                           penalty='l2',\n",
       "                                                           random_state=None,\n",
       "                                                           solver='lbfgs',\n",
       "                                                           tol=0.0001,\n",
       "                                                           verbose=0,\n",
       "                                                           warm_start=False))],\n",
       "                                verbose=False),\n",
       "             iid='deprecated', n_jobs=-1,\n",
       "             param_grid={'balancing__k_neighbors': [2, 5, 10, 15, 20],\n",
       "                         'clf__C': [100, 10, 1, 0.1, 0.01, 0.001],\n",
       "                         'clf__solver': ['liblinear', 'newton-cg']},\n",
       "             pre_dispatch='2*n_jobs', refit=True, return_train_score=False,\n",
       "             scoring='f1', verbose=0)"
      ]
     },
     "execution_count": 47,
     "metadata": {
      "tags": []
     },
     "output_type": "execute_result"
    }
   ],
   "source": [
    "grid_search.fit(X_train_val, y_train_val)"
   ]
  },
  {
   "cell_type": "code",
   "execution_count": null,
   "metadata": {
    "colab": {
     "base_uri": "https://localhost:8080/",
     "height": 51
    },
    "executionInfo": {
     "elapsed": 15823,
     "status": "ok",
     "timestamp": 1602646501208,
     "user": {
      "displayName": "Fathi Muhyi",
      "photoUrl": "https://lh3.googleusercontent.com/a-/AOh14GhChUnD9lp0uYHDjzFDqClMEcljUKZtuV7ArMBsmA=s64",
      "userId": "15936908794749616962"
     },
     "user_tz": -420
    },
    "id": "V-dXLwBG1qPx",
    "outputId": "14a6ec27-3051-422c-9a70-d747792c32de"
   },
   "outputs": [
    {
     "name": "stdout",
     "output_type": "stream",
     "text": [
      "best score 0.6239840331135088\n",
      "best param {'balancing__k_neighbors': 15, 'clf__C': 10, 'clf__solver': 'liblinear'}\n"
     ]
    }
   ],
   "source": [
    "print('best score',grid_search.best_score_)\n",
    "print('best param',grid_search.best_params_)"
   ]
  },
  {
   "cell_type": "code",
   "execution_count": null,
   "metadata": {
    "colab": {
     "base_uri": "https://localhost:8080/",
     "height": 1000
    },
    "executionInfo": {
     "elapsed": 15817,
     "status": "ok",
     "timestamp": 1602646501209,
     "user": {
      "displayName": "Fathi Muhyi",
      "photoUrl": "https://lh3.googleusercontent.com/a-/AOh14GhChUnD9lp0uYHDjzFDqClMEcljUKZtuV7ArMBsmA=s64",
      "userId": "15936908794749616962"
     },
     "user_tz": -420
    },
    "id": "ipO5UWb61rMG",
    "outputId": "2bf25588-29d5-4bee-a8ca-c05f56f19e51"
   },
   "outputs": [
    {
     "data": {
      "text/html": [
       "<div>\n",
       "<style scoped>\n",
       "    .dataframe tbody tr th:only-of-type {\n",
       "        vertical-align: middle;\n",
       "    }\n",
       "\n",
       "    .dataframe tbody tr th {\n",
       "        vertical-align: top;\n",
       "    }\n",
       "\n",
       "    .dataframe thead th {\n",
       "        text-align: right;\n",
       "    }\n",
       "</style>\n",
       "<table border=\"1\" class=\"dataframe\">\n",
       "  <thead>\n",
       "    <tr style=\"text-align: right;\">\n",
       "      <th></th>\n",
       "      <th>mean_fit_time</th>\n",
       "      <th>std_fit_time</th>\n",
       "      <th>mean_score_time</th>\n",
       "      <th>std_score_time</th>\n",
       "      <th>param_balancing__k_neighbors</th>\n",
       "      <th>param_clf__C</th>\n",
       "      <th>param_clf__solver</th>\n",
       "      <th>params</th>\n",
       "      <th>split0_test_score</th>\n",
       "      <th>split1_test_score</th>\n",
       "      <th>split2_test_score</th>\n",
       "      <th>split3_test_score</th>\n",
       "      <th>split4_test_score</th>\n",
       "      <th>mean_test_score</th>\n",
       "      <th>std_test_score</th>\n",
       "      <th>rank_test_score</th>\n",
       "    </tr>\n",
       "  </thead>\n",
       "  <tbody>\n",
       "    <tr>\n",
       "      <th>0</th>\n",
       "      <td>0.010482</td>\n",
       "      <td>0.002105</td>\n",
       "      <td>0.003184</td>\n",
       "      <td>0.000215</td>\n",
       "      <td>2</td>\n",
       "      <td>100</td>\n",
       "      <td>liblinear</td>\n",
       "      <td>{'balancing__k_neighbors': 2, 'clf__C': 100, '...</td>\n",
       "      <td>0.543210</td>\n",
       "      <td>0.586667</td>\n",
       "      <td>0.636364</td>\n",
       "      <td>0.750000</td>\n",
       "      <td>0.521739</td>\n",
       "      <td>0.607596</td>\n",
       "      <td>0.081316</td>\n",
       "      <td>35</td>\n",
       "    </tr>\n",
       "    <tr>\n",
       "      <th>1</th>\n",
       "      <td>0.020969</td>\n",
       "      <td>0.001586</td>\n",
       "      <td>0.003070</td>\n",
       "      <td>0.000177</td>\n",
       "      <td>2</td>\n",
       "      <td>100</td>\n",
       "      <td>newton-cg</td>\n",
       "      <td>{'balancing__k_neighbors': 2, 'clf__C': 100, '...</td>\n",
       "      <td>0.567901</td>\n",
       "      <td>0.594595</td>\n",
       "      <td>0.608696</td>\n",
       "      <td>0.757576</td>\n",
       "      <td>0.555556</td>\n",
       "      <td>0.616865</td>\n",
       "      <td>0.072827</td>\n",
       "      <td>12</td>\n",
       "    </tr>\n",
       "    <tr>\n",
       "      <th>2</th>\n",
       "      <td>0.009244</td>\n",
       "      <td>0.000321</td>\n",
       "      <td>0.002971</td>\n",
       "      <td>0.000057</td>\n",
       "      <td>2</td>\n",
       "      <td>10</td>\n",
       "      <td>liblinear</td>\n",
       "      <td>{'balancing__k_neighbors': 2, 'clf__C': 10, 'c...</td>\n",
       "      <td>0.536585</td>\n",
       "      <td>0.600000</td>\n",
       "      <td>0.600000</td>\n",
       "      <td>0.738462</td>\n",
       "      <td>0.555556</td>\n",
       "      <td>0.606120</td>\n",
       "      <td>0.070684</td>\n",
       "      <td>38</td>\n",
       "    </tr>\n",
       "    <tr>\n",
       "      <th>3</th>\n",
       "      <td>0.023272</td>\n",
       "      <td>0.002926</td>\n",
       "      <td>0.003216</td>\n",
       "      <td>0.000157</td>\n",
       "      <td>2</td>\n",
       "      <td>10</td>\n",
       "      <td>newton-cg</td>\n",
       "      <td>{'balancing__k_neighbors': 2, 'clf__C': 10, 'c...</td>\n",
       "      <td>0.560976</td>\n",
       "      <td>0.608696</td>\n",
       "      <td>0.617647</td>\n",
       "      <td>0.769231</td>\n",
       "      <td>0.521739</td>\n",
       "      <td>0.615658</td>\n",
       "      <td>0.084200</td>\n",
       "      <td>18</td>\n",
       "    </tr>\n",
       "    <tr>\n",
       "      <th>4</th>\n",
       "      <td>0.016169</td>\n",
       "      <td>0.005657</td>\n",
       "      <td>0.003803</td>\n",
       "      <td>0.001260</td>\n",
       "      <td>2</td>\n",
       "      <td>1</td>\n",
       "      <td>liblinear</td>\n",
       "      <td>{'balancing__k_neighbors': 2, 'clf__C': 1, 'cl...</td>\n",
       "      <td>0.554217</td>\n",
       "      <td>0.600000</td>\n",
       "      <td>0.626866</td>\n",
       "      <td>0.757576</td>\n",
       "      <td>0.542857</td>\n",
       "      <td>0.616303</td>\n",
       "      <td>0.076921</td>\n",
       "      <td>14</td>\n",
       "    </tr>\n",
       "    <tr>\n",
       "      <th>5</th>\n",
       "      <td>0.025869</td>\n",
       "      <td>0.006135</td>\n",
       "      <td>0.002991</td>\n",
       "      <td>0.000113</td>\n",
       "      <td>2</td>\n",
       "      <td>1</td>\n",
       "      <td>newton-cg</td>\n",
       "      <td>{'balancing__k_neighbors': 2, 'clf__C': 1, 'cl...</td>\n",
       "      <td>0.560976</td>\n",
       "      <td>0.602740</td>\n",
       "      <td>0.608696</td>\n",
       "      <td>0.741935</td>\n",
       "      <td>0.521739</td>\n",
       "      <td>0.607217</td>\n",
       "      <td>0.074318</td>\n",
       "      <td>36</td>\n",
       "    </tr>\n",
       "    <tr>\n",
       "      <th>6</th>\n",
       "      <td>0.018304</td>\n",
       "      <td>0.008861</td>\n",
       "      <td>0.003122</td>\n",
       "      <td>0.000180</td>\n",
       "      <td>2</td>\n",
       "      <td>0.1</td>\n",
       "      <td>liblinear</td>\n",
       "      <td>{'balancing__k_neighbors': 2, 'clf__C': 0.1, '...</td>\n",
       "      <td>0.543210</td>\n",
       "      <td>0.586667</td>\n",
       "      <td>0.608696</td>\n",
       "      <td>0.741935</td>\n",
       "      <td>0.535211</td>\n",
       "      <td>0.603144</td>\n",
       "      <td>0.074528</td>\n",
       "      <td>49</td>\n",
       "    </tr>\n",
       "    <tr>\n",
       "      <th>7</th>\n",
       "      <td>0.022388</td>\n",
       "      <td>0.002398</td>\n",
       "      <td>0.003109</td>\n",
       "      <td>0.000226</td>\n",
       "      <td>2</td>\n",
       "      <td>0.1</td>\n",
       "      <td>newton-cg</td>\n",
       "      <td>{'balancing__k_neighbors': 2, 'clf__C': 0.1, '...</td>\n",
       "      <td>0.531646</td>\n",
       "      <td>0.608696</td>\n",
       "      <td>0.636364</td>\n",
       "      <td>0.750000</td>\n",
       "      <td>0.521739</td>\n",
       "      <td>0.609689</td>\n",
       "      <td>0.082735</td>\n",
       "      <td>31</td>\n",
       "    </tr>\n",
       "    <tr>\n",
       "      <th>8</th>\n",
       "      <td>0.014644</td>\n",
       "      <td>0.006802</td>\n",
       "      <td>0.003853</td>\n",
       "      <td>0.001244</td>\n",
       "      <td>2</td>\n",
       "      <td>0.01</td>\n",
       "      <td>liblinear</td>\n",
       "      <td>{'balancing__k_neighbors': 2, 'clf__C': 0.01, ...</td>\n",
       "      <td>0.564706</td>\n",
       "      <td>0.602410</td>\n",
       "      <td>0.591549</td>\n",
       "      <td>0.746269</td>\n",
       "      <td>0.575342</td>\n",
       "      <td>0.616055</td>\n",
       "      <td>0.066388</td>\n",
       "      <td>16</td>\n",
       "    </tr>\n",
       "    <tr>\n",
       "      <th>9</th>\n",
       "      <td>0.024456</td>\n",
       "      <td>0.004746</td>\n",
       "      <td>0.003260</td>\n",
       "      <td>0.000271</td>\n",
       "      <td>2</td>\n",
       "      <td>0.01</td>\n",
       "      <td>newton-cg</td>\n",
       "      <td>{'balancing__k_neighbors': 2, 'clf__C': 0.01, ...</td>\n",
       "      <td>0.550000</td>\n",
       "      <td>0.594595</td>\n",
       "      <td>0.608696</td>\n",
       "      <td>0.727273</td>\n",
       "      <td>0.542857</td>\n",
       "      <td>0.604684</td>\n",
       "      <td>0.066270</td>\n",
       "      <td>43</td>\n",
       "    </tr>\n",
       "    <tr>\n",
       "      <th>10</th>\n",
       "      <td>0.009535</td>\n",
       "      <td>0.001603</td>\n",
       "      <td>0.003171</td>\n",
       "      <td>0.000290</td>\n",
       "      <td>2</td>\n",
       "      <td>0.001</td>\n",
       "      <td>liblinear</td>\n",
       "      <td>{'balancing__k_neighbors': 2, 'clf__C': 0.001,...</td>\n",
       "      <td>0.564706</td>\n",
       "      <td>0.558140</td>\n",
       "      <td>0.594595</td>\n",
       "      <td>0.720000</td>\n",
       "      <td>0.525000</td>\n",
       "      <td>0.592488</td>\n",
       "      <td>0.067483</td>\n",
       "      <td>59</td>\n",
       "    </tr>\n",
       "    <tr>\n",
       "      <th>11</th>\n",
       "      <td>0.024045</td>\n",
       "      <td>0.008874</td>\n",
       "      <td>0.003974</td>\n",
       "      <td>0.001304</td>\n",
       "      <td>2</td>\n",
       "      <td>0.001</td>\n",
       "      <td>newton-cg</td>\n",
       "      <td>{'balancing__k_neighbors': 2, 'clf__C': 0.001,...</td>\n",
       "      <td>0.543210</td>\n",
       "      <td>0.575342</td>\n",
       "      <td>0.637681</td>\n",
       "      <td>0.735294</td>\n",
       "      <td>0.537313</td>\n",
       "      <td>0.605768</td>\n",
       "      <td>0.073920</td>\n",
       "      <td>41</td>\n",
       "    </tr>\n",
       "    <tr>\n",
       "      <th>12</th>\n",
       "      <td>0.012711</td>\n",
       "      <td>0.005460</td>\n",
       "      <td>0.007204</td>\n",
       "      <td>0.008159</td>\n",
       "      <td>5</td>\n",
       "      <td>100</td>\n",
       "      <td>liblinear</td>\n",
       "      <td>{'balancing__k_neighbors': 5, 'clf__C': 100, '...</td>\n",
       "      <td>0.554217</td>\n",
       "      <td>0.608696</td>\n",
       "      <td>0.646154</td>\n",
       "      <td>0.741935</td>\n",
       "      <td>0.563380</td>\n",
       "      <td>0.622876</td>\n",
       "      <td>0.068076</td>\n",
       "      <td>2</td>\n",
       "    </tr>\n",
       "    <tr>\n",
       "      <th>13</th>\n",
       "      <td>0.025549</td>\n",
       "      <td>0.005252</td>\n",
       "      <td>0.003416</td>\n",
       "      <td>0.000279</td>\n",
       "      <td>5</td>\n",
       "      <td>100</td>\n",
       "      <td>newton-cg</td>\n",
       "      <td>{'balancing__k_neighbors': 5, 'clf__C': 100, '...</td>\n",
       "      <td>0.554217</td>\n",
       "      <td>0.594595</td>\n",
       "      <td>0.600000</td>\n",
       "      <td>0.741935</td>\n",
       "      <td>0.563380</td>\n",
       "      <td>0.610825</td>\n",
       "      <td>0.067862</td>\n",
       "      <td>27</td>\n",
       "    </tr>\n",
       "    <tr>\n",
       "      <th>14</th>\n",
       "      <td>0.012092</td>\n",
       "      <td>0.003769</td>\n",
       "      <td>0.003269</td>\n",
       "      <td>0.000169</td>\n",
       "      <td>5</td>\n",
       "      <td>10</td>\n",
       "      <td>liblinear</td>\n",
       "      <td>{'balancing__k_neighbors': 5, 'clf__C': 10, 'c...</td>\n",
       "      <td>0.536585</td>\n",
       "      <td>0.611111</td>\n",
       "      <td>0.608696</td>\n",
       "      <td>0.730159</td>\n",
       "      <td>0.542857</td>\n",
       "      <td>0.605882</td>\n",
       "      <td>0.069648</td>\n",
       "      <td>40</td>\n",
       "    </tr>\n",
       "    <tr>\n",
       "      <th>15</th>\n",
       "      <td>0.028156</td>\n",
       "      <td>0.005947</td>\n",
       "      <td>0.003537</td>\n",
       "      <td>0.000291</td>\n",
       "      <td>5</td>\n",
       "      <td>10</td>\n",
       "      <td>newton-cg</td>\n",
       "      <td>{'balancing__k_neighbors': 5, 'clf__C': 10, 'c...</td>\n",
       "      <td>0.554217</td>\n",
       "      <td>0.602740</td>\n",
       "      <td>0.608696</td>\n",
       "      <td>0.750000</td>\n",
       "      <td>0.542857</td>\n",
       "      <td>0.611702</td>\n",
       "      <td>0.073837</td>\n",
       "      <td>24</td>\n",
       "    </tr>\n",
       "    <tr>\n",
       "      <th>16</th>\n",
       "      <td>0.009756</td>\n",
       "      <td>0.000595</td>\n",
       "      <td>0.003556</td>\n",
       "      <td>0.000540</td>\n",
       "      <td>5</td>\n",
       "      <td>1</td>\n",
       "      <td>liblinear</td>\n",
       "      <td>{'balancing__k_neighbors': 5, 'clf__C': 1, 'cl...</td>\n",
       "      <td>0.550000</td>\n",
       "      <td>0.611111</td>\n",
       "      <td>0.646154</td>\n",
       "      <td>0.769231</td>\n",
       "      <td>0.521739</td>\n",
       "      <td>0.619647</td>\n",
       "      <td>0.086703</td>\n",
       "      <td>6</td>\n",
       "    </tr>\n",
       "    <tr>\n",
       "      <th>17</th>\n",
       "      <td>0.025078</td>\n",
       "      <td>0.004882</td>\n",
       "      <td>0.003275</td>\n",
       "      <td>0.000349</td>\n",
       "      <td>5</td>\n",
       "      <td>1</td>\n",
       "      <td>newton-cg</td>\n",
       "      <td>{'balancing__k_neighbors': 5, 'clf__C': 1, 'cl...</td>\n",
       "      <td>0.536585</td>\n",
       "      <td>0.594595</td>\n",
       "      <td>0.608696</td>\n",
       "      <td>0.741935</td>\n",
       "      <td>0.542857</td>\n",
       "      <td>0.604934</td>\n",
       "      <td>0.074048</td>\n",
       "      <td>42</td>\n",
       "    </tr>\n",
       "    <tr>\n",
       "      <th>18</th>\n",
       "      <td>0.011614</td>\n",
       "      <td>0.002945</td>\n",
       "      <td>0.003106</td>\n",
       "      <td>0.000347</td>\n",
       "      <td>5</td>\n",
       "      <td>0.1</td>\n",
       "      <td>liblinear</td>\n",
       "      <td>{'balancing__k_neighbors': 5, 'clf__C': 0.1, '...</td>\n",
       "      <td>0.536585</td>\n",
       "      <td>0.575342</td>\n",
       "      <td>0.626866</td>\n",
       "      <td>0.741935</td>\n",
       "      <td>0.563380</td>\n",
       "      <td>0.608822</td>\n",
       "      <td>0.072731</td>\n",
       "      <td>33</td>\n",
       "    </tr>\n",
       "    <tr>\n",
       "      <th>19</th>\n",
       "      <td>0.026130</td>\n",
       "      <td>0.006661</td>\n",
       "      <td>0.002955</td>\n",
       "      <td>0.000084</td>\n",
       "      <td>5</td>\n",
       "      <td>0.1</td>\n",
       "      <td>newton-cg</td>\n",
       "      <td>{'balancing__k_neighbors': 5, 'clf__C': 0.1, '...</td>\n",
       "      <td>0.556962</td>\n",
       "      <td>0.611111</td>\n",
       "      <td>0.608696</td>\n",
       "      <td>0.750000</td>\n",
       "      <td>0.563380</td>\n",
       "      <td>0.618030</td>\n",
       "      <td>0.069666</td>\n",
       "      <td>7</td>\n",
       "    </tr>\n",
       "    <tr>\n",
       "      <th>20</th>\n",
       "      <td>0.012222</td>\n",
       "      <td>0.005846</td>\n",
       "      <td>0.004711</td>\n",
       "      <td>0.003115</td>\n",
       "      <td>5</td>\n",
       "      <td>0.01</td>\n",
       "      <td>liblinear</td>\n",
       "      <td>{'balancing__k_neighbors': 5, 'clf__C': 0.01, ...</td>\n",
       "      <td>0.564706</td>\n",
       "      <td>0.609756</td>\n",
       "      <td>0.591549</td>\n",
       "      <td>0.735294</td>\n",
       "      <td>0.586667</td>\n",
       "      <td>0.617594</td>\n",
       "      <td>0.060575</td>\n",
       "      <td>10</td>\n",
       "    </tr>\n",
       "    <tr>\n",
       "      <th>21</th>\n",
       "      <td>0.019625</td>\n",
       "      <td>0.001510</td>\n",
       "      <td>0.003243</td>\n",
       "      <td>0.000202</td>\n",
       "      <td>5</td>\n",
       "      <td>0.01</td>\n",
       "      <td>newton-cg</td>\n",
       "      <td>{'balancing__k_neighbors': 5, 'clf__C': 0.01, ...</td>\n",
       "      <td>0.543210</td>\n",
       "      <td>0.594595</td>\n",
       "      <td>0.628571</td>\n",
       "      <td>0.750000</td>\n",
       "      <td>0.527778</td>\n",
       "      <td>0.608831</td>\n",
       "      <td>0.079242</td>\n",
       "      <td>32</td>\n",
       "    </tr>\n",
       "    <tr>\n",
       "      <th>22</th>\n",
       "      <td>0.008759</td>\n",
       "      <td>0.000537</td>\n",
       "      <td>0.002892</td>\n",
       "      <td>0.000072</td>\n",
       "      <td>5</td>\n",
       "      <td>0.001</td>\n",
       "      <td>liblinear</td>\n",
       "      <td>{'balancing__k_neighbors': 5, 'clf__C': 0.001,...</td>\n",
       "      <td>0.581395</td>\n",
       "      <td>0.558140</td>\n",
       "      <td>0.594595</td>\n",
       "      <td>0.710526</td>\n",
       "      <td>0.512821</td>\n",
       "      <td>0.591495</td>\n",
       "      <td>0.065700</td>\n",
       "      <td>60</td>\n",
       "    </tr>\n",
       "    <tr>\n",
       "      <th>23</th>\n",
       "      <td>0.020743</td>\n",
       "      <td>0.004885</td>\n",
       "      <td>0.004685</td>\n",
       "      <td>0.003355</td>\n",
       "      <td>5</td>\n",
       "      <td>0.001</td>\n",
       "      <td>newton-cg</td>\n",
       "      <td>{'balancing__k_neighbors': 5, 'clf__C': 0.001,...</td>\n",
       "      <td>0.550000</td>\n",
       "      <td>0.575342</td>\n",
       "      <td>0.637681</td>\n",
       "      <td>0.724638</td>\n",
       "      <td>0.529412</td>\n",
       "      <td>0.603415</td>\n",
       "      <td>0.070692</td>\n",
       "      <td>47</td>\n",
       "    </tr>\n",
       "    <tr>\n",
       "      <th>24</th>\n",
       "      <td>0.009344</td>\n",
       "      <td>0.000410</td>\n",
       "      <td>0.003069</td>\n",
       "      <td>0.000184</td>\n",
       "      <td>10</td>\n",
       "      <td>100</td>\n",
       "      <td>liblinear</td>\n",
       "      <td>{'balancing__k_neighbors': 10, 'clf__C': 100, ...</td>\n",
       "      <td>0.550000</td>\n",
       "      <td>0.619718</td>\n",
       "      <td>0.626866</td>\n",
       "      <td>0.761905</td>\n",
       "      <td>0.521739</td>\n",
       "      <td>0.616046</td>\n",
       "      <td>0.083260</td>\n",
       "      <td>17</td>\n",
       "    </tr>\n",
       "    <tr>\n",
       "      <th>25</th>\n",
       "      <td>0.030509</td>\n",
       "      <td>0.016101</td>\n",
       "      <td>0.003057</td>\n",
       "      <td>0.000166</td>\n",
       "      <td>10</td>\n",
       "      <td>100</td>\n",
       "      <td>newton-cg</td>\n",
       "      <td>{'balancing__k_neighbors': 10, 'clf__C': 100, ...</td>\n",
       "      <td>0.550000</td>\n",
       "      <td>0.586667</td>\n",
       "      <td>0.608696</td>\n",
       "      <td>0.750000</td>\n",
       "      <td>0.521739</td>\n",
       "      <td>0.603420</td>\n",
       "      <td>0.079145</td>\n",
       "      <td>46</td>\n",
       "    </tr>\n",
       "    <tr>\n",
       "      <th>26</th>\n",
       "      <td>0.011908</td>\n",
       "      <td>0.002404</td>\n",
       "      <td>0.003837</td>\n",
       "      <td>0.001403</td>\n",
       "      <td>10</td>\n",
       "      <td>10</td>\n",
       "      <td>liblinear</td>\n",
       "      <td>{'balancing__k_neighbors': 10, 'clf__C': 10, '...</td>\n",
       "      <td>0.560976</td>\n",
       "      <td>0.594595</td>\n",
       "      <td>0.636364</td>\n",
       "      <td>0.746269</td>\n",
       "      <td>0.542857</td>\n",
       "      <td>0.616212</td>\n",
       "      <td>0.072416</td>\n",
       "      <td>15</td>\n",
       "    </tr>\n",
       "    <tr>\n",
       "      <th>27</th>\n",
       "      <td>0.026048</td>\n",
       "      <td>0.005114</td>\n",
       "      <td>0.004953</td>\n",
       "      <td>0.003622</td>\n",
       "      <td>10</td>\n",
       "      <td>10</td>\n",
       "      <td>newton-cg</td>\n",
       "      <td>{'balancing__k_neighbors': 10, 'clf__C': 10, '...</td>\n",
       "      <td>0.536585</td>\n",
       "      <td>0.619718</td>\n",
       "      <td>0.608696</td>\n",
       "      <td>0.750000</td>\n",
       "      <td>0.535211</td>\n",
       "      <td>0.610042</td>\n",
       "      <td>0.078332</td>\n",
       "      <td>29</td>\n",
       "    </tr>\n",
       "    <tr>\n",
       "      <th>28</th>\n",
       "      <td>0.009903</td>\n",
       "      <td>0.000750</td>\n",
       "      <td>0.003000</td>\n",
       "      <td>0.000070</td>\n",
       "      <td>10</td>\n",
       "      <td>1</td>\n",
       "      <td>liblinear</td>\n",
       "      <td>{'balancing__k_neighbors': 10, 'clf__C': 1, 'c...</td>\n",
       "      <td>0.536585</td>\n",
       "      <td>0.602740</td>\n",
       "      <td>0.608696</td>\n",
       "      <td>0.741935</td>\n",
       "      <td>0.542857</td>\n",
       "      <td>0.606563</td>\n",
       "      <td>0.073892</td>\n",
       "      <td>37</td>\n",
       "    </tr>\n",
       "    <tr>\n",
       "      <th>29</th>\n",
       "      <td>0.025861</td>\n",
       "      <td>0.007001</td>\n",
       "      <td>0.003401</td>\n",
       "      <td>0.000679</td>\n",
       "      <td>10</td>\n",
       "      <td>1</td>\n",
       "      <td>newton-cg</td>\n",
       "      <td>{'balancing__k_neighbors': 10, 'clf__C': 1, 'c...</td>\n",
       "      <td>0.550000</td>\n",
       "      <td>0.594595</td>\n",
       "      <td>0.646154</td>\n",
       "      <td>0.741935</td>\n",
       "      <td>0.521739</td>\n",
       "      <td>0.610885</td>\n",
       "      <td>0.077894</td>\n",
       "      <td>26</td>\n",
       "    </tr>\n",
       "    <tr>\n",
       "      <th>30</th>\n",
       "      <td>0.009294</td>\n",
       "      <td>0.000251</td>\n",
       "      <td>0.003243</td>\n",
       "      <td>0.000321</td>\n",
       "      <td>10</td>\n",
       "      <td>0.1</td>\n",
       "      <td>liblinear</td>\n",
       "      <td>{'balancing__k_neighbors': 10, 'clf__C': 0.1, ...</td>\n",
       "      <td>0.554217</td>\n",
       "      <td>0.586667</td>\n",
       "      <td>0.608696</td>\n",
       "      <td>0.727273</td>\n",
       "      <td>0.542857</td>\n",
       "      <td>0.603942</td>\n",
       "      <td>0.065932</td>\n",
       "      <td>45</td>\n",
       "    </tr>\n",
       "    <tr>\n",
       "      <th>31</th>\n",
       "      <td>0.031647</td>\n",
       "      <td>0.019594</td>\n",
       "      <td>0.003304</td>\n",
       "      <td>0.000420</td>\n",
       "      <td>10</td>\n",
       "      <td>0.1</td>\n",
       "      <td>newton-cg</td>\n",
       "      <td>{'balancing__k_neighbors': 10, 'clf__C': 0.1, ...</td>\n",
       "      <td>0.543210</td>\n",
       "      <td>0.600000</td>\n",
       "      <td>0.608696</td>\n",
       "      <td>0.741935</td>\n",
       "      <td>0.521739</td>\n",
       "      <td>0.603116</td>\n",
       "      <td>0.076841</td>\n",
       "      <td>50</td>\n",
       "    </tr>\n",
       "    <tr>\n",
       "      <th>32</th>\n",
       "      <td>0.009994</td>\n",
       "      <td>0.000701</td>\n",
       "      <td>0.003710</td>\n",
       "      <td>0.000653</td>\n",
       "      <td>10</td>\n",
       "      <td>0.01</td>\n",
       "      <td>liblinear</td>\n",
       "      <td>{'balancing__k_neighbors': 10, 'clf__C': 0.01,...</td>\n",
       "      <td>0.564706</td>\n",
       "      <td>0.625000</td>\n",
       "      <td>0.602740</td>\n",
       "      <td>0.727273</td>\n",
       "      <td>0.567568</td>\n",
       "      <td>0.617457</td>\n",
       "      <td>0.059337</td>\n",
       "      <td>11</td>\n",
       "    </tr>\n",
       "    <tr>\n",
       "      <th>33</th>\n",
       "      <td>0.026050</td>\n",
       "      <td>0.006627</td>\n",
       "      <td>0.004874</td>\n",
       "      <td>0.003363</td>\n",
       "      <td>10</td>\n",
       "      <td>0.01</td>\n",
       "      <td>newton-cg</td>\n",
       "      <td>{'balancing__k_neighbors': 10, 'clf__C': 0.01,...</td>\n",
       "      <td>0.536585</td>\n",
       "      <td>0.594595</td>\n",
       "      <td>0.617647</td>\n",
       "      <td>0.709677</td>\n",
       "      <td>0.550725</td>\n",
       "      <td>0.601846</td>\n",
       "      <td>0.061322</td>\n",
       "      <td>52</td>\n",
       "    </tr>\n",
       "    <tr>\n",
       "      <th>34</th>\n",
       "      <td>0.009080</td>\n",
       "      <td>0.000366</td>\n",
       "      <td>0.003109</td>\n",
       "      <td>0.000123</td>\n",
       "      <td>10</td>\n",
       "      <td>0.001</td>\n",
       "      <td>liblinear</td>\n",
       "      <td>{'balancing__k_neighbors': 10, 'clf__C': 0.001...</td>\n",
       "      <td>0.564706</td>\n",
       "      <td>0.564706</td>\n",
       "      <td>0.594595</td>\n",
       "      <td>0.729730</td>\n",
       "      <td>0.512821</td>\n",
       "      <td>0.593311</td>\n",
       "      <td>0.073112</td>\n",
       "      <td>58</td>\n",
       "    </tr>\n",
       "    <tr>\n",
       "      <th>35</th>\n",
       "      <td>0.021861</td>\n",
       "      <td>0.007830</td>\n",
       "      <td>0.004660</td>\n",
       "      <td>0.003240</td>\n",
       "      <td>10</td>\n",
       "      <td>0.001</td>\n",
       "      <td>newton-cg</td>\n",
       "      <td>{'balancing__k_neighbors': 10, 'clf__C': 0.001...</td>\n",
       "      <td>0.543210</td>\n",
       "      <td>0.575342</td>\n",
       "      <td>0.637681</td>\n",
       "      <td>0.724638</td>\n",
       "      <td>0.507463</td>\n",
       "      <td>0.597667</td>\n",
       "      <td>0.076581</td>\n",
       "      <td>55</td>\n",
       "    </tr>\n",
       "    <tr>\n",
       "      <th>36</th>\n",
       "      <td>0.009354</td>\n",
       "      <td>0.000184</td>\n",
       "      <td>0.002973</td>\n",
       "      <td>0.000156</td>\n",
       "      <td>15</td>\n",
       "      <td>100</td>\n",
       "      <td>liblinear</td>\n",
       "      <td>{'balancing__k_neighbors': 15, 'clf__C': 100, ...</td>\n",
       "      <td>0.560976</td>\n",
       "      <td>0.586667</td>\n",
       "      <td>0.656716</td>\n",
       "      <td>0.750000</td>\n",
       "      <td>0.547945</td>\n",
       "      <td>0.620461</td>\n",
       "      <td>0.074878</td>\n",
       "      <td>4</td>\n",
       "    </tr>\n",
       "    <tr>\n",
       "      <th>37</th>\n",
       "      <td>0.022207</td>\n",
       "      <td>0.002107</td>\n",
       "      <td>0.003086</td>\n",
       "      <td>0.000254</td>\n",
       "      <td>15</td>\n",
       "      <td>100</td>\n",
       "      <td>newton-cg</td>\n",
       "      <td>{'balancing__k_neighbors': 15, 'clf__C': 100, ...</td>\n",
       "      <td>0.560976</td>\n",
       "      <td>0.586667</td>\n",
       "      <td>0.617647</td>\n",
       "      <td>0.709677</td>\n",
       "      <td>0.521739</td>\n",
       "      <td>0.599341</td>\n",
       "      <td>0.063504</td>\n",
       "      <td>54</td>\n",
       "    </tr>\n",
       "    <tr>\n",
       "      <th>38</th>\n",
       "      <td>0.013661</td>\n",
       "      <td>0.008077</td>\n",
       "      <td>0.004834</td>\n",
       "      <td>0.003239</td>\n",
       "      <td>15</td>\n",
       "      <td>10</td>\n",
       "      <td>liblinear</td>\n",
       "      <td>{'balancing__k_neighbors': 15, 'clf__C': 10, '...</td>\n",
       "      <td>0.554217</td>\n",
       "      <td>0.594595</td>\n",
       "      <td>0.666667</td>\n",
       "      <td>0.769231</td>\n",
       "      <td>0.535211</td>\n",
       "      <td>0.623984</td>\n",
       "      <td>0.085475</td>\n",
       "      <td>1</td>\n",
       "    </tr>\n",
       "    <tr>\n",
       "      <th>39</th>\n",
       "      <td>0.028574</td>\n",
       "      <td>0.009203</td>\n",
       "      <td>0.002975</td>\n",
       "      <td>0.000131</td>\n",
       "      <td>15</td>\n",
       "      <td>10</td>\n",
       "      <td>newton-cg</td>\n",
       "      <td>{'balancing__k_neighbors': 15, 'clf__C': 10, '...</td>\n",
       "      <td>0.554217</td>\n",
       "      <td>0.602740</td>\n",
       "      <td>0.617647</td>\n",
       "      <td>0.721311</td>\n",
       "      <td>0.542857</td>\n",
       "      <td>0.607754</td>\n",
       "      <td>0.063397</td>\n",
       "      <td>34</td>\n",
       "    </tr>\n",
       "    <tr>\n",
       "      <th>40</th>\n",
       "      <td>0.010352</td>\n",
       "      <td>0.000377</td>\n",
       "      <td>0.003129</td>\n",
       "      <td>0.000078</td>\n",
       "      <td>15</td>\n",
       "      <td>1</td>\n",
       "      <td>liblinear</td>\n",
       "      <td>{'balancing__k_neighbors': 15, 'clf__C': 1, 'c...</td>\n",
       "      <td>0.554217</td>\n",
       "      <td>0.613333</td>\n",
       "      <td>0.608696</td>\n",
       "      <td>0.757576</td>\n",
       "      <td>0.555556</td>\n",
       "      <td>0.617875</td>\n",
       "      <td>0.074239</td>\n",
       "      <td>8</td>\n",
       "    </tr>\n",
       "    <tr>\n",
       "      <th>41</th>\n",
       "      <td>0.026796</td>\n",
       "      <td>0.011886</td>\n",
       "      <td>0.003145</td>\n",
       "      <td>0.000137</td>\n",
       "      <td>15</td>\n",
       "      <td>1</td>\n",
       "      <td>newton-cg</td>\n",
       "      <td>{'balancing__k_neighbors': 15, 'clf__C': 1, 'c...</td>\n",
       "      <td>0.554217</td>\n",
       "      <td>0.602740</td>\n",
       "      <td>0.626866</td>\n",
       "      <td>0.738462</td>\n",
       "      <td>0.542857</td>\n",
       "      <td>0.613028</td>\n",
       "      <td>0.069876</td>\n",
       "      <td>23</td>\n",
       "    </tr>\n",
       "    <tr>\n",
       "      <th>42</th>\n",
       "      <td>0.011581</td>\n",
       "      <td>0.003353</td>\n",
       "      <td>0.003064</td>\n",
       "      <td>0.000161</td>\n",
       "      <td>15</td>\n",
       "      <td>0.1</td>\n",
       "      <td>liblinear</td>\n",
       "      <td>{'balancing__k_neighbors': 15, 'clf__C': 0.1, ...</td>\n",
       "      <td>0.536585</td>\n",
       "      <td>0.594595</td>\n",
       "      <td>0.608696</td>\n",
       "      <td>0.727273</td>\n",
       "      <td>0.563380</td>\n",
       "      <td>0.606106</td>\n",
       "      <td>0.065543</td>\n",
       "      <td>39</td>\n",
       "    </tr>\n",
       "    <tr>\n",
       "      <th>43</th>\n",
       "      <td>0.024821</td>\n",
       "      <td>0.003438</td>\n",
       "      <td>0.003021</td>\n",
       "      <td>0.000111</td>\n",
       "      <td>15</td>\n",
       "      <td>0.1</td>\n",
       "      <td>newton-cg</td>\n",
       "      <td>{'balancing__k_neighbors': 15, 'clf__C': 0.1, ...</td>\n",
       "      <td>0.554217</td>\n",
       "      <td>0.591549</td>\n",
       "      <td>0.646154</td>\n",
       "      <td>0.761905</td>\n",
       "      <td>0.521739</td>\n",
       "      <td>0.615113</td>\n",
       "      <td>0.084254</td>\n",
       "      <td>19</td>\n",
       "    </tr>\n",
       "    <tr>\n",
       "      <th>44</th>\n",
       "      <td>0.011914</td>\n",
       "      <td>0.004968</td>\n",
       "      <td>0.004342</td>\n",
       "      <td>0.002468</td>\n",
       "      <td>15</td>\n",
       "      <td>0.01</td>\n",
       "      <td>liblinear</td>\n",
       "      <td>{'balancing__k_neighbors': 15, 'clf__C': 0.01,...</td>\n",
       "      <td>0.564706</td>\n",
       "      <td>0.609756</td>\n",
       "      <td>0.608696</td>\n",
       "      <td>0.724638</td>\n",
       "      <td>0.594595</td>\n",
       "      <td>0.620478</td>\n",
       "      <td>0.054559</td>\n",
       "      <td>3</td>\n",
       "    </tr>\n",
       "    <tr>\n",
       "      <th>45</th>\n",
       "      <td>0.025150</td>\n",
       "      <td>0.006246</td>\n",
       "      <td>0.003161</td>\n",
       "      <td>0.000167</td>\n",
       "      <td>15</td>\n",
       "      <td>0.01</td>\n",
       "      <td>newton-cg</td>\n",
       "      <td>{'balancing__k_neighbors': 15, 'clf__C': 0.01,...</td>\n",
       "      <td>0.543210</td>\n",
       "      <td>0.594595</td>\n",
       "      <td>0.628571</td>\n",
       "      <td>0.757576</td>\n",
       "      <td>0.550725</td>\n",
       "      <td>0.614935</td>\n",
       "      <td>0.077735</td>\n",
       "      <td>20</td>\n",
       "    </tr>\n",
       "    <tr>\n",
       "      <th>46</th>\n",
       "      <td>0.010606</td>\n",
       "      <td>0.002115</td>\n",
       "      <td>0.003255</td>\n",
       "      <td>0.000190</td>\n",
       "      <td>15</td>\n",
       "      <td>0.001</td>\n",
       "      <td>liblinear</td>\n",
       "      <td>{'balancing__k_neighbors': 15, 'clf__C': 0.001...</td>\n",
       "      <td>0.581395</td>\n",
       "      <td>0.558140</td>\n",
       "      <td>0.594595</td>\n",
       "      <td>0.729730</td>\n",
       "      <td>0.519481</td>\n",
       "      <td>0.596668</td>\n",
       "      <td>0.071254</td>\n",
       "      <td>56</td>\n",
       "    </tr>\n",
       "    <tr>\n",
       "      <th>47</th>\n",
       "      <td>0.020876</td>\n",
       "      <td>0.003329</td>\n",
       "      <td>0.005796</td>\n",
       "      <td>0.005462</td>\n",
       "      <td>15</td>\n",
       "      <td>0.001</td>\n",
       "      <td>newton-cg</td>\n",
       "      <td>{'balancing__k_neighbors': 15, 'clf__C': 0.001...</td>\n",
       "      <td>0.560976</td>\n",
       "      <td>0.575342</td>\n",
       "      <td>0.637681</td>\n",
       "      <td>0.735294</td>\n",
       "      <td>0.507463</td>\n",
       "      <td>0.603351</td>\n",
       "      <td>0.077926</td>\n",
       "      <td>48</td>\n",
       "    </tr>\n",
       "    <tr>\n",
       "      <th>48</th>\n",
       "      <td>0.009572</td>\n",
       "      <td>0.000263</td>\n",
       "      <td>0.002985</td>\n",
       "      <td>0.000069</td>\n",
       "      <td>20</td>\n",
       "      <td>100</td>\n",
       "      <td>liblinear</td>\n",
       "      <td>{'balancing__k_neighbors': 20, 'clf__C': 100, ...</td>\n",
       "      <td>0.560976</td>\n",
       "      <td>0.611111</td>\n",
       "      <td>0.600000</td>\n",
       "      <td>0.754098</td>\n",
       "      <td>0.555556</td>\n",
       "      <td>0.616348</td>\n",
       "      <td>0.072155</td>\n",
       "      <td>13</td>\n",
       "    </tr>\n",
       "    <tr>\n",
       "      <th>49</th>\n",
       "      <td>0.025786</td>\n",
       "      <td>0.006031</td>\n",
       "      <td>0.003422</td>\n",
       "      <td>0.000379</td>\n",
       "      <td>20</td>\n",
       "      <td>100</td>\n",
       "      <td>newton-cg</td>\n",
       "      <td>{'balancing__k_neighbors': 20, 'clf__C': 100, ...</td>\n",
       "      <td>0.556962</td>\n",
       "      <td>0.602740</td>\n",
       "      <td>0.656716</td>\n",
       "      <td>0.750000</td>\n",
       "      <td>0.521739</td>\n",
       "      <td>0.617631</td>\n",
       "      <td>0.080183</td>\n",
       "      <td>9</td>\n",
       "    </tr>\n",
       "    <tr>\n",
       "      <th>50</th>\n",
       "      <td>0.011832</td>\n",
       "      <td>0.003365</td>\n",
       "      <td>0.003482</td>\n",
       "      <td>0.000769</td>\n",
       "      <td>20</td>\n",
       "      <td>10</td>\n",
       "      <td>liblinear</td>\n",
       "      <td>{'balancing__k_neighbors': 20, 'clf__C': 10, '...</td>\n",
       "      <td>0.554217</td>\n",
       "      <td>0.602740</td>\n",
       "      <td>0.608696</td>\n",
       "      <td>0.750000</td>\n",
       "      <td>0.535211</td>\n",
       "      <td>0.610173</td>\n",
       "      <td>0.075312</td>\n",
       "      <td>28</td>\n",
       "    </tr>\n",
       "    <tr>\n",
       "      <th>51</th>\n",
       "      <td>0.031515</td>\n",
       "      <td>0.009426</td>\n",
       "      <td>0.003306</td>\n",
       "      <td>0.000437</td>\n",
       "      <td>20</td>\n",
       "      <td>10</td>\n",
       "      <td>newton-cg</td>\n",
       "      <td>{'balancing__k_neighbors': 20, 'clf__C': 10, '...</td>\n",
       "      <td>0.560976</td>\n",
       "      <td>0.600000</td>\n",
       "      <td>0.636364</td>\n",
       "      <td>0.750000</td>\n",
       "      <td>0.521739</td>\n",
       "      <td>0.613816</td>\n",
       "      <td>0.078122</td>\n",
       "      <td>21</td>\n",
       "    </tr>\n",
       "    <tr>\n",
       "      <th>52</th>\n",
       "      <td>0.010800</td>\n",
       "      <td>0.002425</td>\n",
       "      <td>0.004211</td>\n",
       "      <td>0.002111</td>\n",
       "      <td>20</td>\n",
       "      <td>1</td>\n",
       "      <td>liblinear</td>\n",
       "      <td>{'balancing__k_neighbors': 20, 'clf__C': 1, 'c...</td>\n",
       "      <td>0.554217</td>\n",
       "      <td>0.594595</td>\n",
       "      <td>0.617647</td>\n",
       "      <td>0.761905</td>\n",
       "      <td>0.521739</td>\n",
       "      <td>0.610020</td>\n",
       "      <td>0.082792</td>\n",
       "      <td>30</td>\n",
       "    </tr>\n",
       "    <tr>\n",
       "      <th>53</th>\n",
       "      <td>0.032404</td>\n",
       "      <td>0.009806</td>\n",
       "      <td>0.003073</td>\n",
       "      <td>0.000183</td>\n",
       "      <td>20</td>\n",
       "      <td>1</td>\n",
       "      <td>newton-cg</td>\n",
       "      <td>{'balancing__k_neighbors': 20, 'clf__C': 1, 'c...</td>\n",
       "      <td>0.536585</td>\n",
       "      <td>0.586667</td>\n",
       "      <td>0.617647</td>\n",
       "      <td>0.750000</td>\n",
       "      <td>0.521739</td>\n",
       "      <td>0.602528</td>\n",
       "      <td>0.081368</td>\n",
       "      <td>51</td>\n",
       "    </tr>\n",
       "    <tr>\n",
       "      <th>54</th>\n",
       "      <td>0.009601</td>\n",
       "      <td>0.000628</td>\n",
       "      <td>0.003126</td>\n",
       "      <td>0.000318</td>\n",
       "      <td>20</td>\n",
       "      <td>0.1</td>\n",
       "      <td>liblinear</td>\n",
       "      <td>{'balancing__k_neighbors': 20, 'clf__C': 0.1, ...</td>\n",
       "      <td>0.536585</td>\n",
       "      <td>0.594595</td>\n",
       "      <td>0.608696</td>\n",
       "      <td>0.738462</td>\n",
       "      <td>0.542857</td>\n",
       "      <td>0.604239</td>\n",
       "      <td>0.072764</td>\n",
       "      <td>44</td>\n",
       "    </tr>\n",
       "    <tr>\n",
       "      <th>55</th>\n",
       "      <td>0.023625</td>\n",
       "      <td>0.002964</td>\n",
       "      <td>0.003294</td>\n",
       "      <td>0.000338</td>\n",
       "      <td>20</td>\n",
       "      <td>0.1</td>\n",
       "      <td>newton-cg</td>\n",
       "      <td>{'balancing__k_neighbors': 20, 'clf__C': 0.1, ...</td>\n",
       "      <td>0.554217</td>\n",
       "      <td>0.600000</td>\n",
       "      <td>0.608696</td>\n",
       "      <td>0.750000</td>\n",
       "      <td>0.542857</td>\n",
       "      <td>0.611154</td>\n",
       "      <td>0.073912</td>\n",
       "      <td>25</td>\n",
       "    </tr>\n",
       "    <tr>\n",
       "      <th>56</th>\n",
       "      <td>0.009843</td>\n",
       "      <td>0.000654</td>\n",
       "      <td>0.003168</td>\n",
       "      <td>0.000083</td>\n",
       "      <td>20</td>\n",
       "      <td>0.01</td>\n",
       "      <td>liblinear</td>\n",
       "      <td>{'balancing__k_neighbors': 20, 'clf__C': 0.01,...</td>\n",
       "      <td>0.564706</td>\n",
       "      <td>0.625000</td>\n",
       "      <td>0.608696</td>\n",
       "      <td>0.727273</td>\n",
       "      <td>0.575342</td>\n",
       "      <td>0.620203</td>\n",
       "      <td>0.057813</td>\n",
       "      <td>5</td>\n",
       "    </tr>\n",
       "    <tr>\n",
       "      <th>57</th>\n",
       "      <td>0.028037</td>\n",
       "      <td>0.008285</td>\n",
       "      <td>0.003513</td>\n",
       "      <td>0.000572</td>\n",
       "      <td>20</td>\n",
       "      <td>0.01</td>\n",
       "      <td>newton-cg</td>\n",
       "      <td>{'balancing__k_neighbors': 20, 'clf__C': 0.01,...</td>\n",
       "      <td>0.550000</td>\n",
       "      <td>0.578947</td>\n",
       "      <td>0.617647</td>\n",
       "      <td>0.769231</td>\n",
       "      <td>0.550725</td>\n",
       "      <td>0.613310</td>\n",
       "      <td>0.081775</td>\n",
       "      <td>22</td>\n",
       "    </tr>\n",
       "    <tr>\n",
       "      <th>58</th>\n",
       "      <td>0.012270</td>\n",
       "      <td>0.003356</td>\n",
       "      <td>0.004196</td>\n",
       "      <td>0.001956</td>\n",
       "      <td>20</td>\n",
       "      <td>0.001</td>\n",
       "      <td>liblinear</td>\n",
       "      <td>{'balancing__k_neighbors': 20, 'clf__C': 0.001...</td>\n",
       "      <td>0.564706</td>\n",
       "      <td>0.564706</td>\n",
       "      <td>0.594595</td>\n",
       "      <td>0.729730</td>\n",
       "      <td>0.519481</td>\n",
       "      <td>0.594643</td>\n",
       "      <td>0.071680</td>\n",
       "      <td>57</td>\n",
       "    </tr>\n",
       "    <tr>\n",
       "      <th>59</th>\n",
       "      <td>0.018190</td>\n",
       "      <td>0.007359</td>\n",
       "      <td>0.002602</td>\n",
       "      <td>0.000535</td>\n",
       "      <td>20</td>\n",
       "      <td>0.001</td>\n",
       "      <td>newton-cg</td>\n",
       "      <td>{'balancing__k_neighbors': 20, 'clf__C': 0.001...</td>\n",
       "      <td>0.536585</td>\n",
       "      <td>0.567568</td>\n",
       "      <td>0.637681</td>\n",
       "      <td>0.735294</td>\n",
       "      <td>0.529412</td>\n",
       "      <td>0.601308</td>\n",
       "      <td>0.077164</td>\n",
       "      <td>53</td>\n",
       "    </tr>\n",
       "  </tbody>\n",
       "</table>\n",
       "</div>"
      ],
      "text/plain": [
       "    mean_fit_time  std_fit_time  mean_score_time  std_score_time  \\\n",
       "0        0.010482      0.002105         0.003184        0.000215   \n",
       "1        0.020969      0.001586         0.003070        0.000177   \n",
       "2        0.009244      0.000321         0.002971        0.000057   \n",
       "3        0.023272      0.002926         0.003216        0.000157   \n",
       "4        0.016169      0.005657         0.003803        0.001260   \n",
       "5        0.025869      0.006135         0.002991        0.000113   \n",
       "6        0.018304      0.008861         0.003122        0.000180   \n",
       "7        0.022388      0.002398         0.003109        0.000226   \n",
       "8        0.014644      0.006802         0.003853        0.001244   \n",
       "9        0.024456      0.004746         0.003260        0.000271   \n",
       "10       0.009535      0.001603         0.003171        0.000290   \n",
       "11       0.024045      0.008874         0.003974        0.001304   \n",
       "12       0.012711      0.005460         0.007204        0.008159   \n",
       "13       0.025549      0.005252         0.003416        0.000279   \n",
       "14       0.012092      0.003769         0.003269        0.000169   \n",
       "15       0.028156      0.005947         0.003537        0.000291   \n",
       "16       0.009756      0.000595         0.003556        0.000540   \n",
       "17       0.025078      0.004882         0.003275        0.000349   \n",
       "18       0.011614      0.002945         0.003106        0.000347   \n",
       "19       0.026130      0.006661         0.002955        0.000084   \n",
       "20       0.012222      0.005846         0.004711        0.003115   \n",
       "21       0.019625      0.001510         0.003243        0.000202   \n",
       "22       0.008759      0.000537         0.002892        0.000072   \n",
       "23       0.020743      0.004885         0.004685        0.003355   \n",
       "24       0.009344      0.000410         0.003069        0.000184   \n",
       "25       0.030509      0.016101         0.003057        0.000166   \n",
       "26       0.011908      0.002404         0.003837        0.001403   \n",
       "27       0.026048      0.005114         0.004953        0.003622   \n",
       "28       0.009903      0.000750         0.003000        0.000070   \n",
       "29       0.025861      0.007001         0.003401        0.000679   \n",
       "30       0.009294      0.000251         0.003243        0.000321   \n",
       "31       0.031647      0.019594         0.003304        0.000420   \n",
       "32       0.009994      0.000701         0.003710        0.000653   \n",
       "33       0.026050      0.006627         0.004874        0.003363   \n",
       "34       0.009080      0.000366         0.003109        0.000123   \n",
       "35       0.021861      0.007830         0.004660        0.003240   \n",
       "36       0.009354      0.000184         0.002973        0.000156   \n",
       "37       0.022207      0.002107         0.003086        0.000254   \n",
       "38       0.013661      0.008077         0.004834        0.003239   \n",
       "39       0.028574      0.009203         0.002975        0.000131   \n",
       "40       0.010352      0.000377         0.003129        0.000078   \n",
       "41       0.026796      0.011886         0.003145        0.000137   \n",
       "42       0.011581      0.003353         0.003064        0.000161   \n",
       "43       0.024821      0.003438         0.003021        0.000111   \n",
       "44       0.011914      0.004968         0.004342        0.002468   \n",
       "45       0.025150      0.006246         0.003161        0.000167   \n",
       "46       0.010606      0.002115         0.003255        0.000190   \n",
       "47       0.020876      0.003329         0.005796        0.005462   \n",
       "48       0.009572      0.000263         0.002985        0.000069   \n",
       "49       0.025786      0.006031         0.003422        0.000379   \n",
       "50       0.011832      0.003365         0.003482        0.000769   \n",
       "51       0.031515      0.009426         0.003306        0.000437   \n",
       "52       0.010800      0.002425         0.004211        0.002111   \n",
       "53       0.032404      0.009806         0.003073        0.000183   \n",
       "54       0.009601      0.000628         0.003126        0.000318   \n",
       "55       0.023625      0.002964         0.003294        0.000338   \n",
       "56       0.009843      0.000654         0.003168        0.000083   \n",
       "57       0.028037      0.008285         0.003513        0.000572   \n",
       "58       0.012270      0.003356         0.004196        0.001956   \n",
       "59       0.018190      0.007359         0.002602        0.000535   \n",
       "\n",
       "   param_balancing__k_neighbors param_clf__C param_clf__solver  \\\n",
       "0                             2          100         liblinear   \n",
       "1                             2          100         newton-cg   \n",
       "2                             2           10         liblinear   \n",
       "3                             2           10         newton-cg   \n",
       "4                             2            1         liblinear   \n",
       "5                             2            1         newton-cg   \n",
       "6                             2          0.1         liblinear   \n",
       "7                             2          0.1         newton-cg   \n",
       "8                             2         0.01         liblinear   \n",
       "9                             2         0.01         newton-cg   \n",
       "10                            2        0.001         liblinear   \n",
       "11                            2        0.001         newton-cg   \n",
       "12                            5          100         liblinear   \n",
       "13                            5          100         newton-cg   \n",
       "14                            5           10         liblinear   \n",
       "15                            5           10         newton-cg   \n",
       "16                            5            1         liblinear   \n",
       "17                            5            1         newton-cg   \n",
       "18                            5          0.1         liblinear   \n",
       "19                            5          0.1         newton-cg   \n",
       "20                            5         0.01         liblinear   \n",
       "21                            5         0.01         newton-cg   \n",
       "22                            5        0.001         liblinear   \n",
       "23                            5        0.001         newton-cg   \n",
       "24                           10          100         liblinear   \n",
       "25                           10          100         newton-cg   \n",
       "26                           10           10         liblinear   \n",
       "27                           10           10         newton-cg   \n",
       "28                           10            1         liblinear   \n",
       "29                           10            1         newton-cg   \n",
       "30                           10          0.1         liblinear   \n",
       "31                           10          0.1         newton-cg   \n",
       "32                           10         0.01         liblinear   \n",
       "33                           10         0.01         newton-cg   \n",
       "34                           10        0.001         liblinear   \n",
       "35                           10        0.001         newton-cg   \n",
       "36                           15          100         liblinear   \n",
       "37                           15          100         newton-cg   \n",
       "38                           15           10         liblinear   \n",
       "39                           15           10         newton-cg   \n",
       "40                           15            1         liblinear   \n",
       "41                           15            1         newton-cg   \n",
       "42                           15          0.1         liblinear   \n",
       "43                           15          0.1         newton-cg   \n",
       "44                           15         0.01         liblinear   \n",
       "45                           15         0.01         newton-cg   \n",
       "46                           15        0.001         liblinear   \n",
       "47                           15        0.001         newton-cg   \n",
       "48                           20          100         liblinear   \n",
       "49                           20          100         newton-cg   \n",
       "50                           20           10         liblinear   \n",
       "51                           20           10         newton-cg   \n",
       "52                           20            1         liblinear   \n",
       "53                           20            1         newton-cg   \n",
       "54                           20          0.1         liblinear   \n",
       "55                           20          0.1         newton-cg   \n",
       "56                           20         0.01         liblinear   \n",
       "57                           20         0.01         newton-cg   \n",
       "58                           20        0.001         liblinear   \n",
       "59                           20        0.001         newton-cg   \n",
       "\n",
       "                                               params  split0_test_score  \\\n",
       "0   {'balancing__k_neighbors': 2, 'clf__C': 100, '...           0.543210   \n",
       "1   {'balancing__k_neighbors': 2, 'clf__C': 100, '...           0.567901   \n",
       "2   {'balancing__k_neighbors': 2, 'clf__C': 10, 'c...           0.536585   \n",
       "3   {'balancing__k_neighbors': 2, 'clf__C': 10, 'c...           0.560976   \n",
       "4   {'balancing__k_neighbors': 2, 'clf__C': 1, 'cl...           0.554217   \n",
       "5   {'balancing__k_neighbors': 2, 'clf__C': 1, 'cl...           0.560976   \n",
       "6   {'balancing__k_neighbors': 2, 'clf__C': 0.1, '...           0.543210   \n",
       "7   {'balancing__k_neighbors': 2, 'clf__C': 0.1, '...           0.531646   \n",
       "8   {'balancing__k_neighbors': 2, 'clf__C': 0.01, ...           0.564706   \n",
       "9   {'balancing__k_neighbors': 2, 'clf__C': 0.01, ...           0.550000   \n",
       "10  {'balancing__k_neighbors': 2, 'clf__C': 0.001,...           0.564706   \n",
       "11  {'balancing__k_neighbors': 2, 'clf__C': 0.001,...           0.543210   \n",
       "12  {'balancing__k_neighbors': 5, 'clf__C': 100, '...           0.554217   \n",
       "13  {'balancing__k_neighbors': 5, 'clf__C': 100, '...           0.554217   \n",
       "14  {'balancing__k_neighbors': 5, 'clf__C': 10, 'c...           0.536585   \n",
       "15  {'balancing__k_neighbors': 5, 'clf__C': 10, 'c...           0.554217   \n",
       "16  {'balancing__k_neighbors': 5, 'clf__C': 1, 'cl...           0.550000   \n",
       "17  {'balancing__k_neighbors': 5, 'clf__C': 1, 'cl...           0.536585   \n",
       "18  {'balancing__k_neighbors': 5, 'clf__C': 0.1, '...           0.536585   \n",
       "19  {'balancing__k_neighbors': 5, 'clf__C': 0.1, '...           0.556962   \n",
       "20  {'balancing__k_neighbors': 5, 'clf__C': 0.01, ...           0.564706   \n",
       "21  {'balancing__k_neighbors': 5, 'clf__C': 0.01, ...           0.543210   \n",
       "22  {'balancing__k_neighbors': 5, 'clf__C': 0.001,...           0.581395   \n",
       "23  {'balancing__k_neighbors': 5, 'clf__C': 0.001,...           0.550000   \n",
       "24  {'balancing__k_neighbors': 10, 'clf__C': 100, ...           0.550000   \n",
       "25  {'balancing__k_neighbors': 10, 'clf__C': 100, ...           0.550000   \n",
       "26  {'balancing__k_neighbors': 10, 'clf__C': 10, '...           0.560976   \n",
       "27  {'balancing__k_neighbors': 10, 'clf__C': 10, '...           0.536585   \n",
       "28  {'balancing__k_neighbors': 10, 'clf__C': 1, 'c...           0.536585   \n",
       "29  {'balancing__k_neighbors': 10, 'clf__C': 1, 'c...           0.550000   \n",
       "30  {'balancing__k_neighbors': 10, 'clf__C': 0.1, ...           0.554217   \n",
       "31  {'balancing__k_neighbors': 10, 'clf__C': 0.1, ...           0.543210   \n",
       "32  {'balancing__k_neighbors': 10, 'clf__C': 0.01,...           0.564706   \n",
       "33  {'balancing__k_neighbors': 10, 'clf__C': 0.01,...           0.536585   \n",
       "34  {'balancing__k_neighbors': 10, 'clf__C': 0.001...           0.564706   \n",
       "35  {'balancing__k_neighbors': 10, 'clf__C': 0.001...           0.543210   \n",
       "36  {'balancing__k_neighbors': 15, 'clf__C': 100, ...           0.560976   \n",
       "37  {'balancing__k_neighbors': 15, 'clf__C': 100, ...           0.560976   \n",
       "38  {'balancing__k_neighbors': 15, 'clf__C': 10, '...           0.554217   \n",
       "39  {'balancing__k_neighbors': 15, 'clf__C': 10, '...           0.554217   \n",
       "40  {'balancing__k_neighbors': 15, 'clf__C': 1, 'c...           0.554217   \n",
       "41  {'balancing__k_neighbors': 15, 'clf__C': 1, 'c...           0.554217   \n",
       "42  {'balancing__k_neighbors': 15, 'clf__C': 0.1, ...           0.536585   \n",
       "43  {'balancing__k_neighbors': 15, 'clf__C': 0.1, ...           0.554217   \n",
       "44  {'balancing__k_neighbors': 15, 'clf__C': 0.01,...           0.564706   \n",
       "45  {'balancing__k_neighbors': 15, 'clf__C': 0.01,...           0.543210   \n",
       "46  {'balancing__k_neighbors': 15, 'clf__C': 0.001...           0.581395   \n",
       "47  {'balancing__k_neighbors': 15, 'clf__C': 0.001...           0.560976   \n",
       "48  {'balancing__k_neighbors': 20, 'clf__C': 100, ...           0.560976   \n",
       "49  {'balancing__k_neighbors': 20, 'clf__C': 100, ...           0.556962   \n",
       "50  {'balancing__k_neighbors': 20, 'clf__C': 10, '...           0.554217   \n",
       "51  {'balancing__k_neighbors': 20, 'clf__C': 10, '...           0.560976   \n",
       "52  {'balancing__k_neighbors': 20, 'clf__C': 1, 'c...           0.554217   \n",
       "53  {'balancing__k_neighbors': 20, 'clf__C': 1, 'c...           0.536585   \n",
       "54  {'balancing__k_neighbors': 20, 'clf__C': 0.1, ...           0.536585   \n",
       "55  {'balancing__k_neighbors': 20, 'clf__C': 0.1, ...           0.554217   \n",
       "56  {'balancing__k_neighbors': 20, 'clf__C': 0.01,...           0.564706   \n",
       "57  {'balancing__k_neighbors': 20, 'clf__C': 0.01,...           0.550000   \n",
       "58  {'balancing__k_neighbors': 20, 'clf__C': 0.001...           0.564706   \n",
       "59  {'balancing__k_neighbors': 20, 'clf__C': 0.001...           0.536585   \n",
       "\n",
       "    split1_test_score  split2_test_score  split3_test_score  \\\n",
       "0            0.586667           0.636364           0.750000   \n",
       "1            0.594595           0.608696           0.757576   \n",
       "2            0.600000           0.600000           0.738462   \n",
       "3            0.608696           0.617647           0.769231   \n",
       "4            0.600000           0.626866           0.757576   \n",
       "5            0.602740           0.608696           0.741935   \n",
       "6            0.586667           0.608696           0.741935   \n",
       "7            0.608696           0.636364           0.750000   \n",
       "8            0.602410           0.591549           0.746269   \n",
       "9            0.594595           0.608696           0.727273   \n",
       "10           0.558140           0.594595           0.720000   \n",
       "11           0.575342           0.637681           0.735294   \n",
       "12           0.608696           0.646154           0.741935   \n",
       "13           0.594595           0.600000           0.741935   \n",
       "14           0.611111           0.608696           0.730159   \n",
       "15           0.602740           0.608696           0.750000   \n",
       "16           0.611111           0.646154           0.769231   \n",
       "17           0.594595           0.608696           0.741935   \n",
       "18           0.575342           0.626866           0.741935   \n",
       "19           0.611111           0.608696           0.750000   \n",
       "20           0.609756           0.591549           0.735294   \n",
       "21           0.594595           0.628571           0.750000   \n",
       "22           0.558140           0.594595           0.710526   \n",
       "23           0.575342           0.637681           0.724638   \n",
       "24           0.619718           0.626866           0.761905   \n",
       "25           0.586667           0.608696           0.750000   \n",
       "26           0.594595           0.636364           0.746269   \n",
       "27           0.619718           0.608696           0.750000   \n",
       "28           0.602740           0.608696           0.741935   \n",
       "29           0.594595           0.646154           0.741935   \n",
       "30           0.586667           0.608696           0.727273   \n",
       "31           0.600000           0.608696           0.741935   \n",
       "32           0.625000           0.602740           0.727273   \n",
       "33           0.594595           0.617647           0.709677   \n",
       "34           0.564706           0.594595           0.729730   \n",
       "35           0.575342           0.637681           0.724638   \n",
       "36           0.586667           0.656716           0.750000   \n",
       "37           0.586667           0.617647           0.709677   \n",
       "38           0.594595           0.666667           0.769231   \n",
       "39           0.602740           0.617647           0.721311   \n",
       "40           0.613333           0.608696           0.757576   \n",
       "41           0.602740           0.626866           0.738462   \n",
       "42           0.594595           0.608696           0.727273   \n",
       "43           0.591549           0.646154           0.761905   \n",
       "44           0.609756           0.608696           0.724638   \n",
       "45           0.594595           0.628571           0.757576   \n",
       "46           0.558140           0.594595           0.729730   \n",
       "47           0.575342           0.637681           0.735294   \n",
       "48           0.611111           0.600000           0.754098   \n",
       "49           0.602740           0.656716           0.750000   \n",
       "50           0.602740           0.608696           0.750000   \n",
       "51           0.600000           0.636364           0.750000   \n",
       "52           0.594595           0.617647           0.761905   \n",
       "53           0.586667           0.617647           0.750000   \n",
       "54           0.594595           0.608696           0.738462   \n",
       "55           0.600000           0.608696           0.750000   \n",
       "56           0.625000           0.608696           0.727273   \n",
       "57           0.578947           0.617647           0.769231   \n",
       "58           0.564706           0.594595           0.729730   \n",
       "59           0.567568           0.637681           0.735294   \n",
       "\n",
       "    split4_test_score  mean_test_score  std_test_score  rank_test_score  \n",
       "0            0.521739         0.607596        0.081316               35  \n",
       "1            0.555556         0.616865        0.072827               12  \n",
       "2            0.555556         0.606120        0.070684               38  \n",
       "3            0.521739         0.615658        0.084200               18  \n",
       "4            0.542857         0.616303        0.076921               14  \n",
       "5            0.521739         0.607217        0.074318               36  \n",
       "6            0.535211         0.603144        0.074528               49  \n",
       "7            0.521739         0.609689        0.082735               31  \n",
       "8            0.575342         0.616055        0.066388               16  \n",
       "9            0.542857         0.604684        0.066270               43  \n",
       "10           0.525000         0.592488        0.067483               59  \n",
       "11           0.537313         0.605768        0.073920               41  \n",
       "12           0.563380         0.622876        0.068076                2  \n",
       "13           0.563380         0.610825        0.067862               27  \n",
       "14           0.542857         0.605882        0.069648               40  \n",
       "15           0.542857         0.611702        0.073837               24  \n",
       "16           0.521739         0.619647        0.086703                6  \n",
       "17           0.542857         0.604934        0.074048               42  \n",
       "18           0.563380         0.608822        0.072731               33  \n",
       "19           0.563380         0.618030        0.069666                7  \n",
       "20           0.586667         0.617594        0.060575               10  \n",
       "21           0.527778         0.608831        0.079242               32  \n",
       "22           0.512821         0.591495        0.065700               60  \n",
       "23           0.529412         0.603415        0.070692               47  \n",
       "24           0.521739         0.616046        0.083260               17  \n",
       "25           0.521739         0.603420        0.079145               46  \n",
       "26           0.542857         0.616212        0.072416               15  \n",
       "27           0.535211         0.610042        0.078332               29  \n",
       "28           0.542857         0.606563        0.073892               37  \n",
       "29           0.521739         0.610885        0.077894               26  \n",
       "30           0.542857         0.603942        0.065932               45  \n",
       "31           0.521739         0.603116        0.076841               50  \n",
       "32           0.567568         0.617457        0.059337               11  \n",
       "33           0.550725         0.601846        0.061322               52  \n",
       "34           0.512821         0.593311        0.073112               58  \n",
       "35           0.507463         0.597667        0.076581               55  \n",
       "36           0.547945         0.620461        0.074878                4  \n",
       "37           0.521739         0.599341        0.063504               54  \n",
       "38           0.535211         0.623984        0.085475                1  \n",
       "39           0.542857         0.607754        0.063397               34  \n",
       "40           0.555556         0.617875        0.074239                8  \n",
       "41           0.542857         0.613028        0.069876               23  \n",
       "42           0.563380         0.606106        0.065543               39  \n",
       "43           0.521739         0.615113        0.084254               19  \n",
       "44           0.594595         0.620478        0.054559                3  \n",
       "45           0.550725         0.614935        0.077735               20  \n",
       "46           0.519481         0.596668        0.071254               56  \n",
       "47           0.507463         0.603351        0.077926               48  \n",
       "48           0.555556         0.616348        0.072155               13  \n",
       "49           0.521739         0.617631        0.080183                9  \n",
       "50           0.535211         0.610173        0.075312               28  \n",
       "51           0.521739         0.613816        0.078122               21  \n",
       "52           0.521739         0.610020        0.082792               30  \n",
       "53           0.521739         0.602528        0.081368               51  \n",
       "54           0.542857         0.604239        0.072764               44  \n",
       "55           0.542857         0.611154        0.073912               25  \n",
       "56           0.575342         0.620203        0.057813                5  \n",
       "57           0.550725         0.613310        0.081775               22  \n",
       "58           0.519481         0.594643        0.071680               57  \n",
       "59           0.529412         0.601308        0.077164               53  "
      ]
     },
     "execution_count": 49,
     "metadata": {
      "tags": []
     },
     "output_type": "execute_result"
    }
   ],
   "source": [
    "pd.DataFrame(grid_search.cv_results_)"
   ]
  },
  {
   "cell_type": "markdown",
   "metadata": {
    "id": "DUDIFPcG2PoU"
   },
   "source": [
    "> ## Model Performance Before Tuning"
   ]
  },
  {
   "cell_type": "code",
   "execution_count": null,
   "metadata": {
    "colab": {
     "base_uri": "https://localhost:8080/",
     "height": 170
    },
    "executionInfo": {
     "elapsed": 15811,
     "status": "ok",
     "timestamp": 1602646501209,
     "user": {
      "displayName": "Fathi Muhyi",
      "photoUrl": "https://lh3.googleusercontent.com/a-/AOh14GhChUnD9lp0uYHDjzFDqClMEcljUKZtuV7ArMBsmA=s64",
      "userId": "15936908794749616962"
     },
     "user_tz": -420
    },
    "id": "gryiwn1U2WWZ",
    "outputId": "fa8869c9-5df1-4bc7-9c23-8d261610618c"
   },
   "outputs": [
    {
     "name": "stdout",
     "output_type": "stream",
     "text": [
      "              precision    recall  f1-score   support\n",
      "\n",
      "           0       0.95      0.72      0.82       103\n",
      "           1       0.53      0.89      0.67        37\n",
      "\n",
      "    accuracy                           0.76       140\n",
      "   macro avg       0.74      0.81      0.74       140\n",
      "weighted avg       0.84      0.76      0.78       140\n",
      "\n"
     ]
    }
   ],
   "source": [
    "smote = SMOTE()\n",
    "model =  LogisticRegression()\n",
    "\n",
    "estimator = Pipeline([('balancing',smote),('clf',model)])\n",
    "\n",
    "estimator.fit(X_train_val,y_train_val)\n",
    "y_pred = estimator.predict(X_test)\n",
    "\n",
    "print(classification_report(y_test,y_pred))"
   ]
  },
  {
   "cell_type": "markdown",
   "metadata": {
    "id": "6zWKgj0I10fx"
   },
   "source": [
    "> ## Model Performance After Tuning"
   ]
  },
  {
   "cell_type": "code",
   "execution_count": null,
   "metadata": {
    "id": "KVtctzVQ1sg7"
   },
   "outputs": [],
   "source": [
    "grid_search.best_estimator_.fit(X_train_val,y_train_val)\n",
    "y_pred = grid_search.best_estimator_.predict(X_test)"
   ]
  },
  {
   "cell_type": "code",
   "execution_count": null,
   "metadata": {
    "colab": {
     "base_uri": "https://localhost:8080/",
     "height": 170
    },
    "executionInfo": {
     "elapsed": 15804,
     "status": "ok",
     "timestamp": 1602646501210,
     "user": {
      "displayName": "Fathi Muhyi",
      "photoUrl": "https://lh3.googleusercontent.com/a-/AOh14GhChUnD9lp0uYHDjzFDqClMEcljUKZtuV7ArMBsmA=s64",
      "userId": "15936908794749616962"
     },
     "user_tz": -420
    },
    "id": "6c_GUuBr17bj",
    "outputId": "73b52c62-10a8-48b2-ff65-b2d2eef301b8"
   },
   "outputs": [
    {
     "name": "stdout",
     "output_type": "stream",
     "text": [
      "              precision    recall  f1-score   support\n",
      "\n",
      "           0       0.96      0.71      0.82       103\n",
      "           1       0.53      0.92      0.67        37\n",
      "\n",
      "    accuracy                           0.76       140\n",
      "   macro avg       0.75      0.81      0.74       140\n",
      "weighted avg       0.85      0.76      0.78       140\n",
      "\n"
     ]
    }
   ],
   "source": [
    "print(classification_report(y_test,y_pred))"
   ]
  },
  {
   "cell_type": "code",
   "execution_count": null,
   "metadata": {
    "colab": {
     "base_uri": "https://localhost:8080/",
     "height": 296
    },
    "executionInfo": {
     "elapsed": 15798,
     "status": "ok",
     "timestamp": 1602646501210,
     "user": {
      "displayName": "Fathi Muhyi",
      "photoUrl": "https://lh3.googleusercontent.com/a-/AOh14GhChUnD9lp0uYHDjzFDqClMEcljUKZtuV7ArMBsmA=s64",
      "userId": "15936908794749616962"
     },
     "user_tz": -420
    },
    "id": "nqzB0wjf17pB",
    "outputId": "eb570024-d1a0-4e4c-9cee-2c1b6abf14d1"
   },
   "outputs": [
    {
     "data": {
      "text/plain": [
       "<sklearn.metrics._plot.roc_curve.RocCurveDisplay at 0x7f9b7f069e48>"
      ]
     },
     "execution_count": 53,
     "metadata": {
      "tags": []
     },
     "output_type": "execute_result"
    },
    {
     "data": {
      "image/png": "[encoded data removed]",
      "text/plain": [
       "<Figure size 432x288 with 1 Axes>"
      ]
     },
     "metadata": {
      "needs_background": "light",
      "tags": []
     },
     "output_type": "display_data"
    }
   ],
   "source": [
    "plot_roc_curve(grid_search.best_estimator_, X_test, y_test)"
   ]
  },
  {
   "cell_type": "markdown",
   "metadata": {
    "id": "J2aSIZ6CaJgq"
   },
   "source": [
    "# TASK : "
   ]
  },
  {
   "cell_type": "markdown",
   "metadata": {
    "id": "OYsuY_0KaS51"
   },
   "source": [
    "Repeat the 'Resampling Method : Non Performing Loan' section by adding hyperparameter tuning in each method 'Resampling : Undersampling', and 'Penalized' only."
   ]
  }
 ],
 "metadata": {
  "colab": {
   "authorship_tag": "ABX9TyNvbbBXxl8MEPliE6Oz8WL5",
   "collapsed_sections": [],
   "name": "Imbalance Classifcation - Hands On.ipynb",
   "provenance": [],
   "toc_visible": true
  },
  "kernelspec": {
   "display_name": "Python 3",
   "language": "python",
   "name": "python3"
  },
  "language_info": {
   "codemirror_mode": {
    "name": "ipython",
    "version": 3
   },
   "file_extension": ".py",
   "mimetype": "text/x-python",
   "name": "python",
   "nbconvert_exporter": "python",
   "pygments_lexer": "ipython3",
   "version": "3.8.5"
  }
 },
 "nbformat": 4,
 "nbformat_minor": 4
}
